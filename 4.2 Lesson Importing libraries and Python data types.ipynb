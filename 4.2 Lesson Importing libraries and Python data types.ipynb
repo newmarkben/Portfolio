{
 "cells": [
  {
   "cell_type": "markdown",
   "id": "ce19c928-7f93-4047-8a5b-6f6e66ab2ace",
   "metadata": {},
   "source": [
    "# Importing libraries"
   ]
  },
  {
   "cell_type": "code",
   "execution_count": 1,
   "id": "4e419089-241c-4fa0-82af-5652b9b22e00",
   "metadata": {},
   "outputs": [],
   "source": [
    "# import libraries\n",
    "import pandas as pd\n",
    "import numpy as np\n",
    "import os"
   ]
  },
  {
   "cell_type": "code",
   "execution_count": 19,
   "id": "377053a3-0286-4773-a2d9-f375b915089d",
   "metadata": {},
   "outputs": [],
   "source": [
    "x=10"
   ]
  },
  {
   "cell_type": "code",
   "execution_count": 21,
   "id": "9b5d8a96-3ee5-4073-b8d3-83165ec83113",
   "metadata": {},
   "outputs": [
    {
     "data": {
      "text/plain": [
       "10"
      ]
     },
     "execution_count": 21,
     "metadata": {},
     "output_type": "execute_result"
    }
   ],
   "source": [
    "x"
   ]
  },
  {
   "cell_type": "code",
   "execution_count": 23,
   "id": "66cfd671-7596-4c69-a6ce-c1dd8e39e3c4",
   "metadata": {},
   "outputs": [],
   "source": [
    "y=2"
   ]
  },
  {
   "cell_type": "code",
   "execution_count": 26,
   "id": "473f5aca-cece-4de0-875a-5232d5dcbc4e",
   "metadata": {},
   "outputs": [
    {
     "data": {
      "text/plain": [
       "2"
      ]
     },
     "execution_count": 26,
     "metadata": {},
     "output_type": "execute_result"
    }
   ],
   "source": [
    "y"
   ]
  },
  {
   "cell_type": "code",
   "execution_count": 40,
   "id": "a5b1e056-83ad-4e50-9ce5-46071af992ad",
   "metadata": {},
   "outputs": [
    {
     "data": {
      "text/plain": [
       "100"
      ]
     },
     "execution_count": 40,
     "metadata": {},
     "output_type": "execute_result"
    }
   ],
   "source": [
    "x*10"
   ]
  },
  {
   "cell_type": "code",
   "execution_count": 46,
   "id": "febdaeb0-3695-4949-a65f-e5214430d4ce",
   "metadata": {},
   "outputs": [
    {
     "data": {
      "text/plain": [
       "100"
      ]
     },
     "execution_count": 46,
     "metadata": {},
     "output_type": "execute_result"
    }
   ],
   "source": [
    "y*50"
   ]
  },
  {
   "cell_type": "code",
   "execution_count": 48,
   "id": "f8112658-f00d-4f16-9c30-702404840ab4",
   "metadata": {},
   "outputs": [
    {
     "data": {
      "text/plain": [
       "100"
      ]
     },
     "execution_count": 48,
     "metadata": {},
     "output_type": "execute_result"
    }
   ],
   "source": [
    "x*y*5"
   ]
  },
  {
   "cell_type": "code",
   "execution_count": 54,
   "id": "de9cad79-a13b-4eab-bd5c-a5ed8207d97c",
   "metadata": {},
   "outputs": [],
   "source": [
    "c=10.25/1.25"
   ]
  },
  {
   "cell_type": "code",
   "execution_count": 56,
   "id": "3deb4039-7be1-459a-ba9d-248b0705bd31",
   "metadata": {},
   "outputs": [],
   "source": [
    "d=15.15"
   ]
  },
  {
   "cell_type": "code",
   "execution_count": 60,
   "id": "1cd00f98-f5f0-4151-aa87-abadf5a9cb11",
   "metadata": {},
   "outputs": [
    {
     "data": {
      "text/plain": [
       "0.5412541254125411"
      ]
     },
     "execution_count": 60,
     "metadata": {},
     "output_type": "execute_result"
    }
   ],
   "source": [
    "c/d"
   ]
  },
  {
   "cell_type": "code",
   "execution_count": 65,
   "id": "86f9ad2a-b16a-4e9f-942e-e84adc1b9f88",
   "metadata": {},
   "outputs": [],
   "source": [
    "e= 'hello'\n"
   ]
  },
  {
   "cell_type": "code",
   "execution_count": 72,
   "id": "bc79e189-5865-4c0b-8f34-bdb1b48f69b0",
   "metadata": {},
   "outputs": [],
   "source": [
    "f = ' birds'"
   ]
  },
  {
   "cell_type": "code",
   "execution_count": 74,
   "id": "c159e7a7-bed5-4e37-a2db-545adcb94ee1",
   "metadata": {},
   "outputs": [
    {
     "data": {
      "text/plain": [
       "'hello birds'"
      ]
     },
     "execution_count": 74,
     "metadata": {},
     "output_type": "execute_result"
    }
   ],
   "source": [
    "e + f"
   ]
  }
 ],
 "metadata": {
  "kernelspec": {
   "display_name": "Python 3 (ipykernel)",
   "language": "python",
   "name": "python3"
  },
  "language_info": {
   "codemirror_mode": {
    "name": "ipython",
    "version": 3
   },
   "file_extension": ".py",
   "mimetype": "text/x-python",
   "name": "python",
   "nbconvert_exporter": "python",
   "pygments_lexer": "ipython3",
   "version": "3.12.4"
  }
 },
 "nbformat": 4,
 "nbformat_minor": 5
}
