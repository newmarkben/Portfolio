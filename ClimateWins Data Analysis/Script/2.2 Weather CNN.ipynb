{
 "cells": [
  {
   "cell_type": "code",
   "execution_count": 135,
   "id": "a11aa508",
   "metadata": {},
   "outputs": [],
   "source": [
    "import pandas as pd\n",
    "import numpy as np\n",
    "import seaborn as sns\n",
    "import os\n",
    "import operator\n",
    "import matplotlib.pyplot as plt\n",
    "from sklearn.preprocessing import LabelEncoder\n",
    "import tensorflow as tf\n",
    "from numpy import unique\n",
    "from numpy import reshape\n",
    "from tensorflow.keras.models import Sequential\n",
    "from tensorflow.keras.layers import Conv1D, Conv2D, Dense, BatchNormalization, Flatten, MaxPooling1D, Dropout\n",
    "from tensorflow.keras.utils import to_categorical\n",
    "from sklearn.model_selection import train_test_split"
   ]
  },
  {
   "cell_type": "code",
   "execution_count": 136,
   "id": "5ea05a5d",
   "metadata": {},
   "outputs": [],
   "source": [
    "path = r'D:\\WORK\\Bootcamp\\Machine Learning\\Achievement 1\\Project\\Data'"
   ]
  },
  {
   "cell_type": "code",
   "execution_count": 137,
   "id": "aa9c0ec9",
   "metadata": {},
   "outputs": [],
   "source": [
    "# Read the CSV file\n",
    "df = pd.read_csv(os.path.join(path, \"Original\", 'Dataset-weather-prediction-dataset-processed.csv'))\n",
    "df_ans= pd.read_csv(os.path.join(path, \"Original\", 'Dataset-Answers-Weather_Prediction_Pleasant_Weather.csv'))"
   ]
  },
  {
   "cell_type": "code",
   "execution_count": null,
   "id": "edfdfa64",
   "metadata": {},
   "outputs": [],
   "source": []
  },
  {
   "cell_type": "markdown",
   "id": "f02d5e59",
   "metadata": {},
   "source": [
    "# Wrangling"
   ]
  },
  {
   "cell_type": "markdown",
   "id": "1bead059",
   "metadata": {},
   "source": [
    "## Find bases that arent on answer sheet"
   ]
  },
  {
   "cell_type": "code",
   "execution_count": 138,
   "id": "73f1638a",
   "metadata": {},
   "outputs": [
    {
     "name": "stdout",
     "output_type": "stream",
     "text": [
      "Missing bases in df_ans: {'TOURS', 'ROMA', 'GDANSK'}\n"
     ]
    }
   ],
   "source": [
    "# Extract bases from df (columns ending with '_humidity')\n",
    "bases_in_df = {col.split('_')[0] for col in df.columns if col.endswith('_humidity')}\n",
    "\n",
    "# Extract bases from df_ans (columns ending with '_pleasant_weather')\n",
    "bases_in_df_ans = {col.split('_')[0] for col in df_ans.columns if col.endswith('_pleasant_weather')}\n",
    "\n",
    "# Find the missing \"bases\" in df_ans\n",
    "missing_bases = bases_in_df - bases_in_df_ans\n",
    "\n",
    "# Print the result\n",
    "print(\"Missing bases in df_ans:\", missing_bases)"
   ]
  },
  {
   "cell_type": "code",
   "execution_count": 139,
   "id": "c94b31a4",
   "metadata": {},
   "outputs": [
    {
     "name": "stdout",
     "output_type": "stream",
     "text": [
      "Columns dropped: ['GDANSK_cloud_cover', 'GDANSK_humidity', 'GDANSK_precipitation', 'GDANSK_snow_depth', 'GDANSK_temp_mean', 'GDANSK_temp_min', 'GDANSK_temp_max', 'ROMA_cloud_cover', 'ROMA_wind_speed', 'ROMA_humidity', 'ROMA_pressure', 'ROMA_sunshine', 'ROMA_temp_mean', 'TOURS_wind_speed', 'TOURS_humidity', 'TOURS_pressure', 'TOURS_global_radiation', 'TOURS_precipitation', 'TOURS_temp_mean', 'TOURS_temp_min', 'TOURS_temp_max']\n"
     ]
    },
    {
     "data": {
      "text/plain": [
       "['GDANSK_cloud_cover',\n",
       " 'GDANSK_humidity',\n",
       " 'GDANSK_precipitation',\n",
       " 'GDANSK_snow_depth',\n",
       " 'GDANSK_temp_mean',\n",
       " 'GDANSK_temp_min',\n",
       " 'GDANSK_temp_max',\n",
       " 'ROMA_cloud_cover',\n",
       " 'ROMA_wind_speed',\n",
       " 'ROMA_humidity',\n",
       " 'ROMA_pressure',\n",
       " 'ROMA_sunshine',\n",
       " 'ROMA_temp_mean',\n",
       " 'TOURS_wind_speed',\n",
       " 'TOURS_humidity',\n",
       " 'TOURS_pressure',\n",
       " 'TOURS_global_radiation',\n",
       " 'TOURS_precipitation',\n",
       " 'TOURS_temp_mean',\n",
       " 'TOURS_temp_min',\n",
       " 'TOURS_temp_max']"
      ]
     },
     "execution_count": 139,
     "metadata": {},
     "output_type": "execute_result"
    }
   ],
   "source": [
    "# Drop columns in df_ans that start with any missing base\n",
    "columns_to_drop = [col for col in df.columns if any(col.startswith(base) for base in missing_bases)]\n",
    "\n",
    "# Drop these columns from df_ans\n",
    "df = df.drop(columns=columns_to_drop)\n",
    "\n",
    "# Print confirmation\n",
    "print(f\"Columns dropped: {columns_to_drop}\")\n",
    "\n",
    "columns_to_drop"
   ]
  },
  {
   "cell_type": "code",
   "execution_count": 140,
   "id": "860e825a",
   "metadata": {},
   "outputs": [
    {
     "data": {
      "text/html": [
       "<div>\n",
       "<style scoped>\n",
       "    .dataframe tbody tr th:only-of-type {\n",
       "        vertical-align: middle;\n",
       "    }\n",
       "\n",
       "    .dataframe tbody tr th {\n",
       "        vertical-align: top;\n",
       "    }\n",
       "\n",
       "    .dataframe thead th {\n",
       "        text-align: right;\n",
       "    }\n",
       "</style>\n",
       "<table border=\"1\" class=\"dataframe\">\n",
       "  <thead>\n",
       "    <tr style=\"text-align: right;\">\n",
       "      <th></th>\n",
       "      <th>DATE</th>\n",
       "      <th>MONTH</th>\n",
       "      <th>BASEL_cloud_cover</th>\n",
       "      <th>BASEL_wind_speed</th>\n",
       "      <th>BASEL_humidity</th>\n",
       "      <th>BASEL_pressure</th>\n",
       "      <th>BASEL_global_radiation</th>\n",
       "      <th>BASEL_precipitation</th>\n",
       "      <th>BASEL_snow_depth</th>\n",
       "      <th>BASEL_sunshine</th>\n",
       "      <th>...</th>\n",
       "      <th>VALENTIA_cloud_cover</th>\n",
       "      <th>VALENTIA_humidity</th>\n",
       "      <th>VALENTIA_pressure</th>\n",
       "      <th>VALENTIA_global_radiation</th>\n",
       "      <th>VALENTIA_precipitation</th>\n",
       "      <th>VALENTIA_snow_depth</th>\n",
       "      <th>VALENTIA_sunshine</th>\n",
       "      <th>VALENTIA_temp_mean</th>\n",
       "      <th>VALENTIA_temp_min</th>\n",
       "      <th>VALENTIA_temp_max</th>\n",
       "    </tr>\n",
       "  </thead>\n",
       "  <tbody>\n",
       "    <tr>\n",
       "      <th>0</th>\n",
       "      <td>19600101</td>\n",
       "      <td>1</td>\n",
       "      <td>7</td>\n",
       "      <td>2.1</td>\n",
       "      <td>0.85</td>\n",
       "      <td>1.0180</td>\n",
       "      <td>0.32</td>\n",
       "      <td>0.09</td>\n",
       "      <td>0</td>\n",
       "      <td>0.7</td>\n",
       "      <td>...</td>\n",
       "      <td>5</td>\n",
       "      <td>0.88</td>\n",
       "      <td>1.0003</td>\n",
       "      <td>0.45</td>\n",
       "      <td>0.34</td>\n",
       "      <td>0</td>\n",
       "      <td>4.7</td>\n",
       "      <td>8.5</td>\n",
       "      <td>6.0</td>\n",
       "      <td>10.9</td>\n",
       "    </tr>\n",
       "    <tr>\n",
       "      <th>1</th>\n",
       "      <td>19600102</td>\n",
       "      <td>1</td>\n",
       "      <td>6</td>\n",
       "      <td>2.1</td>\n",
       "      <td>0.84</td>\n",
       "      <td>1.0180</td>\n",
       "      <td>0.36</td>\n",
       "      <td>1.05</td>\n",
       "      <td>0</td>\n",
       "      <td>1.1</td>\n",
       "      <td>...</td>\n",
       "      <td>7</td>\n",
       "      <td>0.91</td>\n",
       "      <td>1.0007</td>\n",
       "      <td>0.25</td>\n",
       "      <td>0.84</td>\n",
       "      <td>0</td>\n",
       "      <td>0.7</td>\n",
       "      <td>8.9</td>\n",
       "      <td>5.6</td>\n",
       "      <td>12.1</td>\n",
       "    </tr>\n",
       "    <tr>\n",
       "      <th>2</th>\n",
       "      <td>19600103</td>\n",
       "      <td>1</td>\n",
       "      <td>8</td>\n",
       "      <td>2.1</td>\n",
       "      <td>0.90</td>\n",
       "      <td>1.0180</td>\n",
       "      <td>0.18</td>\n",
       "      <td>0.30</td>\n",
       "      <td>0</td>\n",
       "      <td>0.0</td>\n",
       "      <td>...</td>\n",
       "      <td>7</td>\n",
       "      <td>0.91</td>\n",
       "      <td>1.0096</td>\n",
       "      <td>0.17</td>\n",
       "      <td>0.08</td>\n",
       "      <td>0</td>\n",
       "      <td>0.1</td>\n",
       "      <td>10.5</td>\n",
       "      <td>8.1</td>\n",
       "      <td>12.9</td>\n",
       "    </tr>\n",
       "    <tr>\n",
       "      <th>3</th>\n",
       "      <td>19600104</td>\n",
       "      <td>1</td>\n",
       "      <td>3</td>\n",
       "      <td>2.1</td>\n",
       "      <td>0.92</td>\n",
       "      <td>1.0180</td>\n",
       "      <td>0.58</td>\n",
       "      <td>0.00</td>\n",
       "      <td>0</td>\n",
       "      <td>4.1</td>\n",
       "      <td>...</td>\n",
       "      <td>7</td>\n",
       "      <td>0.86</td>\n",
       "      <td>1.0184</td>\n",
       "      <td>0.13</td>\n",
       "      <td>0.98</td>\n",
       "      <td>0</td>\n",
       "      <td>0.0</td>\n",
       "      <td>7.4</td>\n",
       "      <td>7.3</td>\n",
       "      <td>10.6</td>\n",
       "    </tr>\n",
       "    <tr>\n",
       "      <th>4</th>\n",
       "      <td>19600105</td>\n",
       "      <td>1</td>\n",
       "      <td>6</td>\n",
       "      <td>2.1</td>\n",
       "      <td>0.95</td>\n",
       "      <td>1.0180</td>\n",
       "      <td>0.65</td>\n",
       "      <td>0.14</td>\n",
       "      <td>0</td>\n",
       "      <td>5.4</td>\n",
       "      <td>...</td>\n",
       "      <td>3</td>\n",
       "      <td>0.80</td>\n",
       "      <td>1.0328</td>\n",
       "      <td>0.46</td>\n",
       "      <td>0.00</td>\n",
       "      <td>0</td>\n",
       "      <td>5.7</td>\n",
       "      <td>5.7</td>\n",
       "      <td>3.0</td>\n",
       "      <td>8.4</td>\n",
       "    </tr>\n",
       "    <tr>\n",
       "      <th>...</th>\n",
       "      <td>...</td>\n",
       "      <td>...</td>\n",
       "      <td>...</td>\n",
       "      <td>...</td>\n",
       "      <td>...</td>\n",
       "      <td>...</td>\n",
       "      <td>...</td>\n",
       "      <td>...</td>\n",
       "      <td>...</td>\n",
       "      <td>...</td>\n",
       "      <td>...</td>\n",
       "      <td>...</td>\n",
       "      <td>...</td>\n",
       "      <td>...</td>\n",
       "      <td>...</td>\n",
       "      <td>...</td>\n",
       "      <td>...</td>\n",
       "      <td>...</td>\n",
       "      <td>...</td>\n",
       "      <td>...</td>\n",
       "      <td>...</td>\n",
       "    </tr>\n",
       "    <tr>\n",
       "      <th>22945</th>\n",
       "      <td>20221027</td>\n",
       "      <td>10</td>\n",
       "      <td>1</td>\n",
       "      <td>2.1</td>\n",
       "      <td>0.79</td>\n",
       "      <td>1.0248</td>\n",
       "      <td>1.34</td>\n",
       "      <td>0.22</td>\n",
       "      <td>0</td>\n",
       "      <td>7.7</td>\n",
       "      <td>...</td>\n",
       "      <td>5</td>\n",
       "      <td>0.82</td>\n",
       "      <td>1.0142</td>\n",
       "      <td>1.13</td>\n",
       "      <td>0.41</td>\n",
       "      <td>0</td>\n",
       "      <td>3.4</td>\n",
       "      <td>10.7</td>\n",
       "      <td>7.9</td>\n",
       "      <td>13.5</td>\n",
       "    </tr>\n",
       "    <tr>\n",
       "      <th>22946</th>\n",
       "      <td>20221028</td>\n",
       "      <td>10</td>\n",
       "      <td>6</td>\n",
       "      <td>2.1</td>\n",
       "      <td>0.77</td>\n",
       "      <td>1.0244</td>\n",
       "      <td>1.34</td>\n",
       "      <td>0.22</td>\n",
       "      <td>0</td>\n",
       "      <td>5.4</td>\n",
       "      <td>...</td>\n",
       "      <td>5</td>\n",
       "      <td>0.82</td>\n",
       "      <td>1.0142</td>\n",
       "      <td>1.13</td>\n",
       "      <td>0.41</td>\n",
       "      <td>0</td>\n",
       "      <td>3.4</td>\n",
       "      <td>10.7</td>\n",
       "      <td>7.9</td>\n",
       "      <td>13.5</td>\n",
       "    </tr>\n",
       "    <tr>\n",
       "      <th>22947</th>\n",
       "      <td>20221029</td>\n",
       "      <td>10</td>\n",
       "      <td>4</td>\n",
       "      <td>2.1</td>\n",
       "      <td>0.76</td>\n",
       "      <td>1.0227</td>\n",
       "      <td>1.34</td>\n",
       "      <td>0.22</td>\n",
       "      <td>0</td>\n",
       "      <td>6.1</td>\n",
       "      <td>...</td>\n",
       "      <td>5</td>\n",
       "      <td>0.82</td>\n",
       "      <td>1.0142</td>\n",
       "      <td>1.13</td>\n",
       "      <td>0.41</td>\n",
       "      <td>0</td>\n",
       "      <td>3.4</td>\n",
       "      <td>10.7</td>\n",
       "      <td>7.9</td>\n",
       "      <td>13.5</td>\n",
       "    </tr>\n",
       "    <tr>\n",
       "      <th>22948</th>\n",
       "      <td>20221030</td>\n",
       "      <td>10</td>\n",
       "      <td>5</td>\n",
       "      <td>2.1</td>\n",
       "      <td>0.80</td>\n",
       "      <td>1.0212</td>\n",
       "      <td>1.34</td>\n",
       "      <td>0.22</td>\n",
       "      <td>0</td>\n",
       "      <td>5.8</td>\n",
       "      <td>...</td>\n",
       "      <td>5</td>\n",
       "      <td>0.82</td>\n",
       "      <td>1.0142</td>\n",
       "      <td>1.13</td>\n",
       "      <td>0.41</td>\n",
       "      <td>0</td>\n",
       "      <td>3.4</td>\n",
       "      <td>10.7</td>\n",
       "      <td>7.9</td>\n",
       "      <td>13.5</td>\n",
       "    </tr>\n",
       "    <tr>\n",
       "      <th>22949</th>\n",
       "      <td>20221031</td>\n",
       "      <td>10</td>\n",
       "      <td>5</td>\n",
       "      <td>2.1</td>\n",
       "      <td>0.84</td>\n",
       "      <td>1.0193</td>\n",
       "      <td>1.34</td>\n",
       "      <td>0.22</td>\n",
       "      <td>0</td>\n",
       "      <td>3.2</td>\n",
       "      <td>...</td>\n",
       "      <td>5</td>\n",
       "      <td>0.82</td>\n",
       "      <td>1.0142</td>\n",
       "      <td>1.13</td>\n",
       "      <td>0.41</td>\n",
       "      <td>0</td>\n",
       "      <td>3.4</td>\n",
       "      <td>10.7</td>\n",
       "      <td>7.9</td>\n",
       "      <td>13.5</td>\n",
       "    </tr>\n",
       "  </tbody>\n",
       "</table>\n",
       "<p>22950 rows × 149 columns</p>\n",
       "</div>"
      ],
      "text/plain": [
       "           DATE  MONTH  BASEL_cloud_cover  BASEL_wind_speed  BASEL_humidity  \\\n",
       "0      19600101      1                  7               2.1            0.85   \n",
       "1      19600102      1                  6               2.1            0.84   \n",
       "2      19600103      1                  8               2.1            0.90   \n",
       "3      19600104      1                  3               2.1            0.92   \n",
       "4      19600105      1                  6               2.1            0.95   \n",
       "...         ...    ...                ...               ...             ...   \n",
       "22945  20221027     10                  1               2.1            0.79   \n",
       "22946  20221028     10                  6               2.1            0.77   \n",
       "22947  20221029     10                  4               2.1            0.76   \n",
       "22948  20221030     10                  5               2.1            0.80   \n",
       "22949  20221031     10                  5               2.1            0.84   \n",
       "\n",
       "       BASEL_pressure  BASEL_global_radiation  BASEL_precipitation  \\\n",
       "0              1.0180                    0.32                 0.09   \n",
       "1              1.0180                    0.36                 1.05   \n",
       "2              1.0180                    0.18                 0.30   \n",
       "3              1.0180                    0.58                 0.00   \n",
       "4              1.0180                    0.65                 0.14   \n",
       "...               ...                     ...                  ...   \n",
       "22945          1.0248                    1.34                 0.22   \n",
       "22946          1.0244                    1.34                 0.22   \n",
       "22947          1.0227                    1.34                 0.22   \n",
       "22948          1.0212                    1.34                 0.22   \n",
       "22949          1.0193                    1.34                 0.22   \n",
       "\n",
       "       BASEL_snow_depth  BASEL_sunshine  ...  VALENTIA_cloud_cover  \\\n",
       "0                     0             0.7  ...                     5   \n",
       "1                     0             1.1  ...                     7   \n",
       "2                     0             0.0  ...                     7   \n",
       "3                     0             4.1  ...                     7   \n",
       "4                     0             5.4  ...                     3   \n",
       "...                 ...             ...  ...                   ...   \n",
       "22945                 0             7.7  ...                     5   \n",
       "22946                 0             5.4  ...                     5   \n",
       "22947                 0             6.1  ...                     5   \n",
       "22948                 0             5.8  ...                     5   \n",
       "22949                 0             3.2  ...                     5   \n",
       "\n",
       "       VALENTIA_humidity  VALENTIA_pressure  VALENTIA_global_radiation  \\\n",
       "0                   0.88             1.0003                       0.45   \n",
       "1                   0.91             1.0007                       0.25   \n",
       "2                   0.91             1.0096                       0.17   \n",
       "3                   0.86             1.0184                       0.13   \n",
       "4                   0.80             1.0328                       0.46   \n",
       "...                  ...                ...                        ...   \n",
       "22945               0.82             1.0142                       1.13   \n",
       "22946               0.82             1.0142                       1.13   \n",
       "22947               0.82             1.0142                       1.13   \n",
       "22948               0.82             1.0142                       1.13   \n",
       "22949               0.82             1.0142                       1.13   \n",
       "\n",
       "       VALENTIA_precipitation  VALENTIA_snow_depth  VALENTIA_sunshine  \\\n",
       "0                        0.34                    0                4.7   \n",
       "1                        0.84                    0                0.7   \n",
       "2                        0.08                    0                0.1   \n",
       "3                        0.98                    0                0.0   \n",
       "4                        0.00                    0                5.7   \n",
       "...                       ...                  ...                ...   \n",
       "22945                    0.41                    0                3.4   \n",
       "22946                    0.41                    0                3.4   \n",
       "22947                    0.41                    0                3.4   \n",
       "22948                    0.41                    0                3.4   \n",
       "22949                    0.41                    0                3.4   \n",
       "\n",
       "       VALENTIA_temp_mean  VALENTIA_temp_min  VALENTIA_temp_max  \n",
       "0                     8.5                6.0               10.9  \n",
       "1                     8.9                5.6               12.1  \n",
       "2                    10.5                8.1               12.9  \n",
       "3                     7.4                7.3               10.6  \n",
       "4                     5.7                3.0                8.4  \n",
       "...                   ...                ...                ...  \n",
       "22945                10.7                7.9               13.5  \n",
       "22946                10.7                7.9               13.5  \n",
       "22947                10.7                7.9               13.5  \n",
       "22948                10.7                7.9               13.5  \n",
       "22949                10.7                7.9               13.5  \n",
       "\n",
       "[22950 rows x 149 columns]"
      ]
     },
     "execution_count": 140,
     "metadata": {},
     "output_type": "execute_result"
    }
   ],
   "source": [
    "df"
   ]
  },
  {
   "cell_type": "code",
   "execution_count": 141,
   "id": "34b3176b",
   "metadata": {},
   "outputs": [
    {
     "data": {
      "text/html": [
       "<div>\n",
       "<style scoped>\n",
       "    .dataframe tbody tr th:only-of-type {\n",
       "        vertical-align: middle;\n",
       "    }\n",
       "\n",
       "    .dataframe tbody tr th {\n",
       "        vertical-align: top;\n",
       "    }\n",
       "\n",
       "    .dataframe thead th {\n",
       "        text-align: right;\n",
       "    }\n",
       "</style>\n",
       "<table border=\"1\" class=\"dataframe\">\n",
       "  <thead>\n",
       "    <tr style=\"text-align: right;\">\n",
       "      <th></th>\n",
       "      <th>DATE</th>\n",
       "      <th>BASEL_pleasant_weather</th>\n",
       "      <th>BELGRADE_pleasant_weather</th>\n",
       "      <th>BUDAPEST_pleasant_weather</th>\n",
       "      <th>DEBILT_pleasant_weather</th>\n",
       "      <th>DUSSELDORF_pleasant_weather</th>\n",
       "      <th>HEATHROW_pleasant_weather</th>\n",
       "      <th>KASSEL_pleasant_weather</th>\n",
       "      <th>LJUBLJANA_pleasant_weather</th>\n",
       "      <th>MAASTRICHT_pleasant_weather</th>\n",
       "      <th>MADRID_pleasant_weather</th>\n",
       "      <th>MUNCHENB_pleasant_weather</th>\n",
       "      <th>OSLO_pleasant_weather</th>\n",
       "      <th>SONNBLICK_pleasant_weather</th>\n",
       "      <th>STOCKHOLM_pleasant_weather</th>\n",
       "      <th>VALENTIA_pleasant_weather</th>\n",
       "    </tr>\n",
       "  </thead>\n",
       "  <tbody>\n",
       "    <tr>\n",
       "      <th>0</th>\n",
       "      <td>19600101</td>\n",
       "      <td>0</td>\n",
       "      <td>0</td>\n",
       "      <td>0</td>\n",
       "      <td>0</td>\n",
       "      <td>0</td>\n",
       "      <td>0</td>\n",
       "      <td>0</td>\n",
       "      <td>0</td>\n",
       "      <td>0</td>\n",
       "      <td>0</td>\n",
       "      <td>0</td>\n",
       "      <td>0</td>\n",
       "      <td>0</td>\n",
       "      <td>0</td>\n",
       "      <td>0</td>\n",
       "    </tr>\n",
       "    <tr>\n",
       "      <th>1</th>\n",
       "      <td>19600102</td>\n",
       "      <td>0</td>\n",
       "      <td>0</td>\n",
       "      <td>0</td>\n",
       "      <td>0</td>\n",
       "      <td>0</td>\n",
       "      <td>0</td>\n",
       "      <td>0</td>\n",
       "      <td>0</td>\n",
       "      <td>0</td>\n",
       "      <td>0</td>\n",
       "      <td>0</td>\n",
       "      <td>0</td>\n",
       "      <td>0</td>\n",
       "      <td>0</td>\n",
       "      <td>0</td>\n",
       "    </tr>\n",
       "    <tr>\n",
       "      <th>2</th>\n",
       "      <td>19600103</td>\n",
       "      <td>0</td>\n",
       "      <td>0</td>\n",
       "      <td>0</td>\n",
       "      <td>0</td>\n",
       "      <td>0</td>\n",
       "      <td>0</td>\n",
       "      <td>0</td>\n",
       "      <td>0</td>\n",
       "      <td>0</td>\n",
       "      <td>0</td>\n",
       "      <td>0</td>\n",
       "      <td>0</td>\n",
       "      <td>0</td>\n",
       "      <td>0</td>\n",
       "      <td>0</td>\n",
       "    </tr>\n",
       "    <tr>\n",
       "      <th>3</th>\n",
       "      <td>19600104</td>\n",
       "      <td>0</td>\n",
       "      <td>0</td>\n",
       "      <td>0</td>\n",
       "      <td>0</td>\n",
       "      <td>0</td>\n",
       "      <td>0</td>\n",
       "      <td>0</td>\n",
       "      <td>0</td>\n",
       "      <td>0</td>\n",
       "      <td>0</td>\n",
       "      <td>0</td>\n",
       "      <td>0</td>\n",
       "      <td>0</td>\n",
       "      <td>0</td>\n",
       "      <td>0</td>\n",
       "    </tr>\n",
       "    <tr>\n",
       "      <th>4</th>\n",
       "      <td>19600105</td>\n",
       "      <td>0</td>\n",
       "      <td>0</td>\n",
       "      <td>0</td>\n",
       "      <td>0</td>\n",
       "      <td>0</td>\n",
       "      <td>0</td>\n",
       "      <td>0</td>\n",
       "      <td>0</td>\n",
       "      <td>0</td>\n",
       "      <td>0</td>\n",
       "      <td>0</td>\n",
       "      <td>0</td>\n",
       "      <td>0</td>\n",
       "      <td>0</td>\n",
       "      <td>0</td>\n",
       "    </tr>\n",
       "    <tr>\n",
       "      <th>...</th>\n",
       "      <td>...</td>\n",
       "      <td>...</td>\n",
       "      <td>...</td>\n",
       "      <td>...</td>\n",
       "      <td>...</td>\n",
       "      <td>...</td>\n",
       "      <td>...</td>\n",
       "      <td>...</td>\n",
       "      <td>...</td>\n",
       "      <td>...</td>\n",
       "      <td>...</td>\n",
       "      <td>...</td>\n",
       "      <td>...</td>\n",
       "      <td>...</td>\n",
       "      <td>...</td>\n",
       "      <td>...</td>\n",
       "    </tr>\n",
       "    <tr>\n",
       "      <th>22945</th>\n",
       "      <td>20221027</td>\n",
       "      <td>0</td>\n",
       "      <td>0</td>\n",
       "      <td>0</td>\n",
       "      <td>0</td>\n",
       "      <td>0</td>\n",
       "      <td>0</td>\n",
       "      <td>0</td>\n",
       "      <td>0</td>\n",
       "      <td>0</td>\n",
       "      <td>0</td>\n",
       "      <td>0</td>\n",
       "      <td>0</td>\n",
       "      <td>0</td>\n",
       "      <td>0</td>\n",
       "      <td>0</td>\n",
       "    </tr>\n",
       "    <tr>\n",
       "      <th>22946</th>\n",
       "      <td>20221028</td>\n",
       "      <td>0</td>\n",
       "      <td>0</td>\n",
       "      <td>0</td>\n",
       "      <td>0</td>\n",
       "      <td>0</td>\n",
       "      <td>0</td>\n",
       "      <td>0</td>\n",
       "      <td>0</td>\n",
       "      <td>0</td>\n",
       "      <td>0</td>\n",
       "      <td>0</td>\n",
       "      <td>0</td>\n",
       "      <td>0</td>\n",
       "      <td>0</td>\n",
       "      <td>0</td>\n",
       "    </tr>\n",
       "    <tr>\n",
       "      <th>22947</th>\n",
       "      <td>20221029</td>\n",
       "      <td>0</td>\n",
       "      <td>0</td>\n",
       "      <td>0</td>\n",
       "      <td>0</td>\n",
       "      <td>0</td>\n",
       "      <td>0</td>\n",
       "      <td>0</td>\n",
       "      <td>0</td>\n",
       "      <td>0</td>\n",
       "      <td>0</td>\n",
       "      <td>0</td>\n",
       "      <td>0</td>\n",
       "      <td>0</td>\n",
       "      <td>0</td>\n",
       "      <td>0</td>\n",
       "    </tr>\n",
       "    <tr>\n",
       "      <th>22948</th>\n",
       "      <td>20221030</td>\n",
       "      <td>0</td>\n",
       "      <td>0</td>\n",
       "      <td>0</td>\n",
       "      <td>0</td>\n",
       "      <td>0</td>\n",
       "      <td>0</td>\n",
       "      <td>0</td>\n",
       "      <td>0</td>\n",
       "      <td>0</td>\n",
       "      <td>0</td>\n",
       "      <td>0</td>\n",
       "      <td>0</td>\n",
       "      <td>0</td>\n",
       "      <td>0</td>\n",
       "      <td>0</td>\n",
       "    </tr>\n",
       "    <tr>\n",
       "      <th>22949</th>\n",
       "      <td>20221031</td>\n",
       "      <td>0</td>\n",
       "      <td>0</td>\n",
       "      <td>0</td>\n",
       "      <td>0</td>\n",
       "      <td>0</td>\n",
       "      <td>0</td>\n",
       "      <td>0</td>\n",
       "      <td>0</td>\n",
       "      <td>0</td>\n",
       "      <td>0</td>\n",
       "      <td>0</td>\n",
       "      <td>0</td>\n",
       "      <td>0</td>\n",
       "      <td>0</td>\n",
       "      <td>0</td>\n",
       "    </tr>\n",
       "  </tbody>\n",
       "</table>\n",
       "<p>22950 rows × 16 columns</p>\n",
       "</div>"
      ],
      "text/plain": [
       "           DATE  BASEL_pleasant_weather  BELGRADE_pleasant_weather  \\\n",
       "0      19600101                       0                          0   \n",
       "1      19600102                       0                          0   \n",
       "2      19600103                       0                          0   \n",
       "3      19600104                       0                          0   \n",
       "4      19600105                       0                          0   \n",
       "...         ...                     ...                        ...   \n",
       "22945  20221027                       0                          0   \n",
       "22946  20221028                       0                          0   \n",
       "22947  20221029                       0                          0   \n",
       "22948  20221030                       0                          0   \n",
       "22949  20221031                       0                          0   \n",
       "\n",
       "       BUDAPEST_pleasant_weather  DEBILT_pleasant_weather  \\\n",
       "0                              0                        0   \n",
       "1                              0                        0   \n",
       "2                              0                        0   \n",
       "3                              0                        0   \n",
       "4                              0                        0   \n",
       "...                          ...                      ...   \n",
       "22945                          0                        0   \n",
       "22946                          0                        0   \n",
       "22947                          0                        0   \n",
       "22948                          0                        0   \n",
       "22949                          0                        0   \n",
       "\n",
       "       DUSSELDORF_pleasant_weather  HEATHROW_pleasant_weather  \\\n",
       "0                                0                          0   \n",
       "1                                0                          0   \n",
       "2                                0                          0   \n",
       "3                                0                          0   \n",
       "4                                0                          0   \n",
       "...                            ...                        ...   \n",
       "22945                            0                          0   \n",
       "22946                            0                          0   \n",
       "22947                            0                          0   \n",
       "22948                            0                          0   \n",
       "22949                            0                          0   \n",
       "\n",
       "       KASSEL_pleasant_weather  LJUBLJANA_pleasant_weather  \\\n",
       "0                            0                           0   \n",
       "1                            0                           0   \n",
       "2                            0                           0   \n",
       "3                            0                           0   \n",
       "4                            0                           0   \n",
       "...                        ...                         ...   \n",
       "22945                        0                           0   \n",
       "22946                        0                           0   \n",
       "22947                        0                           0   \n",
       "22948                        0                           0   \n",
       "22949                        0                           0   \n",
       "\n",
       "       MAASTRICHT_pleasant_weather  MADRID_pleasant_weather  \\\n",
       "0                                0                        0   \n",
       "1                                0                        0   \n",
       "2                                0                        0   \n",
       "3                                0                        0   \n",
       "4                                0                        0   \n",
       "...                            ...                      ...   \n",
       "22945                            0                        0   \n",
       "22946                            0                        0   \n",
       "22947                            0                        0   \n",
       "22948                            0                        0   \n",
       "22949                            0                        0   \n",
       "\n",
       "       MUNCHENB_pleasant_weather  OSLO_pleasant_weather  \\\n",
       "0                              0                      0   \n",
       "1                              0                      0   \n",
       "2                              0                      0   \n",
       "3                              0                      0   \n",
       "4                              0                      0   \n",
       "...                          ...                    ...   \n",
       "22945                          0                      0   \n",
       "22946                          0                      0   \n",
       "22947                          0                      0   \n",
       "22948                          0                      0   \n",
       "22949                          0                      0   \n",
       "\n",
       "       SONNBLICK_pleasant_weather  STOCKHOLM_pleasant_weather  \\\n",
       "0                               0                           0   \n",
       "1                               0                           0   \n",
       "2                               0                           0   \n",
       "3                               0                           0   \n",
       "4                               0                           0   \n",
       "...                           ...                         ...   \n",
       "22945                           0                           0   \n",
       "22946                           0                           0   \n",
       "22947                           0                           0   \n",
       "22948                           0                           0   \n",
       "22949                           0                           0   \n",
       "\n",
       "       VALENTIA_pleasant_weather  \n",
       "0                              0  \n",
       "1                              0  \n",
       "2                              0  \n",
       "3                              0  \n",
       "4                              0  \n",
       "...                          ...  \n",
       "22945                          0  \n",
       "22946                          0  \n",
       "22947                          0  \n",
       "22948                          0  \n",
       "22949                          0  \n",
       "\n",
       "[22950 rows x 16 columns]"
      ]
     },
     "execution_count": 141,
     "metadata": {},
     "output_type": "execute_result"
    }
   ],
   "source": [
    "df_ans"
   ]
  },
  {
   "cell_type": "markdown",
   "id": "5ca5e550",
   "metadata": {},
   "source": [
    "## Find years with less missing data"
   ]
  },
  {
   "cell_type": "code",
   "execution_count": 142,
   "id": "b055785f",
   "metadata": {},
   "outputs": [
    {
     "name": "stdout",
     "output_type": "stream",
     "text": [
      "    Year  Count\n",
      "0   1960    366\n",
      "1   1961    365\n",
      "2   1962    365\n",
      "3   1963    365\n",
      "4   1964    366\n",
      "..   ...    ...\n",
      "58  2018    365\n",
      "59  2019    365\n",
      "60  2020    366\n",
      "61  2021    365\n",
      "62  2022    304\n",
      "\n",
      "[63 rows x 2 columns]\n"
     ]
    }
   ],
   "source": [
    "# Ensure DATE column is of string type\n",
    "df['Year'] = df['DATE'].astype(str).str[:4]  # Extract the year from the DATE column\n",
    "\n",
    "# Count the number of entries for each year\n",
    "year_counts = df.groupby('Year').size().reset_index(name='Count')\n",
    "\n",
    "# Display the result\n",
    "print(year_counts)"
   ]
  },
  {
   "cell_type": "code",
   "execution_count": 143,
   "id": "c2cabf89",
   "metadata": {},
   "outputs": [
    {
     "name": "stdout",
     "output_type": "stream",
     "text": [
      "       DATE  MONTH  BASEL_cloud_cover  BASEL_wind_speed  BASEL_humidity  \\\n",
      "0  19600101      1                  7               2.1            0.85   \n",
      "1  19600102      1                  6               2.1            0.84   \n",
      "2  19600103      1                  8               2.1            0.90   \n",
      "3  19600104      1                  3               2.1            0.92   \n",
      "4  19600105      1                  6               2.1            0.95   \n",
      "\n",
      "   BASEL_pressure  BASEL_global_radiation  BASEL_precipitation  \\\n",
      "0           1.018                    0.32                 0.09   \n",
      "1           1.018                    0.36                 1.05   \n",
      "2           1.018                    0.18                 0.30   \n",
      "3           1.018                    0.58                 0.00   \n",
      "4           1.018                    0.65                 0.14   \n",
      "\n",
      "   BASEL_snow_depth  BASEL_sunshine  ...  VALENTIA_humidity  \\\n",
      "0                 0             0.7  ...               0.88   \n",
      "1                 0             1.1  ...               0.91   \n",
      "2                 0             0.0  ...               0.91   \n",
      "3                 0             4.1  ...               0.86   \n",
      "4                 0             5.4  ...               0.80   \n",
      "\n",
      "   VALENTIA_pressure  VALENTIA_global_radiation  VALENTIA_precipitation  \\\n",
      "0             1.0003                       0.45                    0.34   \n",
      "1             1.0007                       0.25                    0.84   \n",
      "2             1.0096                       0.17                    0.08   \n",
      "3             1.0184                       0.13                    0.98   \n",
      "4             1.0328                       0.46                    0.00   \n",
      "\n",
      "   VALENTIA_snow_depth  VALENTIA_sunshine  VALENTIA_temp_mean  \\\n",
      "0                    0                4.7                 8.5   \n",
      "1                    0                0.7                 8.9   \n",
      "2                    0                0.1                10.5   \n",
      "3                    0                0.0                 7.4   \n",
      "4                    0                5.7                 5.7   \n",
      "\n",
      "   VALENTIA_temp_min  VALENTIA_temp_max  Year  \n",
      "0                6.0               10.9  1960  \n",
      "1                5.6               12.1  1960  \n",
      "2                8.1               12.9  1960  \n",
      "3                7.3               10.6  1960  \n",
      "4                3.0                8.4  1960  \n",
      "\n",
      "[5 rows x 150 columns]\n"
     ]
    }
   ],
   "source": [
    "# Ensure DATE column is of string type and extract the year\n",
    "df['Year'] = df['DATE'].astype(str).str[:4]  # Extract the year\n",
    "\n",
    "# Filter out rows where the year is 2022\n",
    "df_cleaned = df[df['Year'] != '2022']\n",
    "\n",
    "# Drop the temporary 'Year' column if it's no longer needed\n",
    "df_cleaned = df_cleaned.drop(columns=['Year'])\n",
    "\n",
    "# Display the updated DataFrame\n",
    "print(df.head())"
   ]
  },
  {
   "cell_type": "code",
   "execution_count": 144,
   "id": "585ccc10",
   "metadata": {},
   "outputs": [
    {
     "name": "stdout",
     "output_type": "stream",
     "text": [
      "    Year  Count\n",
      "0   1960    366\n",
      "1   1961    365\n",
      "2   1962    365\n",
      "3   1963    365\n",
      "4   1964    366\n",
      "..   ...    ...\n",
      "58  2018    365\n",
      "59  2019    365\n",
      "60  2020    366\n",
      "61  2021    365\n",
      "62  2022    304\n",
      "\n",
      "[63 rows x 2 columns]\n"
     ]
    }
   ],
   "source": [
    "# Ensure DATE column is of string type\n",
    "df['Year'] = df['DATE'].astype(str).str[:4]  # Extract the year from the DATE column\n",
    "\n",
    "# Count the number of entries for each year\n",
    "year_counts = df.groupby('Year').size().reset_index(name='Count')\n",
    "\n",
    "# Display the result\n",
    "print(year_counts)"
   ]
  },
  {
   "cell_type": "code",
   "execution_count": null,
   "id": "ad59194a",
   "metadata": {},
   "outputs": [],
   "source": []
  },
  {
   "cell_type": "code",
   "execution_count": 145,
   "id": "98701de8",
   "metadata": {},
   "outputs": [
    {
     "data": {
      "text/plain": [
       "(22950, 149)"
      ]
     },
     "execution_count": 145,
     "metadata": {},
     "output_type": "execute_result"
    }
   ],
   "source": [
    "df_cleaned=df.drop(columns=['Year'])\n",
    "df_cleaned.shape"
   ]
  },
  {
   "cell_type": "code",
   "execution_count": 146,
   "id": "d91e72b2",
   "metadata": {},
   "outputs": [
    {
     "data": {
      "text/plain": [
       "(22950, 149)"
      ]
     },
     "execution_count": 146,
     "metadata": {},
     "output_type": "execute_result"
    }
   ],
   "source": [
    "df_cleaned.shape"
   ]
  },
  {
   "cell_type": "code",
   "execution_count": 147,
   "id": "ac99763b",
   "metadata": {},
   "outputs": [],
   "source": [
    "total_missing = df.isnull().sum().sum()"
   ]
  },
  {
   "cell_type": "code",
   "execution_count": 148,
   "id": "fc19cd60",
   "metadata": {},
   "outputs": [
    {
     "data": {
      "text/plain": [
       "0"
      ]
     },
     "execution_count": 148,
     "metadata": {},
     "output_type": "execute_result"
    }
   ],
   "source": [
    "total_missing"
   ]
  },
  {
   "cell_type": "markdown",
   "id": "aac88684",
   "metadata": {},
   "source": [
    "## Removing Unnessary Observations"
   ]
  },
  {
   "cell_type": "code",
   "execution_count": 149,
   "id": "c2246c5c",
   "metadata": {},
   "outputs": [
    {
     "name": "stdout",
     "output_type": "stream",
     "text": [
      "['DATE', 'MONTH', 'BASEL_cloud_cover', 'BASEL_wind_speed', 'BASEL_humidity', 'BASEL_pressure', 'BASEL_global_radiation', 'BASEL_precipitation', 'BASEL_snow_depth', 'BASEL_sunshine', 'BASEL_temp_mean', 'BASEL_temp_min', 'BASEL_temp_max', 'BELGRADE_cloud_cover', 'BELGRADE_humidity', 'BELGRADE_pressure', 'BELGRADE_global_radiation', 'BELGRADE_precipitation', 'BELGRADE_sunshine', 'BELGRADE_temp_mean', 'BELGRADE_temp_min', 'BELGRADE_temp_max', 'BUDAPEST_cloud_cover', 'BUDAPEST_humidity', 'BUDAPEST_pressure', 'BUDAPEST_global_radiation', 'BUDAPEST_precipitation', 'BUDAPEST_sunshine', 'BUDAPEST_temp_mean', 'BUDAPEST_temp_min', 'BUDAPEST_temp_max', 'DEBILT_cloud_cover', 'DEBILT_wind_speed', 'DEBILT_humidity', 'DEBILT_pressure', 'DEBILT_global_radiation', 'DEBILT_precipitation', 'DEBILT_sunshine', 'DEBILT_temp_mean', 'DEBILT_temp_min', 'DEBILT_temp_max', 'DUSSELDORF_cloud_cover', 'DUSSELDORF_wind_speed', 'DUSSELDORF_humidity', 'DUSSELDORF_pressure', 'DUSSELDORF_global_radiation', 'DUSSELDORF_precipitation', 'DUSSELDORF_snow_depth', 'DUSSELDORF_sunshine', 'DUSSELDORF_temp_mean', 'DUSSELDORF_temp_min', 'DUSSELDORF_temp_max', 'HEATHROW_cloud_cover', 'HEATHROW_humidity', 'HEATHROW_pressure', 'HEATHROW_global_radiation', 'HEATHROW_precipitation', 'HEATHROW_snow_depth', 'HEATHROW_sunshine', 'HEATHROW_temp_mean', 'HEATHROW_temp_min', 'HEATHROW_temp_max', 'KASSEL_wind_speed', 'KASSEL_humidity', 'KASSEL_pressure', 'KASSEL_global_radiation', 'KASSEL_precipitation', 'KASSEL_sunshine', 'KASSEL_temp_mean', 'KASSEL_temp_min', 'KASSEL_temp_max', 'LJUBLJANA_cloud_cover', 'LJUBLJANA_wind_speed', 'LJUBLJANA_humidity', 'LJUBLJANA_pressure', 'LJUBLJANA_global_radiation', 'LJUBLJANA_precipitation', 'LJUBLJANA_sunshine', 'LJUBLJANA_temp_mean', 'LJUBLJANA_temp_min', 'LJUBLJANA_temp_max', 'MAASTRICHT_cloud_cover', 'MAASTRICHT_wind_speed', 'MAASTRICHT_humidity', 'MAASTRICHT_pressure', 'MAASTRICHT_global_radiation', 'MAASTRICHT_precipitation', 'MAASTRICHT_sunshine', 'MAASTRICHT_temp_mean', 'MAASTRICHT_temp_min', 'MAASTRICHT_temp_max', 'MADRID_cloud_cover', 'MADRID_wind_speed', 'MADRID_humidity', 'MADRID_pressure', 'MADRID_global_radiation', 'MADRID_precipitation', 'MADRID_sunshine', 'MADRID_temp_mean', 'MADRID_temp_min', 'MADRID_temp_max', 'MUNCHENB_cloud_cover', 'MUNCHENB_humidity', 'MUNCHENB_global_radiation', 'MUNCHENB_precipitation', 'MUNCHENB_snow_depth', 'MUNCHENB_sunshine', 'MUNCHENB_temp_mean', 'MUNCHENB_temp_min', 'MUNCHENB_temp_max', 'OSLO_cloud_cover', 'OSLO_wind_speed', 'OSLO_humidity', 'OSLO_pressure', 'OSLO_global_radiation', 'OSLO_precipitation', 'OSLO_snow_depth', 'OSLO_sunshine', 'OSLO_temp_mean', 'OSLO_temp_min', 'OSLO_temp_max', 'SONNBLICK_cloud_cover', 'SONNBLICK_wind_speed', 'SONNBLICK_humidity', 'SONNBLICK_pressure', 'SONNBLICK_global_radiation', 'SONNBLICK_precipitation', 'SONNBLICK_sunshine', 'SONNBLICK_temp_mean', 'SONNBLICK_temp_min', 'SONNBLICK_temp_max', 'STOCKHOLM_cloud_cover', 'STOCKHOLM_pressure', 'STOCKHOLM_global_radiation', 'STOCKHOLM_precipitation', 'STOCKHOLM_sunshine', 'STOCKHOLM_temp_mean', 'STOCKHOLM_temp_min', 'STOCKHOLM_temp_max', 'VALENTIA_cloud_cover', 'VALENTIA_humidity', 'VALENTIA_pressure', 'VALENTIA_global_radiation', 'VALENTIA_precipitation', 'VALENTIA_snow_depth', 'VALENTIA_sunshine', 'VALENTIA_temp_mean', 'VALENTIA_temp_min', 'VALENTIA_temp_max', 'Year']\n"
     ]
    }
   ],
   "source": [
    "columns_list = df.columns.tolist()\n",
    "print(columns_list)\n"
   ]
  },
  {
   "cell_type": "code",
   "execution_count": 150,
   "id": "9e67655f",
   "metadata": {},
   "outputs": [
    {
     "name": "stdout",
     "output_type": "stream",
     "text": [
      "['cloud_cover', 'global_radiation', 'humidity', 'precipitation', 'pressure', 'snow_depth', 'sunshine', 'temp_max', 'temp_mean', 'temp_min', 'wind_speed']\n"
     ]
    }
   ],
   "source": [
    "# Extract observations (second part after '_')\n",
    "observations = [col.split('_', 1)[1] for col in columns_list if '_' in col]\n",
    "\n",
    "# Find unique observations\n",
    "unique_observations = sorted(set(observations))\n",
    "\n",
    "# Display unique observations\n",
    "print(unique_observations)"
   ]
  },
  {
   "cell_type": "code",
   "execution_count": 151,
   "id": "20415548",
   "metadata": {},
   "outputs": [
    {
     "name": "stdout",
     "output_type": "stream",
     "text": [
      "Bases with inconsistent observation counts:\n",
      "BELGRADE: 9 observations\n",
      "BUDAPEST: 9 observations\n",
      "DEBILT: 10 observations\n",
      "HEATHROW: 10 observations\n",
      "KASSEL: 9 observations\n",
      "LJUBLJANA: 10 observations\n",
      "MAASTRICHT: 10 observations\n",
      "MADRID: 10 observations\n",
      "MUNCHENB: 9 observations\n",
      "SONNBLICK: 10 observations\n",
      "STOCKHOLM: 8 observations\n",
      "VALENTIA: 10 observations\n"
     ]
    }
   ],
   "source": [
    "from collections import defaultdict\n",
    "#  Count the observations for each base\n",
    "base_observations = defaultdict(set)\n",
    "\n",
    "for col in columns_list:\n",
    "    if '_' in col:\n",
    "        base, observation = col.split('_', 1)\n",
    "        base_observations[base].add(observation)\n",
    "\n",
    "# Find bases with differing observation counts\n",
    "all_observation_counts = [len(observations) for observations in base_observations.values()]\n",
    "expected_count = max(all_observation_counts)  # Assume max is the expected count\n",
    "\n",
    "# Identify bases with missing/extra observations\n",
    "inconsistent_bases = {base: observations for base, observations in base_observations.items() if len(observations) != expected_count}\n",
    "\n",
    "# Display results\n",
    "if inconsistent_bases:\n",
    "    print(\"Bases with inconsistent observation counts:\")\n",
    "    for base, observations in inconsistent_bases.items():\n",
    "        print(f\"{base}: {len(observations)} observations\")\n",
    "else:\n",
    "    print(\"All bases have consistent observation counts.\")"
   ]
  },
  {
   "cell_type": "code",
   "execution_count": 152,
   "id": "7573da38",
   "metadata": {},
   "outputs": [
    {
     "name": "stdout",
     "output_type": "stream",
     "text": [
      "Bases with missing observations:\n",
      "BELGRADE: {('wind', 'speed'), ('snow', 'depth')}\n",
      "BUDAPEST: {('wind', 'speed'), ('snow', 'depth')}\n",
      "DEBILT: {('snow', 'depth')}\n",
      "HEATHROW: {('wind', 'speed')}\n",
      "KASSEL: {('snow', 'depth'), ('cloud', 'cover')}\n",
      "LJUBLJANA: {('snow', 'depth')}\n",
      "MAASTRICHT: {('snow', 'depth')}\n",
      "MADRID: {('snow', 'depth')}\n",
      "MUNCHENB: {('wind', 'speed'), ('pressure',)}\n",
      "SONNBLICK: {('snow', 'depth')}\n",
      "STOCKHOLM: {('wind', 'speed'), ('snow', 'depth'), ('humidity',)}\n",
      "VALENTIA: {('wind', 'speed')}\n"
     ]
    }
   ],
   "source": [
    "# Extract all unique observations, including the second and third parts of the column names\n",
    "all_observations = {tuple(col.split('_')[1:]) for col in columns_list if '_' in col}\n",
    "\n",
    "# Create a dictionary to track observations per base\n",
    "base_observations = defaultdict(set)\n",
    "\n",
    "# Populate the dictionary\n",
    "for col in columns_list:\n",
    "    if '_' in col:\n",
    "        parts = col.split('_')\n",
    "        base = parts[0]\n",
    "        observation = tuple(parts[1:])  # Include both the second and third parts\n",
    "        base_observations[base].add(observation)\n",
    "\n",
    "# Identify missing observations for each base\n",
    "missing_observations = {\n",
    "    base: all_observations - observations\n",
    "    for base, observations in base_observations.items()\n",
    "    if all_observations - observations  # Only include bases with missing observations\n",
    "}\n",
    "\n",
    "# Display results\n",
    "if missing_observations:\n",
    "    print(\"Bases with missing observations:\")\n",
    "    for base, missing in missing_observations.items():\n",
    "        print(f\"{base}: {missing}\")\n",
    "else:\n",
    "    print(\"All bases have all observations.\")"
   ]
  },
  {
   "cell_type": "code",
   "execution_count": 153,
   "id": "33571881",
   "metadata": {},
   "outputs": [],
   "source": [
    "# Define the substrings to remove\n",
    "substrings_to_remove = ['_snow_depth','_wind_speed']\n",
    "\n",
    "# Filter columns that do not contain the substrings\n",
    "filtered_columns = [col for col in df.columns if not any(sub in col for sub in substrings_to_remove)]\n",
    "\n",
    "# Keep only the filtered columns in the DataFrame\n",
    "df_cleaned = df[filtered_columns]"
   ]
  },
  {
   "cell_type": "code",
   "execution_count": 154,
   "id": "122fa274",
   "metadata": {},
   "outputs": [
    {
     "data": {
      "text/plain": [
       "(22950, 135)"
      ]
     },
     "execution_count": 154,
     "metadata": {},
     "output_type": "execute_result"
    }
   ],
   "source": [
    "df_cleaned.shape"
   ]
  },
  {
   "cell_type": "markdown",
   "id": "bbdaaf1e",
   "metadata": {},
   "source": [
    "# "
   ]
  },
  {
   "cell_type": "code",
   "execution_count": 155,
   "id": "01e01056",
   "metadata": {},
   "outputs": [
    {
     "name": "stdout",
     "output_type": "stream",
     "text": [
      "          Base  Total Observation Count\n",
      "0        BASEL                       11\n",
      "1     BELGRADE                        9\n",
      "2     BUDAPEST                        9\n",
      "3       DEBILT                       10\n",
      "4   DUSSELDORF                       11\n",
      "5     HEATHROW                       10\n",
      "6       KASSEL                        9\n",
      "7    LJUBLJANA                       10\n",
      "8   MAASTRICHT                       10\n",
      "9       MADRID                       10\n",
      "10    MUNCHENB                        9\n",
      "11        OSLO                       11\n",
      "12   SONNBLICK                       10\n",
      "13   STOCKHOLM                        8\n",
      "14    VALENTIA                       10\n"
     ]
    }
   ],
   "source": [
    "# Initialize a dictionary to count observations for each base\n",
    "base_counts = defaultdict(lambda: defaultdict(int))\n",
    "\n",
    "# Assuming `columns_list` is already defined and contains the column names\n",
    "for col in columns_list:\n",
    "    if '_' in col:  # Ensure column has the format BASE_observation\n",
    "        base, observation = col.split('_', 1)\n",
    "        base_counts[base][observation] += 1\n",
    "\n",
    "# Prepare the data to calculate the total count for each base\n",
    "total_counts = {}\n",
    "\n",
    "# Calculate total counts for each base\n",
    "for base, observations in base_counts.items():\n",
    "    total_counts[base] = sum(observations.values())  # Total number of observations for each base\n",
    "\n",
    "# Convert the total counts to a DataFrame for easy readability\n",
    "df_total_counts = pd.DataFrame(list(total_counts.items()), columns=['Base', 'Total Observation Count'])\n",
    "\n",
    "# Display the DataFrame\n",
    "print(df_total_counts)"
   ]
  },
  {
   "cell_type": "markdown",
   "id": "76236016",
   "metadata": {},
   "source": [
    "## Add missing oberservation"
   ]
  },
  {
   "cell_type": "code",
   "execution_count": 156,
   "id": "100c6e18",
   "metadata": {},
   "outputs": [
    {
     "data": {
      "text/plain": [
       "{'BASEL',\n",
       " 'BELGRADE',\n",
       " 'BUDAPEST',\n",
       " 'DEBILT',\n",
       " 'DUSSELDORF',\n",
       " 'HEATHROW',\n",
       " 'KASSEL',\n",
       " 'LJUBLJANA',\n",
       " 'MAASTRICHT',\n",
       " 'MADRID',\n",
       " 'MUNCHENB',\n",
       " 'OSLO',\n",
       " 'SONNBLICK',\n",
       " 'STOCKHOLM',\n",
       " 'VALENTIA'}"
      ]
     },
     "execution_count": 156,
     "metadata": {},
     "output_type": "execute_result"
    }
   ],
   "source": [
    "# Create a list of all unique station names in the dataset\n",
    "\n",
    "all_stations = set([col.split('_')[0] for col in df_cleaned.columns if '_' in col])\n",
    "all_stations"
   ]
  },
  {
   "cell_type": "code",
   "execution_count": 157,
   "id": "210bbeac",
   "metadata": {},
   "outputs": [
    {
     "name": "stdout",
     "output_type": "stream",
     "text": [
      "\n",
      "Stations missing from cloud_cover:\n",
      "KASSEL\n",
      "\n",
      "Stations missing from humidity:\n",
      "STOCKHOLM\n",
      "\n",
      "Stations missing from pressure:\n",
      "MUNCHENB\n"
     ]
    }
   ],
   "source": [
    "observation_types = ['cloud_cover', 'humidity', 'pressure']\n",
    "\n",
    "missing_stations_by_observation = {}\n",
    "\n",
    "for obs in observation_types:\n",
    "    # Select columns related to the current observation type\n",
    "    columns = [col for col in df_cleaned.columns if col.endswith(obs)]\n",
    "    \n",
    "    # Extract station names by removing the observation type from the column names\n",
    "    station_names = set([col.replace(f'_{obs}', '') for col in columns])\n",
    "    \n",
    "    # Identify stations that are in all_stations but missing from the current observation type\n",
    "    missing_stations = all_stations - station_names\n",
    "    \n",
    "    # Store the missing station names in the dictionary\n",
    "    missing_stations_by_observation[obs] = missing_stations\n",
    "\n",
    "# Print the missing station names for each observation type\n",
    "for obs, missing_stations in missing_stations_by_observation.items():\n",
    "    print(f\"\\nStations missing from {obs}:\")\n",
    "    if missing_stations:\n",
    "        for station in missing_stations:\n",
    "            print(station)\n",
    "    else:\n",
    "        print(\"None\")"
   ]
  },
  {
   "cell_type": "code",
   "execution_count": 158,
   "id": "48b7f58a",
   "metadata": {},
   "outputs": [
    {
     "name": "stdout",
     "output_type": "stream",
     "text": [
      "       LJUBLJANA_cloud_cover  LJUBLJANA_humidity  LJUBLJANA_pressure  \\\n",
      "0                          8                1.00              1.0173   \n",
      "1                          6                0.94              1.0173   \n",
      "2                          8                0.96              1.0173   \n",
      "3                          6                0.94              1.0173   \n",
      "4                          7                0.94              1.0173   \n",
      "...                      ...                 ...                 ...   \n",
      "22945                      4                0.80              1.0289   \n",
      "22946                      3                0.82              1.0291   \n",
      "22947                      3                0.81              1.0270   \n",
      "22948                      3                0.77              1.0238   \n",
      "22949                      3                0.77              1.0114   \n",
      "\n",
      "       LJUBLJANA_global_radiation  LJUBLJANA_precipitation  \\\n",
      "0                            0.20                     0.00   \n",
      "1                            0.56                     0.13   \n",
      "2                            0.20                     0.12   \n",
      "3                            0.49                     0.00   \n",
      "4                            0.20                     0.00   \n",
      "...                           ...                      ...   \n",
      "22945                        1.35                     0.37   \n",
      "22946                        1.35                     0.37   \n",
      "22947                        1.35                     0.37   \n",
      "22948                        1.35                     0.37   \n",
      "22949                        1.35                     0.37   \n",
      "\n",
      "       LJUBLJANA_sunshine  LJUBLJANA_temp_mean  LJUBLJANA_temp_min  \\\n",
      "0                     0.0                 -0.6                -1.9   \n",
      "1                     3.2                  2.1                -1.3   \n",
      "2                     0.0                  4.6                 0.9   \n",
      "3                     2.2                  3.2                 1.0   \n",
      "4                     0.0                  3.6                 0.4   \n",
      "...                   ...                  ...                 ...   \n",
      "22945                 5.9                 14.7                12.1   \n",
      "22946                 4.5                 12.9                 9.8   \n",
      "22947                 5.1                 13.2                10.2   \n",
      "22948                 5.7                 14.0                10.0   \n",
      "22949                 6.3                 13.6                 8.8   \n",
      "\n",
      "       LJUBLJANA_temp_max  \n",
      "0                     0.5  \n",
      "1                     5.5  \n",
      "2                     6.3  \n",
      "3                     7.0  \n",
      "4                     4.8  \n",
      "...                   ...  \n",
      "22945                21.1  \n",
      "22946                19.8  \n",
      "22947                20.7  \n",
      "22948                23.1  \n",
      "22949                23.4  \n",
      "\n",
      "[22950 rows x 9 columns]\n"
     ]
    }
   ],
   "source": [
    "ljubljana_columns = df_cleaned.filter(like='LJUBLJANA')\n",
    "\n",
    "print(ljubljana_columns)"
   ]
  },
  {
   "cell_type": "code",
   "execution_count": 159,
   "id": "a55a5754",
   "metadata": {},
   "outputs": [
    {
     "name": "stdout",
     "output_type": "stream",
     "text": [
      "       KASSEL_humidity  KASSEL_pressure  KASSEL_global_radiation  \\\n",
      "0                 0.82           1.0094                     0.28   \n",
      "1                 0.86           1.0086                     0.12   \n",
      "2                 0.91           1.0129                     0.12   \n",
      "3                 0.87           1.0290                     0.12   \n",
      "4                 0.86           1.0262                     0.13   \n",
      "...                ...              ...                      ...   \n",
      "22945             0.77           1.0161                     1.14   \n",
      "22946             0.77           1.0161                     1.14   \n",
      "22947             0.77           1.0161                     1.14   \n",
      "22948             0.77           1.0161                     1.14   \n",
      "22949             0.77           1.0161                     1.14   \n",
      "\n",
      "       KASSEL_precipitation  KASSEL_sunshine  KASSEL_temp_mean  \\\n",
      "0                      0.48              1.6               7.9   \n",
      "1                      0.27              0.0               7.7   \n",
      "2                      0.60              0.0               6.5   \n",
      "3                      0.00              0.0               5.8   \n",
      "4                      0.71              0.0               5.4   \n",
      "...                     ...              ...               ...   \n",
      "22945                  0.19              4.0               9.1   \n",
      "22946                  0.19              4.0               9.1   \n",
      "22947                  0.19              4.0               9.1   \n",
      "22948                  0.19              4.0               9.1   \n",
      "22949                  0.19              4.0               9.1   \n",
      "\n",
      "       KASSEL_temp_min  KASSEL_temp_max  \n",
      "0                  3.9              9.4  \n",
      "1                  6.8              9.1  \n",
      "2                  6.0              8.0  \n",
      "3                  5.2              6.5  \n",
      "4                  3.7              6.0  \n",
      "...                ...              ...  \n",
      "22945              5.4             13.1  \n",
      "22946              5.4             13.1  \n",
      "22947              5.4             13.1  \n",
      "22948              5.4             13.1  \n",
      "22949              5.4             13.1  \n",
      "\n",
      "[22950 rows x 8 columns]\n"
     ]
    }
   ],
   "source": [
    "kassel_columns = df_cleaned.filter(like='KASSEL')\n",
    "\n",
    "print(kassel_columns)"
   ]
  },
  {
   "cell_type": "code",
   "execution_count": 160,
   "id": "f1b70917",
   "metadata": {},
   "outputs": [
    {
     "data": {
      "text/plain": [
       "0        0.98\n",
       "1        0.62\n",
       "2        0.69\n",
       "3        0.98\n",
       "4        0.96\n",
       "         ... \n",
       "22945    0.98\n",
       "22946    1.00\n",
       "22947    0.85\n",
       "22948    0.94\n",
       "22949    0.97\n",
       "Name: OSLO_humidity, Length: 22950, dtype: float64"
      ]
     },
     "execution_count": 160,
     "metadata": {},
     "output_type": "execute_result"
    }
   ],
   "source": [
    "df_cleaned['OSLO_humidity']"
   ]
  },
  {
   "cell_type": "code",
   "execution_count": 161,
   "id": "b232e633",
   "metadata": {},
   "outputs": [],
   "source": [
    "# If df_cleaned is a slice of another DataFrame, ensure it's a copy first\n",
    "df_cleaned = df_cleaned.copy()\n",
    "\n",
    "# Now perform the operations\n",
    "df_cleaned['KASSEL_cloud_cover'] = df_cleaned['LJUBLJANA_cloud_cover']\n",
    "df_cleaned['MUNCHENB_pressure'] = df_cleaned['SONNBLICK_pressure']\n",
    "df_cleaned['STOCKHOLM_humidity'] = df_cleaned['OSLO_humidity']"
   ]
  },
  {
   "cell_type": "code",
   "execution_count": 162,
   "id": "43a040f0",
   "metadata": {},
   "outputs": [
    {
     "data": {
      "text/html": [
       "<div>\n",
       "<style scoped>\n",
       "    .dataframe tbody tr th:only-of-type {\n",
       "        vertical-align: middle;\n",
       "    }\n",
       "\n",
       "    .dataframe tbody tr th {\n",
       "        vertical-align: top;\n",
       "    }\n",
       "\n",
       "    .dataframe thead th {\n",
       "        text-align: right;\n",
       "    }\n",
       "</style>\n",
       "<table border=\"1\" class=\"dataframe\">\n",
       "  <thead>\n",
       "    <tr style=\"text-align: right;\">\n",
       "      <th></th>\n",
       "      <th>DATE</th>\n",
       "      <th>MONTH</th>\n",
       "      <th>BASEL_cloud_cover</th>\n",
       "      <th>BASEL_humidity</th>\n",
       "      <th>BASEL_pressure</th>\n",
       "      <th>BASEL_global_radiation</th>\n",
       "      <th>BASEL_precipitation</th>\n",
       "      <th>BASEL_sunshine</th>\n",
       "      <th>BASEL_temp_mean</th>\n",
       "      <th>BASEL_temp_min</th>\n",
       "      <th>...</th>\n",
       "      <th>VALENTIA_global_radiation</th>\n",
       "      <th>VALENTIA_precipitation</th>\n",
       "      <th>VALENTIA_sunshine</th>\n",
       "      <th>VALENTIA_temp_mean</th>\n",
       "      <th>VALENTIA_temp_min</th>\n",
       "      <th>VALENTIA_temp_max</th>\n",
       "      <th>Year</th>\n",
       "      <th>KASSEL_cloud_cover</th>\n",
       "      <th>MUNCHENB_pressure</th>\n",
       "      <th>STOCKHOLM_humidity</th>\n",
       "    </tr>\n",
       "  </thead>\n",
       "  <tbody>\n",
       "    <tr>\n",
       "      <th>0</th>\n",
       "      <td>19600101</td>\n",
       "      <td>1</td>\n",
       "      <td>7</td>\n",
       "      <td>0.85</td>\n",
       "      <td>1.0180</td>\n",
       "      <td>0.32</td>\n",
       "      <td>0.09</td>\n",
       "      <td>0.7</td>\n",
       "      <td>6.5</td>\n",
       "      <td>0.8</td>\n",
       "      <td>...</td>\n",
       "      <td>0.45</td>\n",
       "      <td>0.34</td>\n",
       "      <td>4.7</td>\n",
       "      <td>8.5</td>\n",
       "      <td>6.0</td>\n",
       "      <td>10.9</td>\n",
       "      <td>1960</td>\n",
       "      <td>8</td>\n",
       "      <td>1.0304</td>\n",
       "      <td>0.98</td>\n",
       "    </tr>\n",
       "    <tr>\n",
       "      <th>1</th>\n",
       "      <td>19600102</td>\n",
       "      <td>1</td>\n",
       "      <td>6</td>\n",
       "      <td>0.84</td>\n",
       "      <td>1.0180</td>\n",
       "      <td>0.36</td>\n",
       "      <td>1.05</td>\n",
       "      <td>1.1</td>\n",
       "      <td>6.1</td>\n",
       "      <td>3.3</td>\n",
       "      <td>...</td>\n",
       "      <td>0.25</td>\n",
       "      <td>0.84</td>\n",
       "      <td>0.7</td>\n",
       "      <td>8.9</td>\n",
       "      <td>5.6</td>\n",
       "      <td>12.1</td>\n",
       "      <td>1960</td>\n",
       "      <td>6</td>\n",
       "      <td>1.0292</td>\n",
       "      <td>0.62</td>\n",
       "    </tr>\n",
       "    <tr>\n",
       "      <th>2</th>\n",
       "      <td>19600103</td>\n",
       "      <td>1</td>\n",
       "      <td>8</td>\n",
       "      <td>0.90</td>\n",
       "      <td>1.0180</td>\n",
       "      <td>0.18</td>\n",
       "      <td>0.30</td>\n",
       "      <td>0.0</td>\n",
       "      <td>8.5</td>\n",
       "      <td>5.1</td>\n",
       "      <td>...</td>\n",
       "      <td>0.17</td>\n",
       "      <td>0.08</td>\n",
       "      <td>0.1</td>\n",
       "      <td>10.5</td>\n",
       "      <td>8.1</td>\n",
       "      <td>12.9</td>\n",
       "      <td>1960</td>\n",
       "      <td>8</td>\n",
       "      <td>1.0320</td>\n",
       "      <td>0.69</td>\n",
       "    </tr>\n",
       "    <tr>\n",
       "      <th>3</th>\n",
       "      <td>19600104</td>\n",
       "      <td>1</td>\n",
       "      <td>3</td>\n",
       "      <td>0.92</td>\n",
       "      <td>1.0180</td>\n",
       "      <td>0.58</td>\n",
       "      <td>0.00</td>\n",
       "      <td>4.1</td>\n",
       "      <td>6.3</td>\n",
       "      <td>3.8</td>\n",
       "      <td>...</td>\n",
       "      <td>0.13</td>\n",
       "      <td>0.98</td>\n",
       "      <td>0.0</td>\n",
       "      <td>7.4</td>\n",
       "      <td>7.3</td>\n",
       "      <td>10.6</td>\n",
       "      <td>1960</td>\n",
       "      <td>6</td>\n",
       "      <td>1.0443</td>\n",
       "      <td>0.98</td>\n",
       "    </tr>\n",
       "    <tr>\n",
       "      <th>4</th>\n",
       "      <td>19600105</td>\n",
       "      <td>1</td>\n",
       "      <td>6</td>\n",
       "      <td>0.95</td>\n",
       "      <td>1.0180</td>\n",
       "      <td>0.65</td>\n",
       "      <td>0.14</td>\n",
       "      <td>5.4</td>\n",
       "      <td>3.0</td>\n",
       "      <td>-0.7</td>\n",
       "      <td>...</td>\n",
       "      <td>0.46</td>\n",
       "      <td>0.00</td>\n",
       "      <td>5.7</td>\n",
       "      <td>5.7</td>\n",
       "      <td>3.0</td>\n",
       "      <td>8.4</td>\n",
       "      <td>1960</td>\n",
       "      <td>7</td>\n",
       "      <td>1.0430</td>\n",
       "      <td>0.96</td>\n",
       "    </tr>\n",
       "    <tr>\n",
       "      <th>...</th>\n",
       "      <td>...</td>\n",
       "      <td>...</td>\n",
       "      <td>...</td>\n",
       "      <td>...</td>\n",
       "      <td>...</td>\n",
       "      <td>...</td>\n",
       "      <td>...</td>\n",
       "      <td>...</td>\n",
       "      <td>...</td>\n",
       "      <td>...</td>\n",
       "      <td>...</td>\n",
       "      <td>...</td>\n",
       "      <td>...</td>\n",
       "      <td>...</td>\n",
       "      <td>...</td>\n",
       "      <td>...</td>\n",
       "      <td>...</td>\n",
       "      <td>...</td>\n",
       "      <td>...</td>\n",
       "      <td>...</td>\n",
       "      <td>...</td>\n",
       "    </tr>\n",
       "    <tr>\n",
       "      <th>22945</th>\n",
       "      <td>20221027</td>\n",
       "      <td>10</td>\n",
       "      <td>1</td>\n",
       "      <td>0.79</td>\n",
       "      <td>1.0248</td>\n",
       "      <td>1.34</td>\n",
       "      <td>0.22</td>\n",
       "      <td>7.7</td>\n",
       "      <td>15.9</td>\n",
       "      <td>11.4</td>\n",
       "      <td>...</td>\n",
       "      <td>1.13</td>\n",
       "      <td>0.41</td>\n",
       "      <td>3.4</td>\n",
       "      <td>10.7</td>\n",
       "      <td>7.9</td>\n",
       "      <td>13.5</td>\n",
       "      <td>2022</td>\n",
       "      <td>4</td>\n",
       "      <td>1.0263</td>\n",
       "      <td>0.98</td>\n",
       "    </tr>\n",
       "    <tr>\n",
       "      <th>22946</th>\n",
       "      <td>20221028</td>\n",
       "      <td>10</td>\n",
       "      <td>6</td>\n",
       "      <td>0.77</td>\n",
       "      <td>1.0244</td>\n",
       "      <td>1.34</td>\n",
       "      <td>0.22</td>\n",
       "      <td>5.4</td>\n",
       "      <td>16.7</td>\n",
       "      <td>14.3</td>\n",
       "      <td>...</td>\n",
       "      <td>1.13</td>\n",
       "      <td>0.41</td>\n",
       "      <td>3.4</td>\n",
       "      <td>10.7</td>\n",
       "      <td>7.9</td>\n",
       "      <td>13.5</td>\n",
       "      <td>2022</td>\n",
       "      <td>3</td>\n",
       "      <td>1.0263</td>\n",
       "      <td>1.00</td>\n",
       "    </tr>\n",
       "    <tr>\n",
       "      <th>22947</th>\n",
       "      <td>20221029</td>\n",
       "      <td>10</td>\n",
       "      <td>4</td>\n",
       "      <td>0.76</td>\n",
       "      <td>1.0227</td>\n",
       "      <td>1.34</td>\n",
       "      <td>0.22</td>\n",
       "      <td>6.1</td>\n",
       "      <td>16.7</td>\n",
       "      <td>13.1</td>\n",
       "      <td>...</td>\n",
       "      <td>1.13</td>\n",
       "      <td>0.41</td>\n",
       "      <td>3.4</td>\n",
       "      <td>10.7</td>\n",
       "      <td>7.9</td>\n",
       "      <td>13.5</td>\n",
       "      <td>2022</td>\n",
       "      <td>3</td>\n",
       "      <td>1.0263</td>\n",
       "      <td>0.85</td>\n",
       "    </tr>\n",
       "    <tr>\n",
       "      <th>22948</th>\n",
       "      <td>20221030</td>\n",
       "      <td>10</td>\n",
       "      <td>5</td>\n",
       "      <td>0.80</td>\n",
       "      <td>1.0212</td>\n",
       "      <td>1.34</td>\n",
       "      <td>0.22</td>\n",
       "      <td>5.8</td>\n",
       "      <td>15.4</td>\n",
       "      <td>11.6</td>\n",
       "      <td>...</td>\n",
       "      <td>1.13</td>\n",
       "      <td>0.41</td>\n",
       "      <td>3.4</td>\n",
       "      <td>10.7</td>\n",
       "      <td>7.9</td>\n",
       "      <td>13.5</td>\n",
       "      <td>2022</td>\n",
       "      <td>3</td>\n",
       "      <td>1.0263</td>\n",
       "      <td>0.94</td>\n",
       "    </tr>\n",
       "    <tr>\n",
       "      <th>22949</th>\n",
       "      <td>20221031</td>\n",
       "      <td>10</td>\n",
       "      <td>5</td>\n",
       "      <td>0.84</td>\n",
       "      <td>1.0193</td>\n",
       "      <td>1.34</td>\n",
       "      <td>0.22</td>\n",
       "      <td>3.2</td>\n",
       "      <td>13.5</td>\n",
       "      <td>9.9</td>\n",
       "      <td>...</td>\n",
       "      <td>1.13</td>\n",
       "      <td>0.41</td>\n",
       "      <td>3.4</td>\n",
       "      <td>10.7</td>\n",
       "      <td>7.9</td>\n",
       "      <td>13.5</td>\n",
       "      <td>2022</td>\n",
       "      <td>3</td>\n",
       "      <td>1.0263</td>\n",
       "      <td>0.97</td>\n",
       "    </tr>\n",
       "  </tbody>\n",
       "</table>\n",
       "<p>22950 rows × 138 columns</p>\n",
       "</div>"
      ],
      "text/plain": [
       "           DATE  MONTH  BASEL_cloud_cover  BASEL_humidity  BASEL_pressure  \\\n",
       "0      19600101      1                  7            0.85          1.0180   \n",
       "1      19600102      1                  6            0.84          1.0180   \n",
       "2      19600103      1                  8            0.90          1.0180   \n",
       "3      19600104      1                  3            0.92          1.0180   \n",
       "4      19600105      1                  6            0.95          1.0180   \n",
       "...         ...    ...                ...             ...             ...   \n",
       "22945  20221027     10                  1            0.79          1.0248   \n",
       "22946  20221028     10                  6            0.77          1.0244   \n",
       "22947  20221029     10                  4            0.76          1.0227   \n",
       "22948  20221030     10                  5            0.80          1.0212   \n",
       "22949  20221031     10                  5            0.84          1.0193   \n",
       "\n",
       "       BASEL_global_radiation  BASEL_precipitation  BASEL_sunshine  \\\n",
       "0                        0.32                 0.09             0.7   \n",
       "1                        0.36                 1.05             1.1   \n",
       "2                        0.18                 0.30             0.0   \n",
       "3                        0.58                 0.00             4.1   \n",
       "4                        0.65                 0.14             5.4   \n",
       "...                       ...                  ...             ...   \n",
       "22945                    1.34                 0.22             7.7   \n",
       "22946                    1.34                 0.22             5.4   \n",
       "22947                    1.34                 0.22             6.1   \n",
       "22948                    1.34                 0.22             5.8   \n",
       "22949                    1.34                 0.22             3.2   \n",
       "\n",
       "       BASEL_temp_mean  BASEL_temp_min  ...  VALENTIA_global_radiation  \\\n",
       "0                  6.5             0.8  ...                       0.45   \n",
       "1                  6.1             3.3  ...                       0.25   \n",
       "2                  8.5             5.1  ...                       0.17   \n",
       "3                  6.3             3.8  ...                       0.13   \n",
       "4                  3.0            -0.7  ...                       0.46   \n",
       "...                ...             ...  ...                        ...   \n",
       "22945             15.9            11.4  ...                       1.13   \n",
       "22946             16.7            14.3  ...                       1.13   \n",
       "22947             16.7            13.1  ...                       1.13   \n",
       "22948             15.4            11.6  ...                       1.13   \n",
       "22949             13.5             9.9  ...                       1.13   \n",
       "\n",
       "       VALENTIA_precipitation  VALENTIA_sunshine  VALENTIA_temp_mean  \\\n",
       "0                        0.34                4.7                 8.5   \n",
       "1                        0.84                0.7                 8.9   \n",
       "2                        0.08                0.1                10.5   \n",
       "3                        0.98                0.0                 7.4   \n",
       "4                        0.00                5.7                 5.7   \n",
       "...                       ...                ...                 ...   \n",
       "22945                    0.41                3.4                10.7   \n",
       "22946                    0.41                3.4                10.7   \n",
       "22947                    0.41                3.4                10.7   \n",
       "22948                    0.41                3.4                10.7   \n",
       "22949                    0.41                3.4                10.7   \n",
       "\n",
       "       VALENTIA_temp_min  VALENTIA_temp_max  Year  KASSEL_cloud_cover  \\\n",
       "0                    6.0               10.9  1960                   8   \n",
       "1                    5.6               12.1  1960                   6   \n",
       "2                    8.1               12.9  1960                   8   \n",
       "3                    7.3               10.6  1960                   6   \n",
       "4                    3.0                8.4  1960                   7   \n",
       "...                  ...                ...   ...                 ...   \n",
       "22945                7.9               13.5  2022                   4   \n",
       "22946                7.9               13.5  2022                   3   \n",
       "22947                7.9               13.5  2022                   3   \n",
       "22948                7.9               13.5  2022                   3   \n",
       "22949                7.9               13.5  2022                   3   \n",
       "\n",
       "       MUNCHENB_pressure  STOCKHOLM_humidity  \n",
       "0                 1.0304                0.98  \n",
       "1                 1.0292                0.62  \n",
       "2                 1.0320                0.69  \n",
       "3                 1.0443                0.98  \n",
       "4                 1.0430                0.96  \n",
       "...                  ...                 ...  \n",
       "22945             1.0263                0.98  \n",
       "22946             1.0263                1.00  \n",
       "22947             1.0263                0.85  \n",
       "22948             1.0263                0.94  \n",
       "22949             1.0263                0.97  \n",
       "\n",
       "[22950 rows x 138 columns]"
      ]
     },
     "execution_count": 162,
     "metadata": {},
     "output_type": "execute_result"
    }
   ],
   "source": [
    "df_cleaned"
   ]
  },
  {
   "cell_type": "code",
   "execution_count": 163,
   "id": "c0985666",
   "metadata": {},
   "outputs": [
    {
     "data": {
      "text/plain": [
       "(22950, 138)"
      ]
     },
     "execution_count": 163,
     "metadata": {},
     "output_type": "execute_result"
    }
   ],
   "source": [
    "df_cleaned.shape"
   ]
  },
  {
   "cell_type": "code",
   "execution_count": 164,
   "id": "fa159448",
   "metadata": {},
   "outputs": [
    {
     "data": {
      "text/plain": [
       "{'BASEL',\n",
       " 'BELGRADE',\n",
       " 'BUDAPEST',\n",
       " 'DEBILT',\n",
       " 'DUSSELDORF',\n",
       " 'HEATHROW',\n",
       " 'KASSEL',\n",
       " 'LJUBLJANA',\n",
       " 'MAASTRICHT',\n",
       " 'MADRID',\n",
       " 'MUNCHENB',\n",
       " 'OSLO',\n",
       " 'SONNBLICK',\n",
       " 'STOCKHOLM',\n",
       " 'VALENTIA'}"
      ]
     },
     "execution_count": 164,
     "metadata": {},
     "output_type": "execute_result"
    }
   ],
   "source": [
    "# Create a list of all unique station names in the dataset\n",
    "\n",
    "all_stations = set([col.split('_')[0] for col in df_cleaned.columns if '_' in col])\n",
    "all_stations"
   ]
  },
  {
   "cell_type": "code",
   "execution_count": 165,
   "id": "ceb817dc",
   "metadata": {},
   "outputs": [],
   "source": [
    "df_cleaned.to_csv(os.path.join(path, 'Prepared', 'df_cleaned.csv'))"
   ]
  },
  {
   "cell_type": "code",
   "execution_count": 166,
   "id": "caee8abb",
   "metadata": {},
   "outputs": [],
   "source": [
    "df_cleaned=df.drop(columns=['DATE', 'MONTH'])\n",
    "df_ans=df_ans.drop(columns=['DATE'])"
   ]
  },
  {
   "cell_type": "markdown",
   "id": "0eead4d7",
   "metadata": {},
   "source": [
    "# Reshape Data"
   ]
  },
  {
   "cell_type": "code",
   "execution_count": 167,
   "id": "ed3cc5ab",
   "metadata": {},
   "outputs": [
    {
     "data": {
      "text/plain": [
       "(22950, 148)"
      ]
     },
     "execution_count": 167,
     "metadata": {},
     "output_type": "execute_result"
    }
   ],
   "source": [
    "df_cleaned.shape"
   ]
  },
  {
   "cell_type": "code",
   "execution_count": 168,
   "id": "244d9827",
   "metadata": {},
   "outputs": [],
   "source": [
    "#Create an 'X' matrix by dropping the unneeded columns.\n",
    "X = df_cleaned\n",
    "y = df_ans"
   ]
  },
  {
   "cell_type": "code",
   "execution_count": 169,
   "id": "b8999e07",
   "metadata": {},
   "outputs": [
    {
     "data": {
      "text/plain": [
       "(22950, 148)"
      ]
     },
     "execution_count": 169,
     "metadata": {},
     "output_type": "execute_result"
    }
   ],
   "source": [
    "X.shape"
   ]
  },
  {
   "cell_type": "code",
   "execution_count": 170,
   "id": "a7787541",
   "metadata": {},
   "outputs": [],
   "source": [
    "# Turn X and y from a df to arrays\n",
    "\n",
    "X = np.array(X)\n",
    "y = np.array(y)"
   ]
  },
  {
   "cell_type": "code",
   "execution_count": 171,
   "id": "edaf9dc6",
   "metadata": {},
   "outputs": [],
   "source": [
    "# reshape\n",
    "X = X.reshape(-1,15,9)"
   ]
  },
  {
   "cell_type": "code",
   "execution_count": 172,
   "id": "ef83e209",
   "metadata": {},
   "outputs": [
    {
     "data": {
      "text/plain": [
       "array([[[7, 2.1, 0.85, ..., 0, 0.7, 6.5],\n",
       "        [0.8, 10.9, 1, ..., 0.0, 7.0, 3.7],\n",
       "        [-0.9, 7.9, 4, ..., 0.01, 2.3, 2.4],\n",
       "        ...,\n",
       "        [8, 4.0, 0.98, ..., 0, 0.0, 4.9],\n",
       "        [3.8, 5.9, 4, ..., 0.48, 0.01, 2.3],\n",
       "        [-5.9, -8.5, -3.2, ..., 0.32, 0.0, 4.2]],\n",
       "\n",
       "       [[2.2, 4.9, 5, ..., 0.34, 0, 4.7],\n",
       "        [8.5, 6.0, 10.9, ..., 0.84, 1.018, 0.36],\n",
       "        [1.05, 0, 1.1, ..., 6, 0.84, 1.0172],\n",
       "        ...,\n",
       "        [0.9, 9.8, 7.4, ..., 0.61, 0.3, 0],\n",
       "        [5.1, 6.2, 4.2, ..., 0.62, 1.0139, 0.04],\n",
       "        [0.0, 0, 0.0, ..., 6, 6.7, 0.97]],\n",
       "\n",
       "       [[1.0292, 0.21, 0.61, ..., -8.5, 5, 1.0114],\n",
       "        [0.05, 0.06, 0.0, ..., 7, 0.91, 1.0007],\n",
       "        [0.25, 0.84, 0, ..., 12.1, '1960', 8],\n",
       "        ...,\n",
       "        [1.0167, 0.12, 0.46, ..., 9.9, 5, 1.9],\n",
       "        [0.9, 1.0287, 0.63, ..., 6.4, 10.8, 6],\n",
       "        [0.91, 0.2, 0.3, ..., 4.0, 8.0, 8]],\n",
       "\n",
       "       ...,\n",
       "\n",
       "       [[8, 4.4, 0.73, ..., 0, 4.0, 18.2],\n",
       "        [13.4, 22.0, 7, ..., 0.16, 0, 4.2],\n",
       "        [16.5, 11.2, 17.0, ..., 1.14, 0.19, 4.0],\n",
       "        ...,\n",
       "        ['2022', 5, 2.1, ..., 0.22, 0, 5.8],\n",
       "        [15.4, 11.6, 21.1, ..., 1.57, 0.18, 5.7],\n",
       "        [15.0, 9.1, 20.9, ..., 1.41, 0.14, 5.4]],\n",
       "\n",
       "       [[11.7, 7.9, 16.2, ..., 1.0174, 1.13, 0.22],\n",
       "        [6.0, 14.4, 10.3, ..., 0.73, 1.0176, 1.13],\n",
       "        [0.2, 0, 6.9, ..., 5, 0.86, 1.0147],\n",
       "        ...,\n",
       "        [7.5, 5.1, 12.4, ..., 1.13, 0.41, 0],\n",
       "        [3.4, 10.7, 7.9, ..., 2.1, 0.84, 1.0193],\n",
       "        [1.34, 0.22, 0, ..., 19.2, 4, 0.68]],\n",
       "\n",
       "       [[1.0235, 1.57, 0.18, ..., 18.4, 4, 0.67],\n",
       "        [1.017, 1.41, 0.14, ..., 16.2, 8, 2.5],\n",
       "        [0.89, 1.0156, 1.13, ..., 6.7, 16.2, 8],\n",
       "        ...,\n",
       "        [0.84, 1.0263, 1.56, ..., 0.7, 2.7, 5],\n",
       "        [1.0164, 1.11, 0.14, ..., 12.6, 5, 0.82],\n",
       "        [1.0142, 1.13, 0.41, ..., 7.9, 13.5, '2022']]], dtype=object)"
      ]
     },
     "execution_count": 172,
     "metadata": {},
     "output_type": "execute_result"
    }
   ],
   "source": [
    "# Check Shape\n",
    "\n",
    "X"
   ]
  },
  {
   "cell_type": "markdown",
   "id": "2ea38052",
   "metadata": {},
   "source": [
    "# Data Split"
   ]
  },
  {
   "cell_type": "code",
   "execution_count": 173,
   "id": "05d1ce1e",
   "metadata": {},
   "outputs": [
    {
     "ename": "ValueError",
     "evalue": "Found input variables with inconsistent numbers of samples: [25160, 22950]",
     "output_type": "error",
     "traceback": [
      "\u001b[1;31m---------------------------------------------------------------------------\u001b[0m",
      "\u001b[1;31mValueError\u001b[0m                                Traceback (most recent call last)",
      "Cell \u001b[1;32mIn[173], line 2\u001b[0m\n\u001b[0;32m      1\u001b[0m \u001b[38;5;66;03m# Split data into train and test sets\u001b[39;00m\n\u001b[1;32m----> 2\u001b[0m X_train, X_test, Y_train, Y_test \u001b[38;5;241m=\u001b[39m \u001b[43mtrain_test_split\u001b[49m\u001b[43m(\u001b[49m\u001b[43mX\u001b[49m\u001b[43m,\u001b[49m\u001b[43my\u001b[49m\u001b[43m,\u001b[49m\u001b[43mrandom_state\u001b[49m\u001b[43m \u001b[49m\u001b[38;5;241;43m=\u001b[39;49m\u001b[43m \u001b[49m\u001b[38;5;241;43m42\u001b[39;49m\u001b[43m)\u001b[49m\n",
      "File \u001b[1;32mc:\\Users\\Oa\\anaconda3\\Lib\\site-packages\\sklearn\\utils\\_param_validation.py:213\u001b[0m, in \u001b[0;36mvalidate_params.<locals>.decorator.<locals>.wrapper\u001b[1;34m(*args, **kwargs)\u001b[0m\n\u001b[0;32m    207\u001b[0m \u001b[38;5;28;01mtry\u001b[39;00m:\n\u001b[0;32m    208\u001b[0m     \u001b[38;5;28;01mwith\u001b[39;00m config_context(\n\u001b[0;32m    209\u001b[0m         skip_parameter_validation\u001b[38;5;241m=\u001b[39m(\n\u001b[0;32m    210\u001b[0m             prefer_skip_nested_validation \u001b[38;5;129;01mor\u001b[39;00m global_skip_validation\n\u001b[0;32m    211\u001b[0m         )\n\u001b[0;32m    212\u001b[0m     ):\n\u001b[1;32m--> 213\u001b[0m         \u001b[38;5;28;01mreturn\u001b[39;00m \u001b[43mfunc\u001b[49m\u001b[43m(\u001b[49m\u001b[38;5;241;43m*\u001b[39;49m\u001b[43margs\u001b[49m\u001b[43m,\u001b[49m\u001b[43m \u001b[49m\u001b[38;5;241;43m*\u001b[39;49m\u001b[38;5;241;43m*\u001b[39;49m\u001b[43mkwargs\u001b[49m\u001b[43m)\u001b[49m\n\u001b[0;32m    214\u001b[0m \u001b[38;5;28;01mexcept\u001b[39;00m InvalidParameterError \u001b[38;5;28;01mas\u001b[39;00m e:\n\u001b[0;32m    215\u001b[0m     \u001b[38;5;66;03m# When the function is just a wrapper around an estimator, we allow\u001b[39;00m\n\u001b[0;32m    216\u001b[0m     \u001b[38;5;66;03m# the function to delegate validation to the estimator, but we replace\u001b[39;00m\n\u001b[0;32m    217\u001b[0m     \u001b[38;5;66;03m# the name of the estimator by the name of the function in the error\u001b[39;00m\n\u001b[0;32m    218\u001b[0m     \u001b[38;5;66;03m# message to avoid confusion.\u001b[39;00m\n\u001b[0;32m    219\u001b[0m     msg \u001b[38;5;241m=\u001b[39m re\u001b[38;5;241m.\u001b[39msub(\n\u001b[0;32m    220\u001b[0m         \u001b[38;5;124mr\u001b[39m\u001b[38;5;124m\"\u001b[39m\u001b[38;5;124mparameter of \u001b[39m\u001b[38;5;124m\\\u001b[39m\u001b[38;5;124mw+ must be\u001b[39m\u001b[38;5;124m\"\u001b[39m,\n\u001b[0;32m    221\u001b[0m         \u001b[38;5;124mf\u001b[39m\u001b[38;5;124m\"\u001b[39m\u001b[38;5;124mparameter of \u001b[39m\u001b[38;5;132;01m{\u001b[39;00mfunc\u001b[38;5;241m.\u001b[39m\u001b[38;5;18m__qualname__\u001b[39m\u001b[38;5;132;01m}\u001b[39;00m\u001b[38;5;124m must be\u001b[39m\u001b[38;5;124m\"\u001b[39m,\n\u001b[0;32m    222\u001b[0m         \u001b[38;5;28mstr\u001b[39m(e),\n\u001b[0;32m    223\u001b[0m     )\n",
      "File \u001b[1;32mc:\\Users\\Oa\\anaconda3\\Lib\\site-packages\\sklearn\\model_selection\\_split.py:2657\u001b[0m, in \u001b[0;36mtrain_test_split\u001b[1;34m(test_size, train_size, random_state, shuffle, stratify, *arrays)\u001b[0m\n\u001b[0;32m   2654\u001b[0m \u001b[38;5;28;01mif\u001b[39;00m n_arrays \u001b[38;5;241m==\u001b[39m \u001b[38;5;241m0\u001b[39m:\n\u001b[0;32m   2655\u001b[0m     \u001b[38;5;28;01mraise\u001b[39;00m \u001b[38;5;167;01mValueError\u001b[39;00m(\u001b[38;5;124m\"\u001b[39m\u001b[38;5;124mAt least one array required as input\u001b[39m\u001b[38;5;124m\"\u001b[39m)\n\u001b[1;32m-> 2657\u001b[0m arrays \u001b[38;5;241m=\u001b[39m \u001b[43mindexable\u001b[49m\u001b[43m(\u001b[49m\u001b[38;5;241;43m*\u001b[39;49m\u001b[43marrays\u001b[49m\u001b[43m)\u001b[49m\n\u001b[0;32m   2659\u001b[0m n_samples \u001b[38;5;241m=\u001b[39m _num_samples(arrays[\u001b[38;5;241m0\u001b[39m])\n\u001b[0;32m   2660\u001b[0m n_train, n_test \u001b[38;5;241m=\u001b[39m _validate_shuffle_split(\n\u001b[0;32m   2661\u001b[0m     n_samples, test_size, train_size, default_test_size\u001b[38;5;241m=\u001b[39m\u001b[38;5;241m0.25\u001b[39m\n\u001b[0;32m   2662\u001b[0m )\n",
      "File \u001b[1;32mc:\\Users\\Oa\\anaconda3\\Lib\\site-packages\\sklearn\\utils\\validation.py:514\u001b[0m, in \u001b[0;36mindexable\u001b[1;34m(*iterables)\u001b[0m\n\u001b[0;32m    484\u001b[0m \u001b[38;5;250m\u001b[39m\u001b[38;5;124;03m\"\"\"Make arrays indexable for cross-validation.\u001b[39;00m\n\u001b[0;32m    485\u001b[0m \n\u001b[0;32m    486\u001b[0m \u001b[38;5;124;03mChecks consistent length, passes through None, and ensures that everything\u001b[39;00m\n\u001b[1;32m   (...)\u001b[0m\n\u001b[0;32m    510\u001b[0m \u001b[38;5;124;03m[[1, 2, 3], array([2, 3, 4]), None, <3x1 sparse matrix ...>]\u001b[39;00m\n\u001b[0;32m    511\u001b[0m \u001b[38;5;124;03m\"\"\"\u001b[39;00m\n\u001b[0;32m    513\u001b[0m result \u001b[38;5;241m=\u001b[39m [_make_indexable(X) \u001b[38;5;28;01mfor\u001b[39;00m X \u001b[38;5;129;01min\u001b[39;00m iterables]\n\u001b[1;32m--> 514\u001b[0m \u001b[43mcheck_consistent_length\u001b[49m\u001b[43m(\u001b[49m\u001b[38;5;241;43m*\u001b[39;49m\u001b[43mresult\u001b[49m\u001b[43m)\u001b[49m\n\u001b[0;32m    515\u001b[0m \u001b[38;5;28;01mreturn\u001b[39;00m result\n",
      "File \u001b[1;32mc:\\Users\\Oa\\anaconda3\\Lib\\site-packages\\sklearn\\utils\\validation.py:457\u001b[0m, in \u001b[0;36mcheck_consistent_length\u001b[1;34m(*arrays)\u001b[0m\n\u001b[0;32m    455\u001b[0m uniques \u001b[38;5;241m=\u001b[39m np\u001b[38;5;241m.\u001b[39munique(lengths)\n\u001b[0;32m    456\u001b[0m \u001b[38;5;28;01mif\u001b[39;00m \u001b[38;5;28mlen\u001b[39m(uniques) \u001b[38;5;241m>\u001b[39m \u001b[38;5;241m1\u001b[39m:\n\u001b[1;32m--> 457\u001b[0m     \u001b[38;5;28;01mraise\u001b[39;00m \u001b[38;5;167;01mValueError\u001b[39;00m(\n\u001b[0;32m    458\u001b[0m         \u001b[38;5;124m\"\u001b[39m\u001b[38;5;124mFound input variables with inconsistent numbers of samples: \u001b[39m\u001b[38;5;132;01m%r\u001b[39;00m\u001b[38;5;124m\"\u001b[39m\n\u001b[0;32m    459\u001b[0m         \u001b[38;5;241m%\u001b[39m [\u001b[38;5;28mint\u001b[39m(l) \u001b[38;5;28;01mfor\u001b[39;00m l \u001b[38;5;129;01min\u001b[39;00m lengths]\n\u001b[0;32m    460\u001b[0m     )\n",
      "\u001b[1;31mValueError\u001b[0m: Found input variables with inconsistent numbers of samples: [25160, 22950]"
     ]
    }
   ],
   "source": [
    "# Split data into train and test sets\n",
    "X_train, X_test, Y_train, Y_test = train_test_split(X,y,random_state = 42)"
   ]
  },
  {
   "cell_type": "code",
   "execution_count": 1398,
   "id": "fabcdd9f",
   "metadata": {},
   "outputs": [
    {
     "name": "stdout",
     "output_type": "stream",
     "text": [
      "(17212, 15, 9) | (17212, 15)\n",
      "(5738, 15, 9) | (5738, 15)\n"
     ]
    }
   ],
   "source": [
    "print(X_train.shape, \"|\", Y_train.shape)\n",
    "print(X_test.shape, \"|\", Y_test.shape)"
   ]
  },
  {
   "cell_type": "code",
   "execution_count": 1399,
   "id": "e719b5f0",
   "metadata": {},
   "outputs": [],
   "source": [
    "tf.random.set_seed(42)"
   ]
  },
  {
   "cell_type": "code",
   "execution_count": 1400,
   "id": "ff5d4f99",
   "metadata": {
    "scrolled": true
   },
   "outputs": [
    {
     "data": {
      "text/plain": [
       "array([[[  2.    ,   0.69  ,   1.0131, ...,  20.4   ,  13.6   ,\n",
       "          26.9   ],\n",
       "        [  3.    ,   0.53  ,   1.0132, ...,  22.5   ,  16.2   ,\n",
       "          28.6   ],\n",
       "        [  5.    ,   0.54  ,   1.0125, ...,  22.5   ,  18.6   ,\n",
       "          27.1   ],\n",
       "        ...,\n",
       "        [  1.029 ,   2.49  ,   0.18  , ...,   3.8   ,   5.    ,\n",
       "           1.0192],\n",
       "        [  2.19  ,   0.    ,   7.2   , ...,   6.    ,   0.83  ,\n",
       "           1.0082],\n",
       "        [  1.13  ,   0.28  ,   2.1   , ...,   6.    ,   1.029 ,\n",
       "           0.48  ]],\n",
       "\n",
       "       [[  8.    ,   0.82  ,   1.0166, ...,  -1.8   ,  -3.2   ,\n",
       "          -0.5   ],\n",
       "        [  1.    ,   0.66  ,   1.0209, ...,  -3.6   ,  -6.    ,\n",
       "           0.1   ],\n",
       "        [  4.    ,   0.67  ,   1.017 , ...,  -3.3   ,  -7.2   ,\n",
       "          -0.2   ],\n",
       "        ...,\n",
       "        [  1.0327,   0.96  ,   0.11  , ..., -15.6   ,   5.    ,\n",
       "           1.0076],\n",
       "        [  0.17  ,   0.    ,   1.4   , ...,   5.    ,   0.82  ,\n",
       "           1.0142],\n",
       "        [  0.23  ,   0.41  ,   3.4   , ...,   2.    ,   1.0327,\n",
       "           0.88  ]],\n",
       "\n",
       "       [[  7.    ,   0.84  ,   1.0097, ...,  -1.8   ,  -6.    ,\n",
       "           0.7   ],\n",
       "        [  7.    ,   0.94  ,   1.0104, ...,   3.2   ,   1.6   ,\n",
       "           6.7   ],\n",
       "        [  6.    ,   0.67  ,   1.017 , ...,  -0.4   ,  -1.3   ,\n",
       "           1.    ],\n",
       "        ...,\n",
       "        [  1.0218,   0.51  ,   0.24  , ..., -12.7   ,   7.    ,\n",
       "           1.0134],\n",
       "        [  0.11  ,   0.03  ,   0.9   , ...,   5.    ,   0.9   ,\n",
       "           1.0186],\n",
       "        [  0.43  ,   0.03  ,   3.2   , ...,   8.    ,   1.0218,\n",
       "           0.77  ]],\n",
       "\n",
       "       ...,\n",
       "\n",
       "       [[  6.    ,   0.82  ,   1.018 , ...,   6.3   ,   3.5   ,\n",
       "          11.9   ],\n",
       "        [  3.    ,   0.62  ,   1.0183, ...,  13.8   ,   7.6   ,\n",
       "          21.    ],\n",
       "        [  8.    ,   0.82  ,   1.0176, ...,   8.8   ,   7.5   ,\n",
       "          11.7   ],\n",
       "        ...,\n",
       "        [  1.0313,   0.74  ,   2.03  , ...,  -5.7   ,   8.    ,\n",
       "           1.0033],\n",
       "        [  0.26  ,   1.14  ,   0.    , ...,   6.    ,   0.74  ,\n",
       "           1.023 ],\n",
       "        [  1.05  ,   0.33  ,   3.3   , ...,   8.    ,   1.0313,\n",
       "           0.72  ]],\n",
       "\n",
       "       [[  7.    ,   0.7   ,   1.018 , ...,  10.1   ,   8.2   ,\n",
       "          15.7   ],\n",
       "        [  4.    ,   0.62  ,   1.0121, ...,  20.6   ,  17.    ,\n",
       "          25.6   ],\n",
       "        [  4.    ,   0.67  ,   1.017 , ...,  19.8   ,  16.4   ,\n",
       "          24.3   ],\n",
       "        ...,\n",
       "        [  1.0274,   1.33  ,   1.5   , ...,   1.    ,   8.    ,\n",
       "           1.0121],\n",
       "        [  1.65  ,   0.17  ,   3.2   , ...,   7.    ,   0.86  ,\n",
       "           1.0124],\n",
       "        [  2.02  ,   0.11  ,   4.4   , ...,   6.    ,   1.0274,\n",
       "           0.78  ]],\n",
       "\n",
       "       [[  6.    ,   0.68  ,   1.0195, ...,  11.6   ,   5.1   ,\n",
       "          15.8   ],\n",
       "        [  4.    ,   0.43  ,   1.0139, ...,  15.2   ,  10.9   ,\n",
       "          22.2   ],\n",
       "        [  4.    ,   0.48  ,   1.0134, ...,  13.2   ,  11.8   ,\n",
       "          17.3   ],\n",
       "        ...,\n",
       "        [  1.0339,   1.46  ,   0.79  , ...,  -4.4   ,   6.    ,\n",
       "           1.0148],\n",
       "        [  1.39  ,   0.04  ,   6.7   , ...,   7.    ,   0.8   ,\n",
       "           1.0242],\n",
       "        [  1.4   ,   0.55  ,   2.5   , ...,   6.    ,   1.0339,\n",
       "           0.48  ]]])"
      ]
     },
     "execution_count": 1400,
     "metadata": {},
     "output_type": "execute_result"
    }
   ],
   "source": [
    "X_train"
   ]
  },
  {
   "cell_type": "code",
   "execution_count": 1401,
   "id": "2ff3e434",
   "metadata": {},
   "outputs": [],
   "source": [
    "#len(X_train[0])"
   ]
  },
  {
   "cell_type": "code",
   "execution_count": 1402,
   "id": "19b6852a",
   "metadata": {},
   "outputs": [],
   "source": [
    "#len(X_train[0][0])"
   ]
  },
  {
   "cell_type": "markdown",
   "id": "b4335097",
   "metadata": {},
   "source": [
    "# CNN"
   ]
  },
  {
   "cell_type": "code",
   "execution_count": 1403,
   "id": "871ddcff",
   "metadata": {},
   "outputs": [
    {
     "name": "stderr",
     "output_type": "stream",
     "text": [
      "c:\\Users\\Oa\\anaconda3\\Lib\\site-packages\\keras\\src\\layers\\convolutional\\base_conv.py:107: UserWarning: Do not pass an `input_shape`/`input_dim` argument to a layer. When using Sequential models, prefer using an `Input(shape)` object as the first layer in the model instead.\n",
      "  super().__init__(activity_regularizer=activity_regularizer, **kwargs)\n"
     ]
    }
   ],
   "source": [
    "epochs = 30\n",
    "batch_size = 32\n",
    "n_hidden = 256\n",
    "\n",
    "timesteps = len(X_train[0])\n",
    "input_dim = len(X_train[0][0])\n",
    "n_classes = len(Y_train[0])\n",
    "\n",
    "model = Sequential()\n",
    "model.add(Conv1D(n_hidden, kernel_size=2, activation='relu', input_shape=(timesteps, input_dim)))\n",
    "model.add(Dense(16, activation='relu'))\n",
    "model.add(MaxPooling1D())\n",
    "model.add(Flatten())\n",
    "model.add(Dense(n_classes, activation='softmax')) "
   ]
  },
  {
   "cell_type": "code",
   "execution_count": 1404,
   "id": "ec579752",
   "metadata": {},
   "outputs": [
    {
     "data": {
      "text/html": [
       "<pre style=\"white-space:pre;overflow-x:auto;line-height:normal;font-family:Menlo,'DejaVu Sans Mono',consolas,'Courier New',monospace\"><span style=\"font-weight: bold\">Model: \"sequential_17\"</span>\n",
       "</pre>\n"
      ],
      "text/plain": [
       "\u001b[1mModel: \"sequential_17\"\u001b[0m\n"
      ]
     },
     "metadata": {},
     "output_type": "display_data"
    },
    {
     "data": {
      "text/html": [
       "<pre style=\"white-space:pre;overflow-x:auto;line-height:normal;font-family:Menlo,'DejaVu Sans Mono',consolas,'Courier New',monospace\">┏━━━━━━━━━━━━━━━━━━━━━━━━━━━━━━━━━┳━━━━━━━━━━━━━━━━━━━━━━━━┳━━━━━━━━━━━━━━━┓\n",
       "┃<span style=\"font-weight: bold\"> Layer (type)                    </span>┃<span style=\"font-weight: bold\"> Output Shape           </span>┃<span style=\"font-weight: bold\">       Param # </span>┃\n",
       "┡━━━━━━━━━━━━━━━━━━━━━━━━━━━━━━━━━╇━━━━━━━━━━━━━━━━━━━━━━━━╇━━━━━━━━━━━━━━━┩\n",
       "│ conv1d_16 (<span style=\"color: #0087ff; text-decoration-color: #0087ff\">Conv1D</span>)              │ (<span style=\"color: #00d7ff; text-decoration-color: #00d7ff\">None</span>, <span style=\"color: #00af00; text-decoration-color: #00af00\">14</span>, <span style=\"color: #00af00; text-decoration-color: #00af00\">256</span>)        │         <span style=\"color: #00af00; text-decoration-color: #00af00\">4,864</span> │\n",
       "├─────────────────────────────────┼────────────────────────┼───────────────┤\n",
       "│ dense_32 (<span style=\"color: #0087ff; text-decoration-color: #0087ff\">Dense</span>)                │ (<span style=\"color: #00d7ff; text-decoration-color: #00d7ff\">None</span>, <span style=\"color: #00af00; text-decoration-color: #00af00\">14</span>, <span style=\"color: #00af00; text-decoration-color: #00af00\">16</span>)         │         <span style=\"color: #00af00; text-decoration-color: #00af00\">4,112</span> │\n",
       "├─────────────────────────────────┼────────────────────────┼───────────────┤\n",
       "│ max_pooling1d_16 (<span style=\"color: #0087ff; text-decoration-color: #0087ff\">MaxPooling1D</span>) │ (<span style=\"color: #00d7ff; text-decoration-color: #00d7ff\">None</span>, <span style=\"color: #00af00; text-decoration-color: #00af00\">7</span>, <span style=\"color: #00af00; text-decoration-color: #00af00\">16</span>)          │             <span style=\"color: #00af00; text-decoration-color: #00af00\">0</span> │\n",
       "├─────────────────────────────────┼────────────────────────┼───────────────┤\n",
       "│ flatten_16 (<span style=\"color: #0087ff; text-decoration-color: #0087ff\">Flatten</span>)            │ (<span style=\"color: #00d7ff; text-decoration-color: #00d7ff\">None</span>, <span style=\"color: #00af00; text-decoration-color: #00af00\">112</span>)            │             <span style=\"color: #00af00; text-decoration-color: #00af00\">0</span> │\n",
       "├─────────────────────────────────┼────────────────────────┼───────────────┤\n",
       "│ dense_33 (<span style=\"color: #0087ff; text-decoration-color: #0087ff\">Dense</span>)                │ (<span style=\"color: #00d7ff; text-decoration-color: #00d7ff\">None</span>, <span style=\"color: #00af00; text-decoration-color: #00af00\">15</span>)             │         <span style=\"color: #00af00; text-decoration-color: #00af00\">1,695</span> │\n",
       "└─────────────────────────────────┴────────────────────────┴───────────────┘\n",
       "</pre>\n"
      ],
      "text/plain": [
       "┏━━━━━━━━━━━━━━━━━━━━━━━━━━━━━━━━━┳━━━━━━━━━━━━━━━━━━━━━━━━┳━━━━━━━━━━━━━━━┓\n",
       "┃\u001b[1m \u001b[0m\u001b[1mLayer (type)                   \u001b[0m\u001b[1m \u001b[0m┃\u001b[1m \u001b[0m\u001b[1mOutput Shape          \u001b[0m\u001b[1m \u001b[0m┃\u001b[1m \u001b[0m\u001b[1m      Param #\u001b[0m\u001b[1m \u001b[0m┃\n",
       "┡━━━━━━━━━━━━━━━━━━━━━━━━━━━━━━━━━╇━━━━━━━━━━━━━━━━━━━━━━━━╇━━━━━━━━━━━━━━━┩\n",
       "│ conv1d_16 (\u001b[38;5;33mConv1D\u001b[0m)              │ (\u001b[38;5;45mNone\u001b[0m, \u001b[38;5;34m14\u001b[0m, \u001b[38;5;34m256\u001b[0m)        │         \u001b[38;5;34m4,864\u001b[0m │\n",
       "├─────────────────────────────────┼────────────────────────┼───────────────┤\n",
       "│ dense_32 (\u001b[38;5;33mDense\u001b[0m)                │ (\u001b[38;5;45mNone\u001b[0m, \u001b[38;5;34m14\u001b[0m, \u001b[38;5;34m16\u001b[0m)         │         \u001b[38;5;34m4,112\u001b[0m │\n",
       "├─────────────────────────────────┼────────────────────────┼───────────────┤\n",
       "│ max_pooling1d_16 (\u001b[38;5;33mMaxPooling1D\u001b[0m) │ (\u001b[38;5;45mNone\u001b[0m, \u001b[38;5;34m7\u001b[0m, \u001b[38;5;34m16\u001b[0m)          │             \u001b[38;5;34m0\u001b[0m │\n",
       "├─────────────────────────────────┼────────────────────────┼───────────────┤\n",
       "│ flatten_16 (\u001b[38;5;33mFlatten\u001b[0m)            │ (\u001b[38;5;45mNone\u001b[0m, \u001b[38;5;34m112\u001b[0m)            │             \u001b[38;5;34m0\u001b[0m │\n",
       "├─────────────────────────────────┼────────────────────────┼───────────────┤\n",
       "│ dense_33 (\u001b[38;5;33mDense\u001b[0m)                │ (\u001b[38;5;45mNone\u001b[0m, \u001b[38;5;34m15\u001b[0m)             │         \u001b[38;5;34m1,695\u001b[0m │\n",
       "└─────────────────────────────────┴────────────────────────┴───────────────┘\n"
      ]
     },
     "metadata": {},
     "output_type": "display_data"
    },
    {
     "data": {
      "text/html": [
       "<pre style=\"white-space:pre;overflow-x:auto;line-height:normal;font-family:Menlo,'DejaVu Sans Mono',consolas,'Courier New',monospace\"><span style=\"font-weight: bold\"> Total params: </span><span style=\"color: #00af00; text-decoration-color: #00af00\">10,671</span> (41.68 KB)\n",
       "</pre>\n"
      ],
      "text/plain": [
       "\u001b[1m Total params: \u001b[0m\u001b[38;5;34m10,671\u001b[0m (41.68 KB)\n"
      ]
     },
     "metadata": {},
     "output_type": "display_data"
    },
    {
     "data": {
      "text/html": [
       "<pre style=\"white-space:pre;overflow-x:auto;line-height:normal;font-family:Menlo,'DejaVu Sans Mono',consolas,'Courier New',monospace\"><span style=\"font-weight: bold\"> Trainable params: </span><span style=\"color: #00af00; text-decoration-color: #00af00\">10,671</span> (41.68 KB)\n",
       "</pre>\n"
      ],
      "text/plain": [
       "\u001b[1m Trainable params: \u001b[0m\u001b[38;5;34m10,671\u001b[0m (41.68 KB)\n"
      ]
     },
     "metadata": {},
     "output_type": "display_data"
    },
    {
     "data": {
      "text/html": [
       "<pre style=\"white-space:pre;overflow-x:auto;line-height:normal;font-family:Menlo,'DejaVu Sans Mono',consolas,'Courier New',monospace\"><span style=\"font-weight: bold\"> Non-trainable params: </span><span style=\"color: #00af00; text-decoration-color: #00af00\">0</span> (0.00 B)\n",
       "</pre>\n"
      ],
      "text/plain": [
       "\u001b[1m Non-trainable params: \u001b[0m\u001b[38;5;34m0\u001b[0m (0.00 B)\n"
      ]
     },
     "metadata": {},
     "output_type": "display_data"
    }
   ],
   "source": [
    "model.summary()"
   ]
  },
  {
   "cell_type": "markdown",
   "id": "69e2abfb",
   "metadata": {},
   "source": [
    "# Compiling and Running"
   ]
  },
  {
   "cell_type": "code",
   "execution_count": 1405,
   "id": "8309a220",
   "metadata": {},
   "outputs": [],
   "source": [
    "model.compile(loss='categorical_crossentropy', optimizer='adam', metrics=['accuracy'])"
   ]
  },
  {
   "cell_type": "code",
   "execution_count": 1406,
   "id": "6138bf34",
   "metadata": {
    "scrolled": true
   },
   "outputs": [
    {
     "name": "stdout",
     "output_type": "stream",
     "text": [
      "Epoch 1/30\n",
      "538/538 - 8s - 15ms/step - accuracy: 0.0713 - loss: 10041.0586\n",
      "Epoch 2/30\n",
      "538/538 - 3s - 5ms/step - accuracy: 0.0935 - loss: 109881.1562\n",
      "Epoch 3/30\n",
      "538/538 - 3s - 6ms/step - accuracy: 0.1099 - loss: 377478.4688\n",
      "Epoch 4/30\n",
      "538/538 - 3s - 6ms/step - accuracy: 0.1186 - loss: 852041.3750\n",
      "Epoch 5/30\n",
      "538/538 - 4s - 8ms/step - accuracy: 0.1169 - loss: 1557931.7500\n",
      "Epoch 6/30\n",
      "538/538 - 3s - 6ms/step - accuracy: 0.1218 - loss: 2507014.7500\n",
      "Epoch 7/30\n",
      "538/538 - 4s - 7ms/step - accuracy: 0.1260 - loss: 3702218.0000\n",
      "Epoch 8/30\n",
      "538/538 - 3s - 5ms/step - accuracy: 0.1224 - loss: 5140565.5000\n",
      "Epoch 9/30\n",
      "538/538 - 5s - 9ms/step - accuracy: 0.1244 - loss: 6796586.5000\n",
      "Epoch 10/30\n",
      "538/538 - 3s - 5ms/step - accuracy: 0.1193 - loss: 8679304.0000\n",
      "Epoch 11/30\n",
      "538/538 - 3s - 6ms/step - accuracy: 0.1233 - loss: 10775961.0000\n",
      "Epoch 12/30\n",
      "538/538 - 3s - 6ms/step - accuracy: 0.1239 - loss: 13063256.0000\n",
      "Epoch 13/30\n",
      "538/538 - 3s - 6ms/step - accuracy: 0.1200 - loss: 15492854.0000\n",
      "Epoch 14/30\n",
      "538/538 - 5s - 10ms/step - accuracy: 0.1226 - loss: 17985506.0000\n",
      "Epoch 15/30\n",
      "538/538 - 4s - 7ms/step - accuracy: 0.1221 - loss: 20698860.0000\n",
      "Epoch 16/30\n",
      "538/538 - 5s - 9ms/step - accuracy: 0.1261 - loss: 23381362.0000\n",
      "Epoch 17/30\n",
      "538/538 - 3s - 5ms/step - accuracy: 0.1219 - loss: 26234810.0000\n",
      "Epoch 18/30\n",
      "538/538 - 5s - 9ms/step - accuracy: 0.1222 - loss: 29183600.0000\n",
      "Epoch 19/30\n",
      "538/538 - 3s - 5ms/step - accuracy: 0.1206 - loss: 32301588.0000\n",
      "Epoch 20/30\n",
      "538/538 - 5s - 9ms/step - accuracy: 0.1204 - loss: 35489780.0000\n",
      "Epoch 21/30\n",
      "538/538 - 6s - 11ms/step - accuracy: 0.1212 - loss: 38738408.0000\n",
      "Epoch 22/30\n",
      "538/538 - 3s - 5ms/step - accuracy: 0.1224 - loss: 42266800.0000\n",
      "Epoch 23/30\n",
      "538/538 - 3s - 5ms/step - accuracy: 0.1208 - loss: 45963012.0000\n",
      "Epoch 24/30\n",
      "538/538 - 3s - 6ms/step - accuracy: 0.1208 - loss: 49660084.0000\n",
      "Epoch 25/30\n",
      "538/538 - 5s - 10ms/step - accuracy: 0.1189 - loss: 53554132.0000\n",
      "Epoch 26/30\n",
      "538/538 - 3s - 6ms/step - accuracy: 0.1220 - loss: 57776988.0000\n",
      "Epoch 27/30\n",
      "538/538 - 5s - 9ms/step - accuracy: 0.1227 - loss: 61956396.0000\n",
      "Epoch 28/30\n",
      "538/538 - 3s - 5ms/step - accuracy: 0.1184 - loss: 66443072.0000\n",
      "Epoch 29/30\n",
      "538/538 - 3s - 5ms/step - accuracy: 0.1203 - loss: 71020448.0000\n",
      "Epoch 30/30\n",
      "538/538 - 3s - 6ms/step - accuracy: 0.1202 - loss: 75789136.0000\n"
     ]
    },
    {
     "data": {
      "text/plain": [
       "<keras.src.callbacks.history.History at 0x13e4a533aa0>"
      ]
     },
     "execution_count": 1406,
     "metadata": {},
     "output_type": "execute_result"
    }
   ],
   "source": [
    "model.fit(X_train, Y_train, batch_size=batch_size, epochs=epochs, verbose=2)"
   ]
  },
  {
   "cell_type": "code",
   "execution_count": 1407,
   "id": "de3f1317",
   "metadata": {},
   "outputs": [],
   "source": [
    "# Define list of stations names\n",
    "\n",
    "stations = {\n",
    "0: 'BASEL',\n",
    "1: 'BELGRADE',\n",
    "2: 'BUDAPEST',\n",
    "3: 'DEBILT',\n",
    "4: 'DUSSELDORF',\n",
    "5: 'HEATHROW',\n",
    "6: 'KASSEL',\n",
    "7: 'LJUBLJANA',\n",
    "8: 'MAASTRICHT',\n",
    "9: 'MADRID',\n",
    "10: 'MUNCHENB',\n",
    "11: 'OSLO',\n",
    "12: 'SONNBLICK',\n",
    "13: 'STOCKHOLM',\n",
    "14: 'VALENTIA'\n",
    "\n",
    "}"
   ]
  },
  {
   "cell_type": "code",
   "execution_count": 1408,
   "id": "9a2e9380",
   "metadata": {},
   "outputs": [],
   "source": [
    "def confusion_matrix(Y_true, Y_pred):\n",
    "    Y_true = pd.Series([stations[y] for y in np.argmax(Y_true, axis=1)])\n",
    "    Y_pred = pd.Series([stations[y] for y in np.argmax(Y_pred, axis=1)])\n",
    "\n",
    "    return pd.crosstab(Y_true, Y_pred, rownames=['True'], colnames=['Pred'])"
   ]
  },
  {
   "cell_type": "code",
   "execution_count": 1409,
   "id": "8048cdd7",
   "metadata": {},
   "outputs": [
    {
     "data": {
      "text/plain": [
       "{'BASEL',\n",
       " 'BELGRADE',\n",
       " 'BUDAPEST',\n",
       " 'DEBILT',\n",
       " 'DUSSELDORF',\n",
       " 'HEATHROW',\n",
       " 'KASSEL',\n",
       " 'LJUBLJANA',\n",
       " 'MAASTRICHT',\n",
       " 'MADRID',\n",
       " 'OSLO',\n",
       " 'SONNBLICK',\n",
       " 'STOCKHOLM',\n",
       " 'VALENTIA'}"
      ]
     },
     "execution_count": 1409,
     "metadata": {},
     "output_type": "execute_result"
    }
   ],
   "source": [
    "station_names"
   ]
  },
  {
   "cell_type": "code",
   "execution_count": 1410,
   "id": "37d93a57",
   "metadata": {
    "scrolled": true
   },
   "outputs": [
    {
     "name": "stdout",
     "output_type": "stream",
     "text": [
      "\u001b[1m180/180\u001b[0m \u001b[32m━━━━━━━━━━━━━━━━━━━━\u001b[0m\u001b[37m\u001b[0m \u001b[1m1s\u001b[0m 5ms/step\n",
      "Pred        BELGRADE  DEBILT  DUSSELDORF  HEATHROW  KASSEL  LJUBLJANA  \\\n",
      "True                                                                    \n",
      "BASEL            265       4           9       199      19       2353   \n",
      "BELGRADE          99       0           0         1       0        794   \n",
      "BUDAPEST          11       0           0         0       0        123   \n",
      "DEBILT             1       0           0         0       0         34   \n",
      "DUSSELDORF         1       0           0         0       0         13   \n",
      "HEATHROW           2       0           0         0       0         35   \n",
      "KASSEL             0       0           0         0       0          6   \n",
      "LJUBLJANA          1       0           0         0       0         52   \n",
      "MAASTRICHT         0       0           0         0       0          7   \n",
      "MADRID            43       0           0        12       0        302   \n",
      "MUNCHENB           1       0           0         0       0          7   \n",
      "OSLO               1       0           0         0       0          1   \n",
      "STOCKHOLM          1       0           0         0       0          0   \n",
      "VALENTIA           0       0           0         0       0          0   \n",
      "\n",
      "Pred        MAASTRICHT  MUNCHENB  OSLO  SONNBLICK  STOCKHOLM  VALENTIA  \n",
      "True                                                                    \n",
      "BASEL                2        24     5          1        794         7  \n",
      "BELGRADE             0         0     0          0        198         0  \n",
      "BUDAPEST             0         0     0          0         80         0  \n",
      "DEBILT               0         0     0          0         47         0  \n",
      "DUSSELDORF           0         0     0          0         15         0  \n",
      "HEATHROW             0         0     0          0         45         0  \n",
      "KASSEL               0         0     0          0          5         0  \n",
      "LJUBLJANA            0         0     0          0          8         0  \n",
      "MAASTRICHT           0         0     0          0          2         0  \n",
      "MADRID               0         0     0          0        101         0  \n",
      "MUNCHENB             0         0     0          0          0         0  \n",
      "OSLO                 0         0     0          0          3         0  \n",
      "STOCKHOLM            0         0     0          0          3         0  \n",
      "VALENTIA             0         0     0          0          1         0  \n"
     ]
    }
   ],
   "source": [
    "# Evaluate\n",
    "print(confusion_matrix(Y_test, model.predict(X_test)))"
   ]
  },
  {
   "cell_type": "markdown",
   "id": "2db80f08",
   "metadata": {},
   "source": [
    "# CNN 2"
   ]
  },
  {
   "cell_type": "code",
   "execution_count": 1419,
   "id": "d2f77c53",
   "metadata": {},
   "outputs": [
    {
     "name": "stderr",
     "output_type": "stream",
     "text": [
      "c:\\Users\\Oa\\anaconda3\\Lib\\site-packages\\keras\\src\\layers\\convolutional\\base_conv.py:107: UserWarning: Do not pass an `input_shape`/`input_dim` argument to a layer. When using Sequential models, prefer using an `Input(shape)` object as the first layer in the model instead.\n",
      "  super().__init__(activity_regularizer=activity_regularizer, **kwargs)\n"
     ]
    }
   ],
   "source": [
    "epochs = 30\n",
    "batch_size = 16\n",
    "n_hidden = 16\n",
    "\n",
    "timesteps = len(X_train[0])\n",
    "input_dim = len(X_train[0][0])\n",
    "n_classes = len(Y_train[0])\n",
    "\n",
    "model = Sequential()\n",
    "model.add(Conv1D(n_hidden, kernel_size=2, activation='relu', input_shape=(timesteps, input_dim)))\n",
    "model.add(Dense(16, activation='relu'))\n",
    "model.add(MaxPooling1D())\n",
    "model.add(Flatten())\n",
    "model.add(Dense(n_classes, activation='softmax')) #sigmoid"
   ]
  },
  {
   "cell_type": "code",
   "execution_count": 1420,
   "id": "2837df0a",
   "metadata": {},
   "outputs": [
    {
     "data": {
      "text/html": [
       "<pre style=\"white-space:pre;overflow-x:auto;line-height:normal;font-family:Menlo,'DejaVu Sans Mono',consolas,'Courier New',monospace\"><span style=\"font-weight: bold\">Model: \"sequential_19\"</span>\n",
       "</pre>\n"
      ],
      "text/plain": [
       "\u001b[1mModel: \"sequential_19\"\u001b[0m\n"
      ]
     },
     "metadata": {},
     "output_type": "display_data"
    },
    {
     "data": {
      "text/html": [
       "<pre style=\"white-space:pre;overflow-x:auto;line-height:normal;font-family:Menlo,'DejaVu Sans Mono',consolas,'Courier New',monospace\">┏━━━━━━━━━━━━━━━━━━━━━━━━━━━━━━━━━┳━━━━━━━━━━━━━━━━━━━━━━━━┳━━━━━━━━━━━━━━━┓\n",
       "┃<span style=\"font-weight: bold\"> Layer (type)                    </span>┃<span style=\"font-weight: bold\"> Output Shape           </span>┃<span style=\"font-weight: bold\">       Param # </span>┃\n",
       "┡━━━━━━━━━━━━━━━━━━━━━━━━━━━━━━━━━╇━━━━━━━━━━━━━━━━━━━━━━━━╇━━━━━━━━━━━━━━━┩\n",
       "│ conv1d_18 (<span style=\"color: #0087ff; text-decoration-color: #0087ff\">Conv1D</span>)              │ (<span style=\"color: #00d7ff; text-decoration-color: #00d7ff\">None</span>, <span style=\"color: #00af00; text-decoration-color: #00af00\">14</span>, <span style=\"color: #00af00; text-decoration-color: #00af00\">16</span>)         │           <span style=\"color: #00af00; text-decoration-color: #00af00\">304</span> │\n",
       "├─────────────────────────────────┼────────────────────────┼───────────────┤\n",
       "│ dense_36 (<span style=\"color: #0087ff; text-decoration-color: #0087ff\">Dense</span>)                │ (<span style=\"color: #00d7ff; text-decoration-color: #00d7ff\">None</span>, <span style=\"color: #00af00; text-decoration-color: #00af00\">14</span>, <span style=\"color: #00af00; text-decoration-color: #00af00\">16</span>)         │           <span style=\"color: #00af00; text-decoration-color: #00af00\">272</span> │\n",
       "├─────────────────────────────────┼────────────────────────┼───────────────┤\n",
       "│ max_pooling1d_18 (<span style=\"color: #0087ff; text-decoration-color: #0087ff\">MaxPooling1D</span>) │ (<span style=\"color: #00d7ff; text-decoration-color: #00d7ff\">None</span>, <span style=\"color: #00af00; text-decoration-color: #00af00\">7</span>, <span style=\"color: #00af00; text-decoration-color: #00af00\">16</span>)          │             <span style=\"color: #00af00; text-decoration-color: #00af00\">0</span> │\n",
       "├─────────────────────────────────┼────────────────────────┼───────────────┤\n",
       "│ flatten_18 (<span style=\"color: #0087ff; text-decoration-color: #0087ff\">Flatten</span>)            │ (<span style=\"color: #00d7ff; text-decoration-color: #00d7ff\">None</span>, <span style=\"color: #00af00; text-decoration-color: #00af00\">112</span>)            │             <span style=\"color: #00af00; text-decoration-color: #00af00\">0</span> │\n",
       "├─────────────────────────────────┼────────────────────────┼───────────────┤\n",
       "│ dense_37 (<span style=\"color: #0087ff; text-decoration-color: #0087ff\">Dense</span>)                │ (<span style=\"color: #00d7ff; text-decoration-color: #00d7ff\">None</span>, <span style=\"color: #00af00; text-decoration-color: #00af00\">15</span>)             │         <span style=\"color: #00af00; text-decoration-color: #00af00\">1,695</span> │\n",
       "└─────────────────────────────────┴────────────────────────┴───────────────┘\n",
       "</pre>\n"
      ],
      "text/plain": [
       "┏━━━━━━━━━━━━━━━━━━━━━━━━━━━━━━━━━┳━━━━━━━━━━━━━━━━━━━━━━━━┳━━━━━━━━━━━━━━━┓\n",
       "┃\u001b[1m \u001b[0m\u001b[1mLayer (type)                   \u001b[0m\u001b[1m \u001b[0m┃\u001b[1m \u001b[0m\u001b[1mOutput Shape          \u001b[0m\u001b[1m \u001b[0m┃\u001b[1m \u001b[0m\u001b[1m      Param #\u001b[0m\u001b[1m \u001b[0m┃\n",
       "┡━━━━━━━━━━━━━━━━━━━━━━━━━━━━━━━━━╇━━━━━━━━━━━━━━━━━━━━━━━━╇━━━━━━━━━━━━━━━┩\n",
       "│ conv1d_18 (\u001b[38;5;33mConv1D\u001b[0m)              │ (\u001b[38;5;45mNone\u001b[0m, \u001b[38;5;34m14\u001b[0m, \u001b[38;5;34m16\u001b[0m)         │           \u001b[38;5;34m304\u001b[0m │\n",
       "├─────────────────────────────────┼────────────────────────┼───────────────┤\n",
       "│ dense_36 (\u001b[38;5;33mDense\u001b[0m)                │ (\u001b[38;5;45mNone\u001b[0m, \u001b[38;5;34m14\u001b[0m, \u001b[38;5;34m16\u001b[0m)         │           \u001b[38;5;34m272\u001b[0m │\n",
       "├─────────────────────────────────┼────────────────────────┼───────────────┤\n",
       "│ max_pooling1d_18 (\u001b[38;5;33mMaxPooling1D\u001b[0m) │ (\u001b[38;5;45mNone\u001b[0m, \u001b[38;5;34m7\u001b[0m, \u001b[38;5;34m16\u001b[0m)          │             \u001b[38;5;34m0\u001b[0m │\n",
       "├─────────────────────────────────┼────────────────────────┼───────────────┤\n",
       "│ flatten_18 (\u001b[38;5;33mFlatten\u001b[0m)            │ (\u001b[38;5;45mNone\u001b[0m, \u001b[38;5;34m112\u001b[0m)            │             \u001b[38;5;34m0\u001b[0m │\n",
       "├─────────────────────────────────┼────────────────────────┼───────────────┤\n",
       "│ dense_37 (\u001b[38;5;33mDense\u001b[0m)                │ (\u001b[38;5;45mNone\u001b[0m, \u001b[38;5;34m15\u001b[0m)             │         \u001b[38;5;34m1,695\u001b[0m │\n",
       "└─────────────────────────────────┴────────────────────────┴───────────────┘\n"
      ]
     },
     "metadata": {},
     "output_type": "display_data"
    },
    {
     "data": {
      "text/html": [
       "<pre style=\"white-space:pre;overflow-x:auto;line-height:normal;font-family:Menlo,'DejaVu Sans Mono',consolas,'Courier New',monospace\"><span style=\"font-weight: bold\"> Total params: </span><span style=\"color: #00af00; text-decoration-color: #00af00\">2,271</span> (8.87 KB)\n",
       "</pre>\n"
      ],
      "text/plain": [
       "\u001b[1m Total params: \u001b[0m\u001b[38;5;34m2,271\u001b[0m (8.87 KB)\n"
      ]
     },
     "metadata": {},
     "output_type": "display_data"
    },
    {
     "data": {
      "text/html": [
       "<pre style=\"white-space:pre;overflow-x:auto;line-height:normal;font-family:Menlo,'DejaVu Sans Mono',consolas,'Courier New',monospace\"><span style=\"font-weight: bold\"> Trainable params: </span><span style=\"color: #00af00; text-decoration-color: #00af00\">2,271</span> (8.87 KB)\n",
       "</pre>\n"
      ],
      "text/plain": [
       "\u001b[1m Trainable params: \u001b[0m\u001b[38;5;34m2,271\u001b[0m (8.87 KB)\n"
      ]
     },
     "metadata": {},
     "output_type": "display_data"
    },
    {
     "data": {
      "text/html": [
       "<pre style=\"white-space:pre;overflow-x:auto;line-height:normal;font-family:Menlo,'DejaVu Sans Mono',consolas,'Courier New',monospace\"><span style=\"font-weight: bold\"> Non-trainable params: </span><span style=\"color: #00af00; text-decoration-color: #00af00\">0</span> (0.00 B)\n",
       "</pre>\n"
      ],
      "text/plain": [
       "\u001b[1m Non-trainable params: \u001b[0m\u001b[38;5;34m0\u001b[0m (0.00 B)\n"
      ]
     },
     "metadata": {},
     "output_type": "display_data"
    }
   ],
   "source": [
    "model.summary()"
   ]
  },
  {
   "cell_type": "markdown",
   "id": "c72a21ed",
   "metadata": {},
   "source": [
    "# Compiling and Running 2"
   ]
  },
  {
   "cell_type": "code",
   "execution_count": 1421,
   "id": "baef8d21",
   "metadata": {},
   "outputs": [],
   "source": [
    "model.compile(loss='categorical_crossentropy', optimizer='adam', metrics=['accuracy'])"
   ]
  },
  {
   "cell_type": "code",
   "execution_count": 1422,
   "id": "18571786",
   "metadata": {},
   "outputs": [
    {
     "name": "stdout",
     "output_type": "stream",
     "text": [
      "Epoch 1/30\n"
     ]
    },
    {
     "name": "stdout",
     "output_type": "stream",
     "text": [
      "1076/1076 - 7s - 7ms/step - accuracy: 0.0789 - loss: 3553.1663\n",
      "Epoch 2/30\n",
      "1076/1076 - 4s - 4ms/step - accuracy: 0.1104 - loss: 35182.0938\n",
      "Epoch 3/30\n",
      "1076/1076 - 5s - 4ms/step - accuracy: 0.1197 - loss: 115060.3516\n",
      "Epoch 4/30\n",
      "1076/1076 - 4s - 4ms/step - accuracy: 0.1170 - loss: 246193.6250\n",
      "Epoch 5/30\n",
      "1076/1076 - 7s - 6ms/step - accuracy: 0.1182 - loss: 426976.1562\n",
      "Epoch 6/30\n",
      "1076/1076 - 9s - 8ms/step - accuracy: 0.1165 - loss: 654696.5625\n",
      "Epoch 7/30\n",
      "1076/1076 - 4s - 4ms/step - accuracy: 0.1182 - loss: 931432.0625\n",
      "Epoch 8/30\n",
      "1076/1076 - 5s - 4ms/step - accuracy: 0.1204 - loss: 1265635.2500\n",
      "Epoch 9/30\n",
      "1076/1076 - 5s - 5ms/step - accuracy: 0.1251 - loss: 1664112.2500\n",
      "Epoch 10/30\n",
      "1076/1076 - 5s - 5ms/step - accuracy: 0.1222 - loss: 2128836.0000\n",
      "Epoch 11/30\n",
      "1076/1076 - 4s - 4ms/step - accuracy: 0.1222 - loss: 2664124.2500\n",
      "Epoch 12/30\n",
      "1076/1076 - 4s - 4ms/step - accuracy: 0.1238 - loss: 3286590.5000\n",
      "Epoch 13/30\n",
      "1076/1076 - 4s - 4ms/step - accuracy: 0.1254 - loss: 3994164.5000\n",
      "Epoch 14/30\n",
      "1076/1076 - 4s - 4ms/step - accuracy: 0.1271 - loss: 4784469.0000\n",
      "Epoch 15/30\n",
      "1076/1076 - 5s - 5ms/step - accuracy: 0.1222 - loss: 5668945.5000\n",
      "Epoch 16/30\n",
      "1076/1076 - 5s - 5ms/step - accuracy: 0.1235 - loss: 6657422.0000\n",
      "Epoch 17/30\n",
      "1076/1076 - 7s - 6ms/step - accuracy: 0.1232 - loss: 7751079.5000\n",
      "Epoch 18/30\n",
      "1076/1076 - 5s - 5ms/step - accuracy: 0.1244 - loss: 8955647.0000\n",
      "Epoch 19/30\n",
      "1076/1076 - 4s - 4ms/step - accuracy: 0.1242 - loss: 10284804.0000\n",
      "Epoch 20/30\n",
      "1076/1076 - 5s - 5ms/step - accuracy: 0.1261 - loss: 11743310.0000\n",
      "Epoch 21/30\n",
      "1076/1076 - 4s - 4ms/step - accuracy: 0.1226 - loss: 13310270.0000\n",
      "Epoch 22/30\n",
      "1076/1076 - 4s - 3ms/step - accuracy: 0.1233 - loss: 15025618.0000\n",
      "Epoch 23/30\n",
      "1076/1076 - 4s - 4ms/step - accuracy: 0.1228 - loss: 16876902.0000\n",
      "Epoch 24/30\n",
      "1076/1076 - 5s - 5ms/step - accuracy: 0.1239 - loss: 18866678.0000\n",
      "Epoch 25/30\n",
      "1076/1076 - 4s - 4ms/step - accuracy: 0.1269 - loss: 21005376.0000\n",
      "Epoch 26/30\n",
      "1076/1076 - 4s - 4ms/step - accuracy: 0.1253 - loss: 23320884.0000\n",
      "Epoch 27/30\n",
      "1076/1076 - 5s - 5ms/step - accuracy: 0.1262 - loss: 25801512.0000\n",
      "Epoch 28/30\n",
      "1076/1076 - 6s - 5ms/step - accuracy: 0.1264 - loss: 28443412.0000\n",
      "Epoch 29/30\n",
      "1076/1076 - 4s - 4ms/step - accuracy: 0.1286 - loss: 31263434.0000\n",
      "Epoch 30/30\n",
      "1076/1076 - 7s - 6ms/step - accuracy: 0.1221 - loss: 34253368.0000\n"
     ]
    },
    {
     "data": {
      "text/plain": [
       "<keras.src.callbacks.history.History at 0x13e07be8ec0>"
      ]
     },
     "execution_count": 1422,
     "metadata": {},
     "output_type": "execute_result"
    }
   ],
   "source": [
    "model.fit(X_train, Y_train, batch_size=batch_size, epochs=epochs, verbose=2)"
   ]
  },
  {
   "cell_type": "code",
   "execution_count": 1415,
   "id": "c5f2385c",
   "metadata": {},
   "outputs": [],
   "source": [
    "# Define list of stations names\n",
    "\n",
    "stations = {\n",
    "0: 'BASEL',\n",
    "1: 'BELGRADE',\n",
    "2: 'BUDAPEST',\n",
    "3: 'DEBILT',\n",
    "4: 'DUSSELDORF',\n",
    "5: 'HEATHROW',\n",
    "6: 'KASSEL',\n",
    "7: 'LJUBLJANA',\n",
    "8: 'MAASTRICHT',\n",
    "9: 'MADRID',\n",
    "10: 'MUNCHENB',\n",
    "11: 'OSLO',\n",
    "12: 'SONNBLICK',\n",
    "13: 'STOCKHOLM',\n",
    "14: 'VALENTIA'\n",
    "\n",
    "}"
   ]
  },
  {
   "cell_type": "code",
   "execution_count": 1416,
   "id": "f4c21a82",
   "metadata": {},
   "outputs": [],
   "source": [
    "def confusion_matrix(Y_true, Y_pred):\n",
    "    Y_true = pd.Series([stations[y] for y in np.argmax(Y_true, axis=1)])\n",
    "    Y_pred = pd.Series([stations[y] for y in np.argmax(Y_pred, axis=1)])\n",
    "\n",
    "    return pd.crosstab(Y_true, Y_pred, rownames=['True'], colnames=['Pred'])"
   ]
  },
  {
   "cell_type": "code",
   "execution_count": 1417,
   "id": "10e6261a",
   "metadata": {},
   "outputs": [
    {
     "data": {
      "text/plain": [
       "{'BASEL',\n",
       " 'BELGRADE',\n",
       " 'BUDAPEST',\n",
       " 'DEBILT',\n",
       " 'DUSSELDORF',\n",
       " 'HEATHROW',\n",
       " 'KASSEL',\n",
       " 'LJUBLJANA',\n",
       " 'MAASTRICHT',\n",
       " 'MADRID',\n",
       " 'OSLO',\n",
       " 'SONNBLICK',\n",
       " 'STOCKHOLM',\n",
       " 'VALENTIA'}"
      ]
     },
     "execution_count": 1417,
     "metadata": {},
     "output_type": "execute_result"
    }
   ],
   "source": [
    "station_names"
   ]
  },
  {
   "cell_type": "code",
   "execution_count": 1418,
   "id": "e90e1632",
   "metadata": {},
   "outputs": [
    {
     "name": "stdout",
     "output_type": "stream",
     "text": [
      "\u001b[1m180/180\u001b[0m \u001b[32m━━━━━━━━━━━━━━━━━━━━\u001b[0m\u001b[37m\u001b[0m \u001b[1m4s\u001b[0m 12ms/step\n",
      "Pred        BELGRADE  BUDAPEST  DEBILT  HEATHROW  KASSEL  LJUBLJANA  \\\n",
      "True                                                                  \n",
      "BASEL              2      2791      83       161     132          2   \n",
      "BELGRADE           0      1064       0         0       1          0   \n",
      "BUDAPEST           0       204       0         0       1          0   \n",
      "DEBILT             0        79       0         0       0          0   \n",
      "DUSSELDORF         0        28       0         0       0          0   \n",
      "HEATHROW           0        70       0         0       0          0   \n",
      "KASSEL             0        11       0         0       0          0   \n",
      "LJUBLJANA          0        58       0         0       0          0   \n",
      "MAASTRICHT         0         9       0         0       0          0   \n",
      "MADRID             0       284       4         8       4          0   \n",
      "MUNCHENB           0         8       0         0       0          0   \n",
      "OSLO               0         5       0         0       0          0   \n",
      "STOCKHOLM          0         4       0         0       0          0   \n",
      "VALENTIA           0         0       0         0       0          0   \n",
      "\n",
      "Pred        MAASTRICHT  MADRID  MUNCHENB  OSLO  SONNBLICK  STOCKHOLM  VALENTIA  \n",
      "True                                                                            \n",
      "BASEL                1     371        44    79          1          1        14  \n",
      "BELGRADE             0      27         0     0          0          0         0  \n",
      "BUDAPEST             0       9         0     0          0          0         0  \n",
      "DEBILT               0       3         0     0          0          0         0  \n",
      "DUSSELDORF           0       1         0     0          0          0         0  \n",
      "HEATHROW             0      12         0     0          0          0         0  \n",
      "KASSEL               0       0         0     0          0          0         0  \n",
      "LJUBLJANA            0       3         0     0          0          0         0  \n",
      "MAASTRICHT           0       0         0     0          0          0         0  \n",
      "MADRID               0     158         0     0          0          0         0  \n",
      "MUNCHENB             0       0         0     0          0          0         0  \n",
      "OSLO                 0       0         0     0          0          0         0  \n",
      "STOCKHOLM            0       0         0     0          0          0         0  \n",
      "VALENTIA             0       1         0     0          0          0         0  \n"
     ]
    }
   ],
   "source": [
    "# Evaluate\n",
    "print(confusion_matrix(Y_test, model.predict(X_test)))"
   ]
  },
  {
   "cell_type": "code",
   "execution_count": null,
   "id": "96d0ece2",
   "metadata": {},
   "outputs": [],
   "source": []
  },
  {
   "cell_type": "code",
   "execution_count": null,
   "id": "b69512e9",
   "metadata": {},
   "outputs": [],
   "source": []
  }
 ],
 "metadata": {
  "kernelspec": {
   "display_name": "base",
   "language": "python",
   "name": "python3"
  },
  "language_info": {
   "codemirror_mode": {
    "name": "ipython",
    "version": 3
   },
   "file_extension": ".py",
   "mimetype": "text/x-python",
   "name": "python",
   "nbconvert_exporter": "python",
   "pygments_lexer": "ipython3",
   "version": "3.12.4"
  }
 },
 "nbformat": 4,
 "nbformat_minor": 5
}
