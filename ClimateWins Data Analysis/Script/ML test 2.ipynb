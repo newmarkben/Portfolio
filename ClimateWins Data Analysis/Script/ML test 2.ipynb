{
 "cells": [
  {
   "cell_type": "code",
   "execution_count": 19,
   "id": "ae462793-13cc-4b7a-a931-56c5285c720e",
   "metadata": {},
   "outputs": [],
   "source": [
    "#Step 1: Import necessary libraries\n",
    "import pandas as pd\n",
    "import numpy as np\n",
    "from sklearn.preprocessing import StandardScaler\n",
    "import os"
   ]
  },
  {
   "cell_type": "code",
   "execution_count": 20,
   "id": "63cbd225-76a6-430f-90cd-38dba6e089be",
   "metadata": {},
   "outputs": [],
   "source": [
    "#Step 2: Set the path for the dataset\n",
    "path = r'D:\\WORK\\Bootcamp\\Machine Learning\\Achievement 1\\Project\\Data'"
   ]
  },
  {
   "cell_type": "code",
   "execution_count": 21,
   "id": "a2f7c307-4f0e-462f-9a16-dd8e3f53b427",
   "metadata": {},
   "outputs": [],
   "source": [
    "#Step 3: Load the dataset\n",
    "df = pd.read_csv(os.path.join(path, \"Original\", 'Dataset-weather-prediction-dataset-processed.csv'))"
   ]
  },
  {
   "cell_type": "code",
   "execution_count": 22,
   "id": "89f3daf3-767c-4ca9-b616-d0e7d5801cf9",
   "metadata": {},
   "outputs": [
    {
     "name": "stdout",
     "output_type": "stream",
     "text": [
      "       DATE  MONTH  BASEL_cloud_cover  BASEL_wind_speed  BASEL_humidity  \\\n",
      "0  19600101      1                  7               2.1            0.85   \n",
      "1  19600102      1                  6               2.1            0.84   \n",
      "2  19600103      1                  8               2.1            0.90   \n",
      "3  19600104      1                  3               2.1            0.92   \n",
      "4  19600105      1                  6               2.1            0.95   \n",
      "\n",
      "   BASEL_pressure  BASEL_global_radiation  BASEL_precipitation  \\\n",
      "0           1.018                    0.32                 0.09   \n",
      "1           1.018                    0.36                 1.05   \n",
      "2           1.018                    0.18                 0.30   \n",
      "3           1.018                    0.58                 0.00   \n",
      "4           1.018                    0.65                 0.14   \n",
      "\n",
      "   BASEL_snow_depth  BASEL_sunshine  ...  VALENTIA_cloud_cover  \\\n",
      "0                 0             0.7  ...                     5   \n",
      "1                 0             1.1  ...                     7   \n",
      "2                 0             0.0  ...                     7   \n",
      "3                 0             4.1  ...                     7   \n",
      "4                 0             5.4  ...                     3   \n",
      "\n",
      "   VALENTIA_humidity  VALENTIA_pressure  VALENTIA_global_radiation  \\\n",
      "0               0.88             1.0003                       0.45   \n",
      "1               0.91             1.0007                       0.25   \n",
      "2               0.91             1.0096                       0.17   \n",
      "3               0.86             1.0184                       0.13   \n",
      "4               0.80             1.0328                       0.46   \n",
      "\n",
      "   VALENTIA_precipitation  VALENTIA_snow_depth  VALENTIA_sunshine  \\\n",
      "0                    0.34                    0                4.7   \n",
      "1                    0.84                    0                0.7   \n",
      "2                    0.08                    0                0.1   \n",
      "3                    0.98                    0                0.0   \n",
      "4                    0.00                    0                5.7   \n",
      "\n",
      "   VALENTIA_temp_mean  VALENTIA_temp_min  VALENTIA_temp_max  \n",
      "0                 8.5                6.0               10.9  \n",
      "1                 8.9                5.6               12.1  \n",
      "2                10.5                8.1               12.9  \n",
      "3                 7.4                7.3               10.6  \n",
      "4                 5.7                3.0                8.4  \n",
      "\n",
      "[5 rows x 170 columns]\n"
     ]
    }
   ],
   "source": [
    "#Step 4: Display the first few rows of the dataset to verify it's loaded correctly\n",
    "print(df.head())\n",
    "\n"
   ]
  },
  {
   "cell_type": "code",
   "execution_count": 23,
   "id": "093a30c7-464d-4c32-b207-a04ecbb78074",
   "metadata": {},
   "outputs": [],
   "source": [
    "#Step 5: Initialize the StandardScaler\n",
    "scaler = StandardScaler()"
   ]
  },
  {
   "cell_type": "code",
   "execution_count": 24,
   "id": "b82b29b4-ed0a-4aa2-9791-8367c37bffe3",
   "metadata": {},
   "outputs": [],
   "source": [
    "#Step 6: Scale the dataset\n",
    "#Assuming all columns except 'DATE' need to be scaled\n",
    "features_to_scale = df.columns[df.columns != 'DATE']  # Adjust if some columns should not be scaled\n",
    "df[features_to_scale] = scaler.fit_transform(df[features_to_scale])"
   ]
  },
  {
   "cell_type": "code",
   "execution_count": 25,
   "id": "c65fa0e6-5788-42ca-968b-8d24a862311a",
   "metadata": {},
   "outputs": [
    {
     "name": "stdout",
     "output_type": "stream",
     "text": [
      "       DATE     MONTH  BASEL_cloud_cover  BASEL_wind_speed  BASEL_humidity  \\\n",
      "0  19600101 -1.599964           0.660514          -0.02793        0.826097   \n",
      "1  19600102 -1.599964           0.244897          -0.02793        0.735760   \n",
      "2  19600103 -1.599964           1.076130          -0.02793        1.277781   \n",
      "3  19600104 -1.599964          -1.001953          -0.02793        1.458455   \n",
      "4  19600105 -1.599964           0.244897          -0.02793        1.729466   \n",
      "\n",
      "   BASEL_pressure  BASEL_global_radiation  BASEL_precipitation  \\\n",
      "0       -0.001949               -1.101066            -0.265148   \n",
      "1       -0.001949               -1.058108             1.658760   \n",
      "2       -0.001949               -1.251420             0.155707   \n",
      "3       -0.001949               -0.821838            -0.445514   \n",
      "4       -0.001949               -0.746661            -0.164944   \n",
      "\n",
      "   BASEL_snow_depth  BASEL_sunshine  ...  VALENTIA_cloud_cover  \\\n",
      "0         -0.179228       -0.902918  ...             -0.443701   \n",
      "1         -0.179228       -0.810126  ...              0.783085   \n",
      "2         -0.179228       -1.065304  ...              0.783085   \n",
      "3         -0.179228       -0.114186  ...              0.783085   \n",
      "4         -0.179228        0.187388  ...             -1.670486   \n",
      "\n",
      "   VALENTIA_humidity  VALENTIA_pressure  VALENTIA_global_radiation  \\\n",
      "0           0.761754          -1.299744                  -0.806427   \n",
      "1           1.183580          -1.262455                  -1.042055   \n",
      "2           1.183580          -0.432779                  -1.136306   \n",
      "3           0.480538           0.387574                  -1.183432   \n",
      "4          -0.363113           1.729970                  -0.794645   \n",
      "\n",
      "   VALENTIA_precipitation  VALENTIA_snow_depth  VALENTIA_sunshine  \\\n",
      "0               -0.088407            -0.024706           0.372147   \n",
      "1                0.503361            -0.024706          -0.829285   \n",
      "2               -0.396127            -0.024706          -1.009500   \n",
      "3                0.669056            -0.024706          -1.039536   \n",
      "4               -0.490810            -0.024706           0.672505   \n",
      "\n",
      "   VALENTIA_temp_mean  VALENTIA_temp_min  VALENTIA_temp_max  \n",
      "0           -0.668215          -0.519743          -0.752237  \n",
      "1           -0.548046          -0.629054          -0.407141  \n",
      "2           -0.067372           0.054135          -0.177078  \n",
      "3           -0.998679          -0.164486          -0.838511  \n",
      "4           -1.509396          -1.339569          -1.471186  \n",
      "\n",
      "[5 rows x 170 columns]\n"
     ]
    }
   ],
   "source": [
    "#Step 7: Display the first few rows of the scaled dataset to verify scaling\n",
    "print(df.head())"
   ]
  },
  {
   "cell_type": "code",
   "execution_count": 26,
   "id": "a8677989-6138-4069-94ad-a743b0ddcefa",
   "metadata": {},
   "outputs": [],
   "source": [
    "#Step 8: Save the scaled data back to CSV\n",
    "df.to_csv(os.path.join(path,\"Prepared\", 'Data_scaled_v2.csv'))"
   ]
  }
 ],
 "metadata": {
  "kernelspec": {
   "display_name": "base",
   "language": "python",
   "name": "python3"
  },
  "language_info": {
   "codemirror_mode": {
    "name": "ipython",
    "version": 3
   },
   "file_extension": ".py",
   "mimetype": "text/x-python",
   "name": "python",
   "nbconvert_exporter": "python",
   "pygments_lexer": "ipython3",
   "version": "3.12.4"
  }
 },
 "nbformat": 4,
 "nbformat_minor": 5
}
