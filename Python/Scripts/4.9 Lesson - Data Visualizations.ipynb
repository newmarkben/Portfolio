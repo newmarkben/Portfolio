{
 "cells": [
  {
   "cell_type": "markdown",
   "id": "a177c79b-5b5a-4a61-8985-6afe07559a8b",
   "metadata": {},
   "source": [
    "# Importing Data"
   ]
  },
  {
   "cell_type": "code",
   "execution_count": 3,
   "id": "d50bbeb1-3527-4d13-a453-18a869cfaf30",
   "metadata": {},
   "outputs": [],
   "source": [
    "# import libraries\n",
    "import pandas as pd\n",
    "import numpy as np\n",
    "import os\n",
    "import matplotlib.pyplot as plt\n",
    "import seaborn as sns\n",
    "import scipy"
   ]
  },
  {
   "cell_type": "code",
   "execution_count": 20,
   "id": "35e23734-5d9c-4437-8e9b-6e7a5c727e4b",
   "metadata": {},
   "outputs": [],
   "source": [
    "path = r'C:\\Users\\Oa\\Career Foundry'"
   ]
  },
  {
   "cell_type": "code",
   "execution_count": 21,
   "id": "b2100736-2fdf-4a3e-9b51-c74f56022d9a",
   "metadata": {},
   "outputs": [],
   "source": [
    "df_ords_prods_merge = pd.read_pickle(os.path.join(path, 'Data','Prepared Data', 'merged_4.8.pkl'))"
   ]
  },
  {
   "cell_type": "code",
   "execution_count": 10,
   "id": "3afd4ae6-b5c6-4164-a76b-dd2616e36ba7",
   "metadata": {},
   "outputs": [],
   "source": [
    "ords_prods_merge = df_ords_prods_merge"
   ]
  },
  {
   "cell_type": "code",
   "execution_count": 12,
   "id": "6ddf6349-1115-424f-b085-66b4c490890f",
   "metadata": {},
   "outputs": [
    {
     "name": "stdout",
     "output_type": "stream",
     "text": [
      "Index(['order_id', 'user_id', 'order_number', 'order_dow', 'order_hour_of_day',\n",
      "       'days_since_prior_order', 'product_id', 'add_to_cart_order',\n",
      "       'reordered', 'product_name', 'aisle_id', 'department_id', 'prices',\n",
      "       '_merge', 'price_range_loc', 'busiest_days', 'busiest_period_of_day',\n",
      "       'max_order', 'loyalty_flag', 'mean_order', 'type_of_spender',\n",
      "       'frequency_median', 'type_of_frequency'],\n",
      "      dtype='object')\n"
     ]
    }
   ],
   "source": [
    "columns = ords_prods_merge.columns\n",
    "print(columns)"
   ]
  },
  {
   "cell_type": "code",
   "execution_count": 11,
   "id": "18311fe2-4442-429c-ba2f-6c9eb40f4f51",
   "metadata": {},
   "outputs": [
    {
     "data": {
      "text/html": [
       "<div>\n",
       "<style scoped>\n",
       "    .dataframe tbody tr th:only-of-type {\n",
       "        vertical-align: middle;\n",
       "    }\n",
       "\n",
       "    .dataframe tbody tr th {\n",
       "        vertical-align: top;\n",
       "    }\n",
       "\n",
       "    .dataframe thead th {\n",
       "        text-align: right;\n",
       "    }\n",
       "</style>\n",
       "<table border=\"1\" class=\"dataframe\">\n",
       "  <thead>\n",
       "    <tr style=\"text-align: right;\">\n",
       "      <th></th>\n",
       "      <th>order_id</th>\n",
       "      <th>user_id</th>\n",
       "      <th>order_number</th>\n",
       "      <th>order_dow</th>\n",
       "      <th>order_hour_of_day</th>\n",
       "      <th>days_since_prior_order</th>\n",
       "      <th>product_id</th>\n",
       "      <th>add_to_cart_order</th>\n",
       "      <th>reordered</th>\n",
       "      <th>product_name</th>\n",
       "      <th>...</th>\n",
       "      <th>_merge</th>\n",
       "      <th>price_range_loc</th>\n",
       "      <th>busiest_days</th>\n",
       "      <th>busiest_period_of_day</th>\n",
       "      <th>max_order</th>\n",
       "      <th>loyalty_flag</th>\n",
       "      <th>mean_order</th>\n",
       "      <th>type_of_spender</th>\n",
       "      <th>frequency_median</th>\n",
       "      <th>type_of_frequency</th>\n",
       "    </tr>\n",
       "  </thead>\n",
       "  <tbody>\n",
       "    <tr>\n",
       "      <th>0</th>\n",
       "      <td>2539329</td>\n",
       "      <td>1</td>\n",
       "      <td>1</td>\n",
       "      <td>2</td>\n",
       "      <td>8</td>\n",
       "      <td>NaN</td>\n",
       "      <td>196</td>\n",
       "      <td>1</td>\n",
       "      <td>0</td>\n",
       "      <td>Soda</td>\n",
       "      <td>...</td>\n",
       "      <td>both</td>\n",
       "      <td>Mid-range product</td>\n",
       "      <td>Regularly busy</td>\n",
       "      <td>Average orders</td>\n",
       "      <td>10</td>\n",
       "      <td>New customer</td>\n",
       "      <td>5.813559</td>\n",
       "      <td>Low spender</td>\n",
       "      <td>6.0</td>\n",
       "      <td>Frequent customer</td>\n",
       "    </tr>\n",
       "    <tr>\n",
       "      <th>1</th>\n",
       "      <td>2539329</td>\n",
       "      <td>1</td>\n",
       "      <td>1</td>\n",
       "      <td>2</td>\n",
       "      <td>8</td>\n",
       "      <td>NaN</td>\n",
       "      <td>14084</td>\n",
       "      <td>2</td>\n",
       "      <td>0</td>\n",
       "      <td>Organic Unsweetened Vanilla Almond Milk</td>\n",
       "      <td>...</td>\n",
       "      <td>both</td>\n",
       "      <td>Mid-range product</td>\n",
       "      <td>Regularly busy</td>\n",
       "      <td>Average orders</td>\n",
       "      <td>10</td>\n",
       "      <td>New customer</td>\n",
       "      <td>5.813559</td>\n",
       "      <td>Low spender</td>\n",
       "      <td>6.0</td>\n",
       "      <td>Frequent customer</td>\n",
       "    </tr>\n",
       "    <tr>\n",
       "      <th>2</th>\n",
       "      <td>2539329</td>\n",
       "      <td>1</td>\n",
       "      <td>1</td>\n",
       "      <td>2</td>\n",
       "      <td>8</td>\n",
       "      <td>NaN</td>\n",
       "      <td>12427</td>\n",
       "      <td>3</td>\n",
       "      <td>0</td>\n",
       "      <td>Original Beef Jerky</td>\n",
       "      <td>...</td>\n",
       "      <td>both</td>\n",
       "      <td>Low-range product</td>\n",
       "      <td>Regularly busy</td>\n",
       "      <td>Average orders</td>\n",
       "      <td>10</td>\n",
       "      <td>New customer</td>\n",
       "      <td>5.813559</td>\n",
       "      <td>Low spender</td>\n",
       "      <td>6.0</td>\n",
       "      <td>Frequent customer</td>\n",
       "    </tr>\n",
       "    <tr>\n",
       "      <th>3</th>\n",
       "      <td>2539329</td>\n",
       "      <td>1</td>\n",
       "      <td>1</td>\n",
       "      <td>2</td>\n",
       "      <td>8</td>\n",
       "      <td>NaN</td>\n",
       "      <td>26088</td>\n",
       "      <td>4</td>\n",
       "      <td>0</td>\n",
       "      <td>Aged White Cheddar Popcorn</td>\n",
       "      <td>...</td>\n",
       "      <td>both</td>\n",
       "      <td>Low-range product</td>\n",
       "      <td>Regularly busy</td>\n",
       "      <td>Average orders</td>\n",
       "      <td>10</td>\n",
       "      <td>New customer</td>\n",
       "      <td>5.813559</td>\n",
       "      <td>Low spender</td>\n",
       "      <td>6.0</td>\n",
       "      <td>Frequent customer</td>\n",
       "    </tr>\n",
       "    <tr>\n",
       "      <th>4</th>\n",
       "      <td>2539329</td>\n",
       "      <td>1</td>\n",
       "      <td>1</td>\n",
       "      <td>2</td>\n",
       "      <td>8</td>\n",
       "      <td>NaN</td>\n",
       "      <td>26405</td>\n",
       "      <td>5</td>\n",
       "      <td>0</td>\n",
       "      <td>XL Pick-A-Size Paper Towel Rolls</td>\n",
       "      <td>...</td>\n",
       "      <td>both</td>\n",
       "      <td>Low-range product</td>\n",
       "      <td>Regularly busy</td>\n",
       "      <td>Average orders</td>\n",
       "      <td>10</td>\n",
       "      <td>New customer</td>\n",
       "      <td>5.813559</td>\n",
       "      <td>Low spender</td>\n",
       "      <td>6.0</td>\n",
       "      <td>Frequent customer</td>\n",
       "    </tr>\n",
       "    <tr>\n",
       "      <th>5</th>\n",
       "      <td>2398795</td>\n",
       "      <td>1</td>\n",
       "      <td>2</td>\n",
       "      <td>3</td>\n",
       "      <td>7</td>\n",
       "      <td>15.0</td>\n",
       "      <td>196</td>\n",
       "      <td>1</td>\n",
       "      <td>1</td>\n",
       "      <td>Soda</td>\n",
       "      <td>...</td>\n",
       "      <td>both</td>\n",
       "      <td>Mid-range product</td>\n",
       "      <td>Regularly busy</td>\n",
       "      <td>Average orders</td>\n",
       "      <td>10</td>\n",
       "      <td>New customer</td>\n",
       "      <td>5.813559</td>\n",
       "      <td>Low spender</td>\n",
       "      <td>6.0</td>\n",
       "      <td>Frequent customer</td>\n",
       "    </tr>\n",
       "    <tr>\n",
       "      <th>6</th>\n",
       "      <td>2398795</td>\n",
       "      <td>1</td>\n",
       "      <td>2</td>\n",
       "      <td>3</td>\n",
       "      <td>7</td>\n",
       "      <td>15.0</td>\n",
       "      <td>10258</td>\n",
       "      <td>2</td>\n",
       "      <td>0</td>\n",
       "      <td>Pistachios</td>\n",
       "      <td>...</td>\n",
       "      <td>both</td>\n",
       "      <td>Low-range product</td>\n",
       "      <td>Regularly busy</td>\n",
       "      <td>Average orders</td>\n",
       "      <td>10</td>\n",
       "      <td>New customer</td>\n",
       "      <td>5.813559</td>\n",
       "      <td>Low spender</td>\n",
       "      <td>6.0</td>\n",
       "      <td>Frequent customer</td>\n",
       "    </tr>\n",
       "    <tr>\n",
       "      <th>7</th>\n",
       "      <td>2398795</td>\n",
       "      <td>1</td>\n",
       "      <td>2</td>\n",
       "      <td>3</td>\n",
       "      <td>7</td>\n",
       "      <td>15.0</td>\n",
       "      <td>12427</td>\n",
       "      <td>3</td>\n",
       "      <td>1</td>\n",
       "      <td>Original Beef Jerky</td>\n",
       "      <td>...</td>\n",
       "      <td>both</td>\n",
       "      <td>Low-range product</td>\n",
       "      <td>Regularly busy</td>\n",
       "      <td>Average orders</td>\n",
       "      <td>10</td>\n",
       "      <td>New customer</td>\n",
       "      <td>5.813559</td>\n",
       "      <td>Low spender</td>\n",
       "      <td>6.0</td>\n",
       "      <td>Frequent customer</td>\n",
       "    </tr>\n",
       "    <tr>\n",
       "      <th>8</th>\n",
       "      <td>2398795</td>\n",
       "      <td>1</td>\n",
       "      <td>2</td>\n",
       "      <td>3</td>\n",
       "      <td>7</td>\n",
       "      <td>15.0</td>\n",
       "      <td>13176</td>\n",
       "      <td>4</td>\n",
       "      <td>0</td>\n",
       "      <td>Bag of Organic Bananas</td>\n",
       "      <td>...</td>\n",
       "      <td>both</td>\n",
       "      <td>Mid-range product</td>\n",
       "      <td>Regularly busy</td>\n",
       "      <td>Average orders</td>\n",
       "      <td>10</td>\n",
       "      <td>New customer</td>\n",
       "      <td>5.813559</td>\n",
       "      <td>Low spender</td>\n",
       "      <td>6.0</td>\n",
       "      <td>Frequent customer</td>\n",
       "    </tr>\n",
       "    <tr>\n",
       "      <th>9</th>\n",
       "      <td>2398795</td>\n",
       "      <td>1</td>\n",
       "      <td>2</td>\n",
       "      <td>3</td>\n",
       "      <td>7</td>\n",
       "      <td>15.0</td>\n",
       "      <td>26088</td>\n",
       "      <td>5</td>\n",
       "      <td>1</td>\n",
       "      <td>Aged White Cheddar Popcorn</td>\n",
       "      <td>...</td>\n",
       "      <td>both</td>\n",
       "      <td>Low-range product</td>\n",
       "      <td>Regularly busy</td>\n",
       "      <td>Average orders</td>\n",
       "      <td>10</td>\n",
       "      <td>New customer</td>\n",
       "      <td>5.813559</td>\n",
       "      <td>Low spender</td>\n",
       "      <td>6.0</td>\n",
       "      <td>Frequent customer</td>\n",
       "    </tr>\n",
       "  </tbody>\n",
       "</table>\n",
       "<p>10 rows × 23 columns</p>\n",
       "</div>"
      ],
      "text/plain": [
       "   order_id  user_id  order_number  order_dow  order_hour_of_day  \\\n",
       "0   2539329        1             1          2                  8   \n",
       "1   2539329        1             1          2                  8   \n",
       "2   2539329        1             1          2                  8   \n",
       "3   2539329        1             1          2                  8   \n",
       "4   2539329        1             1          2                  8   \n",
       "5   2398795        1             2          3                  7   \n",
       "6   2398795        1             2          3                  7   \n",
       "7   2398795        1             2          3                  7   \n",
       "8   2398795        1             2          3                  7   \n",
       "9   2398795        1             2          3                  7   \n",
       "\n",
       "   days_since_prior_order  product_id  add_to_cart_order  reordered  \\\n",
       "0                     NaN         196                  1          0   \n",
       "1                     NaN       14084                  2          0   \n",
       "2                     NaN       12427                  3          0   \n",
       "3                     NaN       26088                  4          0   \n",
       "4                     NaN       26405                  5          0   \n",
       "5                    15.0         196                  1          1   \n",
       "6                    15.0       10258                  2          0   \n",
       "7                    15.0       12427                  3          1   \n",
       "8                    15.0       13176                  4          0   \n",
       "9                    15.0       26088                  5          1   \n",
       "\n",
       "                              product_name  ...  _merge    price_range_loc  \\\n",
       "0                                     Soda  ...    both  Mid-range product   \n",
       "1  Organic Unsweetened Vanilla Almond Milk  ...    both  Mid-range product   \n",
       "2                      Original Beef Jerky  ...    both  Low-range product   \n",
       "3               Aged White Cheddar Popcorn  ...    both  Low-range product   \n",
       "4         XL Pick-A-Size Paper Towel Rolls  ...    both  Low-range product   \n",
       "5                                     Soda  ...    both  Mid-range product   \n",
       "6                               Pistachios  ...    both  Low-range product   \n",
       "7                      Original Beef Jerky  ...    both  Low-range product   \n",
       "8                   Bag of Organic Bananas  ...    both  Mid-range product   \n",
       "9               Aged White Cheddar Popcorn  ...    both  Low-range product   \n",
       "\n",
       "     busiest_days busiest_period_of_day max_order  loyalty_flag mean_order  \\\n",
       "0  Regularly busy        Average orders        10  New customer   5.813559   \n",
       "1  Regularly busy        Average orders        10  New customer   5.813559   \n",
       "2  Regularly busy        Average orders        10  New customer   5.813559   \n",
       "3  Regularly busy        Average orders        10  New customer   5.813559   \n",
       "4  Regularly busy        Average orders        10  New customer   5.813559   \n",
       "5  Regularly busy        Average orders        10  New customer   5.813559   \n",
       "6  Regularly busy        Average orders        10  New customer   5.813559   \n",
       "7  Regularly busy        Average orders        10  New customer   5.813559   \n",
       "8  Regularly busy        Average orders        10  New customer   5.813559   \n",
       "9  Regularly busy        Average orders        10  New customer   5.813559   \n",
       "\n",
       "   type_of_spender frequency_median  type_of_frequency  \n",
       "0      Low spender              6.0  Frequent customer  \n",
       "1      Low spender              6.0  Frequent customer  \n",
       "2      Low spender              6.0  Frequent customer  \n",
       "3      Low spender              6.0  Frequent customer  \n",
       "4      Low spender              6.0  Frequent customer  \n",
       "5      Low spender              6.0  Frequent customer  \n",
       "6      Low spender              6.0  Frequent customer  \n",
       "7      Low spender              6.0  Frequent customer  \n",
       "8      Low spender              6.0  Frequent customer  \n",
       "9      Low spender              6.0  Frequent customer  \n",
       "\n",
       "[10 rows x 23 columns]"
      ]
     },
     "execution_count": 11,
     "metadata": {},
     "output_type": "execute_result"
    }
   ],
   "source": [
    "ords_prods_merge.head(10)"
   ]
  },
  {
   "cell_type": "code",
   "execution_count": 14,
   "id": "71c76de2-646a-49d2-80b1-af01c31bbcf2",
   "metadata": {},
   "outputs": [
    {
     "data": {
      "text/plain": [
       "<Axes: xlabel='order_dow'>"
      ]
     },
     "execution_count": 14,
     "metadata": {},
     "output_type": "execute_result"
    },
    {
     "data": {
      "image/png": "[encoded data removed]",
      "text/plain": [
       "<Figure size 640x480 with 1 Axes>"
      ]
     },
     "metadata": {},
     "output_type": "display_data"
    }
   ],
   "source": [
    "# create a bar chart\n",
    "\n",
    "ords_prods_merge['order_dow'].value_counts().plot.bar()"
   ]
  },
  {
   "cell_type": "code",
   "execution_count": 16,
   "id": "9b90ef28-5777-476e-9338-9b9988f3bfbf",
   "metadata": {},
   "outputs": [
    {
     "data": {
      "text/plain": [
       "<Axes: xlabel='order_dow'>"
      ]
     },
     "execution_count": 16,
     "metadata": {},
     "output_type": "execute_result"
    },
    {
     "data": {
      "image/png": "[encoded data removed]",
      "text/plain": [
       "<Figure size 640x480 with 1 Axes>"
      ]
     },
     "metadata": {},
     "output_type": "display_data"
    }
   ],
   "source": [
    "ords_prods_merge['order_dow'].value_counts().sort_index().plot.bar()"
   ]
  },
  {
   "cell_type": "code",
   "execution_count": 17,
   "id": "7fae46b1-59a1-428e-a412-0aba0adf48f5",
   "metadata": {},
   "outputs": [
    {
     "data": {
      "image/png": "[encoded data removed]",
      "text/plain": [
       "<Figure size 640x480 with 1 Axes>"
      ]
     },
     "metadata": {},
     "output_type": "display_data"
    }
   ],
   "source": [
    "bar = ords_prods_merge['order_dow'].value_counts().plot.bar(color =['purple', 'red', 'pink', 'orange', 'yellow', 'green', 'blue'])"
   ]
  },
  {
   "cell_type": "code",
   "execution_count": 22,
   "id": "adc5da0d-a1e8-41fe-a238-f0ceb7cb2e7a",
   "metadata": {},
   "outputs": [],
   "source": [
    "bar.figure.savefig(os.path.join(path, 'Analysis','Visualizations', 'bar_orders_dow.png'))"
   ]
  },
  {
   "cell_type": "code",
   "execution_count": 23,
   "id": "600db9f7-33a8-41f4-a73e-f44b8ae91f7e",
   "metadata": {},
   "outputs": [
    {
     "data": {
      "text/plain": [
       "<Axes: xlabel='prices', ylabel='prices'>"
      ]
     },
     "execution_count": 23,
     "metadata": {},
     "output_type": "execute_result"
    },
    {
     "data": {
      "image/png": "[encoded data removed]",
      "text/plain": [
       "<Figure size 640x480 with 1 Axes>"
      ]
     },
     "metadata": {},
     "output_type": "display_data"
    }
   ],
   "source": [
    "sns.scatterplot(x = 'prices', y = 'prices',data = ords_prods_merge)"
   ]
  },
  {
   "cell_type": "code",
   "execution_count": 24,
   "id": "4bc70ae2-a56e-432c-8d87-97e60488ce6a",
   "metadata": {},
   "outputs": [
    {
     "data": {
      "text/html": [
       "<div>\n",
       "<style scoped>\n",
       "    .dataframe tbody tr th:only-of-type {\n",
       "        vertical-align: middle;\n",
       "    }\n",
       "\n",
       "    .dataframe tbody tr th {\n",
       "        vertical-align: top;\n",
       "    }\n",
       "\n",
       "    .dataframe thead th {\n",
       "        text-align: right;\n",
       "    }\n",
       "</style>\n",
       "<table border=\"1\" class=\"dataframe\">\n",
       "  <thead>\n",
       "    <tr style=\"text-align: right;\">\n",
       "      <th></th>\n",
       "      <th>order_id</th>\n",
       "      <th>user_id</th>\n",
       "      <th>order_number</th>\n",
       "      <th>order_dow</th>\n",
       "      <th>order_hour_of_day</th>\n",
       "      <th>days_since_prior_order</th>\n",
       "      <th>product_id</th>\n",
       "      <th>add_to_cart_order</th>\n",
       "      <th>reordered</th>\n",
       "      <th>product_name</th>\n",
       "      <th>...</th>\n",
       "      <th>_merge</th>\n",
       "      <th>price_range_loc</th>\n",
       "      <th>busiest_days</th>\n",
       "      <th>busiest_period_of_day</th>\n",
       "      <th>max_order</th>\n",
       "      <th>loyalty_flag</th>\n",
       "      <th>mean_order</th>\n",
       "      <th>type_of_spender</th>\n",
       "      <th>frequency_median</th>\n",
       "      <th>type_of_frequency</th>\n",
       "    </tr>\n",
       "  </thead>\n",
       "  <tbody>\n",
       "    <tr>\n",
       "      <th>1576</th>\n",
       "      <td>912404</td>\n",
       "      <td>17</td>\n",
       "      <td>12</td>\n",
       "      <td>2</td>\n",
       "      <td>14</td>\n",
       "      <td>5.0</td>\n",
       "      <td>21553</td>\n",
       "      <td>5</td>\n",
       "      <td>0</td>\n",
       "      <td>Lowfat 2% Milkfat Cottage Cheese</td>\n",
       "      <td>...</td>\n",
       "      <td>both</td>\n",
       "      <td>High-range product</td>\n",
       "      <td>Regularly busy</td>\n",
       "      <td>Average orders</td>\n",
       "      <td>40</td>\n",
       "      <td>Regular customer</td>\n",
       "      <td>21.006803</td>\n",
       "      <td>High spender</td>\n",
       "      <td>21.0</td>\n",
       "      <td>Non-frequent customer</td>\n",
       "    </tr>\n",
       "    <tr>\n",
       "      <th>1638</th>\n",
       "      <td>603376</td>\n",
       "      <td>17</td>\n",
       "      <td>22</td>\n",
       "      <td>6</td>\n",
       "      <td>16</td>\n",
       "      <td>4.0</td>\n",
       "      <td>21553</td>\n",
       "      <td>3</td>\n",
       "      <td>1</td>\n",
       "      <td>Lowfat 2% Milkfat Cottage Cheese</td>\n",
       "      <td>...</td>\n",
       "      <td>both</td>\n",
       "      <td>High-range product</td>\n",
       "      <td>Regularly busy</td>\n",
       "      <td>Average orders</td>\n",
       "      <td>40</td>\n",
       "      <td>Regular customer</td>\n",
       "      <td>21.006803</td>\n",
       "      <td>High spender</td>\n",
       "      <td>21.0</td>\n",
       "      <td>Non-frequent customer</td>\n",
       "    </tr>\n",
       "    <tr>\n",
       "      <th>16532</th>\n",
       "      <td>3264360</td>\n",
       "      <td>135</td>\n",
       "      <td>2</td>\n",
       "      <td>2</td>\n",
       "      <td>21</td>\n",
       "      <td>13.0</td>\n",
       "      <td>21553</td>\n",
       "      <td>6</td>\n",
       "      <td>0</td>\n",
       "      <td>Lowfat 2% Milkfat Cottage Cheese</td>\n",
       "      <td>...</td>\n",
       "      <td>both</td>\n",
       "      <td>High-range product</td>\n",
       "      <td>Regularly busy</td>\n",
       "      <td>Average orders</td>\n",
       "      <td>4</td>\n",
       "      <td>New customer</td>\n",
       "      <td>2.923077</td>\n",
       "      <td>Low spender</td>\n",
       "      <td>3.0</td>\n",
       "      <td>Frequent customer</td>\n",
       "    </tr>\n",
       "    <tr>\n",
       "      <th>16538</th>\n",
       "      <td>892534</td>\n",
       "      <td>135</td>\n",
       "      <td>3</td>\n",
       "      <td>0</td>\n",
       "      <td>8</td>\n",
       "      <td>12.0</td>\n",
       "      <td>21553</td>\n",
       "      <td>3</td>\n",
       "      <td>1</td>\n",
       "      <td>Lowfat 2% Milkfat Cottage Cheese</td>\n",
       "      <td>...</td>\n",
       "      <td>both</td>\n",
       "      <td>High-range product</td>\n",
       "      <td>Busiest day</td>\n",
       "      <td>Average orders</td>\n",
       "      <td>4</td>\n",
       "      <td>New customer</td>\n",
       "      <td>2.923077</td>\n",
       "      <td>Low spender</td>\n",
       "      <td>3.0</td>\n",
       "      <td>Frequent customer</td>\n",
       "    </tr>\n",
       "    <tr>\n",
       "      <th>53710</th>\n",
       "      <td>229704</td>\n",
       "      <td>342</td>\n",
       "      <td>8</td>\n",
       "      <td>1</td>\n",
       "      <td>19</td>\n",
       "      <td>30.0</td>\n",
       "      <td>21553</td>\n",
       "      <td>9</td>\n",
       "      <td>0</td>\n",
       "      <td>Lowfat 2% Milkfat Cottage Cheese</td>\n",
       "      <td>...</td>\n",
       "      <td>both</td>\n",
       "      <td>High-range product</td>\n",
       "      <td>Regularly busy</td>\n",
       "      <td>Average orders</td>\n",
       "      <td>16</td>\n",
       "      <td>Regular customer</td>\n",
       "      <td>8.323741</td>\n",
       "      <td>Low spender</td>\n",
       "      <td>8.0</td>\n",
       "      <td>Frequent customer</td>\n",
       "    </tr>\n",
       "    <tr>\n",
       "      <th>...</th>\n",
       "      <td>...</td>\n",
       "      <td>...</td>\n",
       "      <td>...</td>\n",
       "      <td>...</td>\n",
       "      <td>...</td>\n",
       "      <td>...</td>\n",
       "      <td>...</td>\n",
       "      <td>...</td>\n",
       "      <td>...</td>\n",
       "      <td>...</td>\n",
       "      <td>...</td>\n",
       "      <td>...</td>\n",
       "      <td>...</td>\n",
       "      <td>...</td>\n",
       "      <td>...</td>\n",
       "      <td>...</td>\n",
       "      <td>...</td>\n",
       "      <td>...</td>\n",
       "      <td>...</td>\n",
       "      <td>...</td>\n",
       "      <td>...</td>\n",
       "    </tr>\n",
       "    <tr>\n",
       "      <th>32349781</th>\n",
       "      <td>3172853</td>\n",
       "      <td>205650</td>\n",
       "      <td>18</td>\n",
       "      <td>1</td>\n",
       "      <td>9</td>\n",
       "      <td>7.0</td>\n",
       "      <td>21553</td>\n",
       "      <td>17</td>\n",
       "      <td>1</td>\n",
       "      <td>Lowfat 2% Milkfat Cottage Cheese</td>\n",
       "      <td>...</td>\n",
       "      <td>both</td>\n",
       "      <td>High-range product</td>\n",
       "      <td>Regularly busy</td>\n",
       "      <td>Average orders</td>\n",
       "      <td>25</td>\n",
       "      <td>Regular customer</td>\n",
       "      <td>13.120690</td>\n",
       "      <td>High spender</td>\n",
       "      <td>13.0</td>\n",
       "      <td>regular customer</td>\n",
       "    </tr>\n",
       "    <tr>\n",
       "      <th>32377014</th>\n",
       "      <td>2504315</td>\n",
       "      <td>205818</td>\n",
       "      <td>3</td>\n",
       "      <td>5</td>\n",
       "      <td>15</td>\n",
       "      <td>3.0</td>\n",
       "      <td>21553</td>\n",
       "      <td>13</td>\n",
       "      <td>0</td>\n",
       "      <td>Lowfat 2% Milkfat Cottage Cheese</td>\n",
       "      <td>...</td>\n",
       "      <td>both</td>\n",
       "      <td>High-range product</td>\n",
       "      <td>Regularly busy</td>\n",
       "      <td>Average orders</td>\n",
       "      <td>25</td>\n",
       "      <td>Regular customer</td>\n",
       "      <td>12.891304</td>\n",
       "      <td>High spender</td>\n",
       "      <td>12.5</td>\n",
       "      <td>regular customer</td>\n",
       "    </tr>\n",
       "    <tr>\n",
       "      <th>32377024</th>\n",
       "      <td>1108388</td>\n",
       "      <td>205818</td>\n",
       "      <td>5</td>\n",
       "      <td>4</td>\n",
       "      <td>5</td>\n",
       "      <td>1.0</td>\n",
       "      <td>21553</td>\n",
       "      <td>5</td>\n",
       "      <td>1</td>\n",
       "      <td>Lowfat 2% Milkfat Cottage Cheese</td>\n",
       "      <td>...</td>\n",
       "      <td>both</td>\n",
       "      <td>High-range product</td>\n",
       "      <td>Least busy</td>\n",
       "      <td>Average orders</td>\n",
       "      <td>25</td>\n",
       "      <td>Regular customer</td>\n",
       "      <td>12.891304</td>\n",
       "      <td>High spender</td>\n",
       "      <td>12.5</td>\n",
       "      <td>regular customer</td>\n",
       "    </tr>\n",
       "    <tr>\n",
       "      <th>32409856</th>\n",
       "      <td>1916142</td>\n",
       "      <td>206049</td>\n",
       "      <td>1</td>\n",
       "      <td>2</td>\n",
       "      <td>17</td>\n",
       "      <td>NaN</td>\n",
       "      <td>21553</td>\n",
       "      <td>2</td>\n",
       "      <td>0</td>\n",
       "      <td>Lowfat 2% Milkfat Cottage Cheese</td>\n",
       "      <td>...</td>\n",
       "      <td>both</td>\n",
       "      <td>High-range product</td>\n",
       "      <td>Regularly busy</td>\n",
       "      <td>Average orders</td>\n",
       "      <td>5</td>\n",
       "      <td>New customer</td>\n",
       "      <td>2.750000</td>\n",
       "      <td>Low spender</td>\n",
       "      <td>3.0</td>\n",
       "      <td>Frequent customer</td>\n",
       "    </tr>\n",
       "    <tr>\n",
       "      <th>32409880</th>\n",
       "      <td>379732</td>\n",
       "      <td>206049</td>\n",
       "      <td>4</td>\n",
       "      <td>1</td>\n",
       "      <td>14</td>\n",
       "      <td>5.0</td>\n",
       "      <td>21553</td>\n",
       "      <td>4</td>\n",
       "      <td>1</td>\n",
       "      <td>Lowfat 2% Milkfat Cottage Cheese</td>\n",
       "      <td>...</td>\n",
       "      <td>both</td>\n",
       "      <td>High-range product</td>\n",
       "      <td>Regularly busy</td>\n",
       "      <td>Average orders</td>\n",
       "      <td>5</td>\n",
       "      <td>New customer</td>\n",
       "      <td>2.750000</td>\n",
       "      <td>Low spender</td>\n",
       "      <td>3.0</td>\n",
       "      <td>Frequent customer</td>\n",
       "    </tr>\n",
       "  </tbody>\n",
       "</table>\n",
       "<p>5127 rows × 23 columns</p>\n",
       "</div>"
      ],
      "text/plain": [
       "          order_id  user_id  order_number  order_dow  order_hour_of_day  \\\n",
       "1576        912404       17            12          2                 14   \n",
       "1638        603376       17            22          6                 16   \n",
       "16532      3264360      135             2          2                 21   \n",
       "16538       892534      135             3          0                  8   \n",
       "53710       229704      342             8          1                 19   \n",
       "...            ...      ...           ...        ...                ...   \n",
       "32349781   3172853   205650            18          1                  9   \n",
       "32377014   2504315   205818             3          5                 15   \n",
       "32377024   1108388   205818             5          4                  5   \n",
       "32409856   1916142   206049             1          2                 17   \n",
       "32409880    379732   206049             4          1                 14   \n",
       "\n",
       "          days_since_prior_order  product_id  add_to_cart_order  reordered  \\\n",
       "1576                         5.0       21553                  5          0   \n",
       "1638                         4.0       21553                  3          1   \n",
       "16532                       13.0       21553                  6          0   \n",
       "16538                       12.0       21553                  3          1   \n",
       "53710                       30.0       21553                  9          0   \n",
       "...                          ...         ...                ...        ...   \n",
       "32349781                     7.0       21553                 17          1   \n",
       "32377014                     3.0       21553                 13          0   \n",
       "32377024                     1.0       21553                  5          1   \n",
       "32409856                     NaN       21553                  2          0   \n",
       "32409880                     5.0       21553                  4          1   \n",
       "\n",
       "                              product_name  ...  _merge     price_range_loc  \\\n",
       "1576      Lowfat 2% Milkfat Cottage Cheese  ...    both  High-range product   \n",
       "1638      Lowfat 2% Milkfat Cottage Cheese  ...    both  High-range product   \n",
       "16532     Lowfat 2% Milkfat Cottage Cheese  ...    both  High-range product   \n",
       "16538     Lowfat 2% Milkfat Cottage Cheese  ...    both  High-range product   \n",
       "53710     Lowfat 2% Milkfat Cottage Cheese  ...    both  High-range product   \n",
       "...                                    ...  ...     ...                 ...   \n",
       "32349781  Lowfat 2% Milkfat Cottage Cheese  ...    both  High-range product   \n",
       "32377014  Lowfat 2% Milkfat Cottage Cheese  ...    both  High-range product   \n",
       "32377024  Lowfat 2% Milkfat Cottage Cheese  ...    both  High-range product   \n",
       "32409856  Lowfat 2% Milkfat Cottage Cheese  ...    both  High-range product   \n",
       "32409880  Lowfat 2% Milkfat Cottage Cheese  ...    both  High-range product   \n",
       "\n",
       "            busiest_days busiest_period_of_day max_order      loyalty_flag  \\\n",
       "1576      Regularly busy        Average orders        40  Regular customer   \n",
       "1638      Regularly busy        Average orders        40  Regular customer   \n",
       "16532     Regularly busy        Average orders         4      New customer   \n",
       "16538        Busiest day        Average orders         4      New customer   \n",
       "53710     Regularly busy        Average orders        16  Regular customer   \n",
       "...                  ...                   ...       ...               ...   \n",
       "32349781  Regularly busy        Average orders        25  Regular customer   \n",
       "32377014  Regularly busy        Average orders        25  Regular customer   \n",
       "32377024      Least busy        Average orders        25  Regular customer   \n",
       "32409856  Regularly busy        Average orders         5      New customer   \n",
       "32409880  Regularly busy        Average orders         5      New customer   \n",
       "\n",
       "         mean_order  type_of_spender frequency_median      type_of_frequency  \n",
       "1576      21.006803     High spender             21.0  Non-frequent customer  \n",
       "1638      21.006803     High spender             21.0  Non-frequent customer  \n",
       "16532      2.923077      Low spender              3.0      Frequent customer  \n",
       "16538      2.923077      Low spender              3.0      Frequent customer  \n",
       "53710      8.323741      Low spender              8.0      Frequent customer  \n",
       "...             ...              ...              ...                    ...  \n",
       "32349781  13.120690     High spender             13.0       regular customer  \n",
       "32377014  12.891304     High spender             12.5       regular customer  \n",
       "32377024  12.891304     High spender             12.5       regular customer  \n",
       "32409856   2.750000      Low spender              3.0      Frequent customer  \n",
       "32409880   2.750000      Low spender              3.0      Frequent customer  \n",
       "\n",
       "[5127 rows x 23 columns]"
      ]
     },
     "execution_count": 24,
     "metadata": {},
     "output_type": "execute_result"
    }
   ],
   "source": [
    "ords_prods_merge.loc[ords_prods_merge['prices'] > 100]"
   ]
  },
  {
   "cell_type": "code",
   "execution_count": 25,
   "id": "e9514f91-95b0-457a-94c8-a8aa9d6cb06e",
   "metadata": {},
   "outputs": [],
   "source": [
    "ords_prods_merge.loc[ords_prods_merge['prices'] >100, 'prices'] = np.nan"
   ]
  },
  {
   "cell_type": "code",
   "execution_count": 27,
   "id": "9d2222ad-6598-4943-8d85-c86f2383135b",
   "metadata": {},
   "outputs": [
    {
     "data": {
      "text/plain": [
       "25.0"
      ]
     },
     "execution_count": 27,
     "metadata": {},
     "output_type": "execute_result"
    }
   ],
   "source": [
    "ords_prods_merge['prices'].max()"
   ]
  },
  {
   "cell_type": "code",
   "execution_count": 28,
   "id": "fd1218b2-9a96-4ada-ab41-720e8b65ad22",
   "metadata": {},
   "outputs": [
    {
     "data": {
      "image/png": "[encoded data removed]",
      "text/plain": [
       "<Figure size 640x480 with 1 Axes>"
      ]
     },
     "metadata": {},
     "output_type": "display_data"
    }
   ],
   "source": [
    "hist = ords_prods_merge['prices'].plot.hist(bins = 25)"
   ]
  },
  {
   "cell_type": "code",
   "execution_count": 29,
   "id": "8bab6617-fd36-42bc-a18a-9988aec97848",
   "metadata": {},
   "outputs": [
    {
     "data": {
      "image/png": "[encoded data removed]",
      "text/plain": [
       "<Figure size 640x480 with 1 Axes>"
      ]
     },
     "metadata": {},
     "output_type": "display_data"
    }
   ],
   "source": [
    "hist = ords_prods_merge['prices'].plot.hist(bins = 70)"
   ]
  },
  {
   "cell_type": "code",
   "execution_count": 30,
   "id": "33181809-ced8-4ff7-b225-4ea9c6bce376",
   "metadata": {},
   "outputs": [],
   "source": [
    "df = ords_prods_merge[:2000000]"
   ]
  },
  {
   "cell_type": "code",
   "execution_count": 31,
   "id": "d73e2ce3-3ab5-4870-8be5-90a46f447a01",
   "metadata": {},
   "outputs": [],
   "source": [
    "np.random.seed(4)\n",
    "dev = np.random.rand(len(ords_prods_merge)) <= 0.7"
   ]
  },
  {
   "cell_type": "code",
   "execution_count": 32,
   "id": "28ad6af5-684a-4dba-86dc-b083ed100fb0",
   "metadata": {},
   "outputs": [],
   "source": [
    "big = ords_prods_merge[dev]"
   ]
  },
  {
   "cell_type": "code",
   "execution_count": 33,
   "id": "4357d2d7-5e38-41b9-a932-cd6c296ab9a2",
   "metadata": {},
   "outputs": [],
   "source": [
    "small = ords_prods_merge[~dev]"
   ]
  },
  {
   "cell_type": "code",
   "execution_count": 34,
   "id": "eb695fae-05b4-4946-b921-07e7d5ecce5e",
   "metadata": {},
   "outputs": [
    {
     "data": {
      "text/plain": [
       "32434212"
      ]
     },
     "execution_count": 34,
     "metadata": {},
     "output_type": "execute_result"
    }
   ],
   "source": [
    "len(ords_prods_merge)"
   ]
  },
  {
   "cell_type": "code",
   "execution_count": 35,
   "id": "7f5b6e17-914a-4ea8-a641-64f03bf72199",
   "metadata": {},
   "outputs": [
    {
     "data": {
      "text/plain": [
       "32434212"
      ]
     },
     "execution_count": 35,
     "metadata": {},
     "output_type": "execute_result"
    }
   ],
   "source": [
    "len(big) + len(small)"
   ]
  },
  {
   "cell_type": "code",
   "execution_count": 36,
   "id": "6225ca63-00e4-4b3a-b699-8abfef07881f",
   "metadata": {},
   "outputs": [],
   "source": [
    "df_2 = small[['order_dow','prices']]"
   ]
  },
  {
   "cell_type": "code",
   "execution_count": 37,
   "id": "315afdae-a960-4997-ad13-46b541b7c30e",
   "metadata": {},
   "outputs": [
    {
     "data": {
      "image/png": "[encoded data removed]",
      "text/plain": [
       "<Figure size 640x480 with 1 Axes>"
      ]
     },
     "metadata": {},
     "output_type": "display_data"
    }
   ],
   "source": [
    "line = sns.lineplot(data = df_2, x = 'order_dow',y = 'prices')"
   ]
  },
  {
   "cell_type": "code",
   "execution_count": 38,
   "id": "e19c75b0-1ac5-4b70-a72c-64002033d56d",
   "metadata": {},
   "outputs": [],
   "source": [
    "line.figure.savefig(os.path.join(path, 'Analysis','Visualizations', 'line_plot_small_sample.png'))"
   ]
  }
 ],
 "metadata": {
  "kernelspec": {
   "display_name": "Python 3 (ipykernel)",
   "language": "python",
   "name": "python3"
  },
  "language_info": {
   "codemirror_mode": {
    "name": "ipython",
    "version": 3
   },
   "file_extension": ".py",
   "mimetype": "text/x-python",
   "name": "python",
   "nbconvert_exporter": "python",
   "pygments_lexer": "ipython3",
   "version": "3.12.4"
  }
 },
 "nbformat": 4,
 "nbformat_minor": 5
}
