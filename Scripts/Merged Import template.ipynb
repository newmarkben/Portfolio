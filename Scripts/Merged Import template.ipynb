{
 "cells": [
  {
   "cell_type": "markdown",
   "id": "a177c79b-5b5a-4a61-8985-6afe07559a8b",
   "metadata": {},
   "source": [
    "# Importing Data"
   ]
  },
  {
   "cell_type": "code",
   "execution_count": 1,
   "id": "d50bbeb1-3527-4d13-a453-18a869cfaf30",
   "metadata": {},
   "outputs": [],
   "source": [
    "# import libraries\n",
    "import pandas as pd\n",
    "import numpy as np\n",
    "import os"
   ]
  },
  {
   "cell_type": "code",
   "execution_count": 2,
   "id": "35e23734-5d9c-4437-8e9b-6e7a5c727e4b",
   "metadata": {},
   "outputs": [],
   "source": [
    "path = r'C:\\Users\\Oa\\Career Foundry\\Data'"
   ]
  },
  {
   "cell_type": "code",
   "execution_count": 3,
   "id": "b2100736-2fdf-4a3e-9b51-c74f56022d9a",
   "metadata": {},
   "outputs": [],
   "source": [
    "df_ords_prods_merge = pd.read_pickle(os.path.join(path, 'Prepared Data', 'merged_4.7.pkl'))"
   ]
  }
 ],
 "metadata": {
  "kernelspec": {
   "display_name": "Python 3 (ipykernel)",
   "language": "python",
   "name": "python3"
  },
  "language_info": {
   "codemirror_mode": {
    "name": "ipython",
    "version": 3
   },
   "file_extension": ".py",
   "mimetype": "text/x-python",
   "name": "python",
   "nbconvert_exporter": "python",
   "pygments_lexer": "ipython3",
   "version": "3.12.4"
  }
 },
 "nbformat": 4,
 "nbformat_minor": 5
}
